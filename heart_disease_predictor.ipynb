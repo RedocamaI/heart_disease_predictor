{
 "cells": [
  {
   "cell_type": "markdown",
   "id": "ba548d6b",
   "metadata": {},
   "source": [
    "# Heart Disease Predictor"
   ]
  },
  {
   "cell_type": "markdown",
   "id": "f35b64fc",
   "metadata": {},
   "source": [
    "- This *new_data* branch is for improving this model.\n",
    "- I need to know more about this dataset and make my Data Science practices more clear, easy to understand, and more robust."
   ]
  },
  {
   "cell_type": "code",
   "execution_count": 1,
   "id": "09161f3a",
   "metadata": {},
   "outputs": [],
   "source": [
    "import pandas as pd\n",
    "import numpy as np\n",
    "import seaborn as sns\n",
    "import matplotlib.pyplot as plt\n",
    "from sklearn.model_selection import train_test_split\n",
    "from sklearn.linear_model import LogisticRegression\n",
    "from sklearn.metrics import confusion_matrix\n",
    "from sklearn.preprocessing import StandardScaler\n",
    "from sklearn.impute import SimpleImputer"
   ]
  },
  {
   "cell_type": "markdown",
   "id": "b5d5ec10",
   "metadata": {},
   "source": [
    "#### Life cycle of a Data Science project:\n",
    "- Data Collection\n",
    "- EDA\n",
    "- Data Preprocessing\n",
    "- Feature Engineering\n",
    "- Model building and evaluation\n",
    "- Model deployment"
   ]
  },
  {
   "cell_type": "markdown",
   "id": "5280dedc",
   "metadata": {},
   "source": [
    "## Data Collection"
   ]
  },
  {
   "cell_type": "code",
   "execution_count": 2,
   "id": "547137db",
   "metadata": {},
   "outputs": [],
   "source": [
    "data = pd.read_csv('./data/framingham.csv')"
   ]
  },
  {
   "cell_type": "code",
   "execution_count": 3,
   "id": "c651bf29",
   "metadata": {},
   "outputs": [
    {
     "data": {
      "text/plain": [
       "(4238, 16)"
      ]
     },
     "execution_count": 3,
     "metadata": {},
     "output_type": "execute_result"
    }
   ],
   "source": [
    "data.shape"
   ]
  },
  {
   "cell_type": "code",
   "execution_count": 4,
   "id": "8a1900e4",
   "metadata": {},
   "outputs": [
    {
     "name": "stdout",
     "output_type": "stream",
     "text": [
      "<class 'pandas.core.frame.DataFrame'>\n",
      "RangeIndex: 4238 entries, 0 to 4237\n",
      "Data columns (total 16 columns):\n",
      " #   Column           Non-Null Count  Dtype  \n",
      "---  ------           --------------  -----  \n",
      " 0   male             4238 non-null   int64  \n",
      " 1   age              4238 non-null   int64  \n",
      " 2   education        4133 non-null   float64\n",
      " 3   currentSmoker    4238 non-null   int64  \n",
      " 4   cigsPerDay       4209 non-null   float64\n",
      " 5   BPMeds           4185 non-null   float64\n",
      " 6   prevalentStroke  4238 non-null   int64  \n",
      " 7   prevalentHyp     4238 non-null   int64  \n",
      " 8   diabetes         4238 non-null   int64  \n",
      " 9   totChol          4188 non-null   float64\n",
      " 10  sysBP            4238 non-null   float64\n",
      " 11  diaBP            4238 non-null   float64\n",
      " 12  BMI              4219 non-null   float64\n",
      " 13  heartRate        4237 non-null   float64\n",
      " 14  glucose          3850 non-null   float64\n",
      " 15  TenYearCHD       4238 non-null   int64  \n",
      "dtypes: float64(9), int64(7)\n",
      "memory usage: 529.9 KB\n"
     ]
    }
   ],
   "source": [
    "data.info()"
   ]
  },
  {
   "cell_type": "markdown",
   "id": "95e4be1f",
   "metadata": {},
   "source": [
    "## EDA"
   ]
  },
  {
   "cell_type": "code",
   "execution_count": 5,
   "id": "3d8b8770",
   "metadata": {},
   "outputs": [
    {
     "data": {
      "text/html": [
       "<div>\n",
       "<style scoped>\n",
       "    .dataframe tbody tr th:only-of-type {\n",
       "        vertical-align: middle;\n",
       "    }\n",
       "\n",
       "    .dataframe tbody tr th {\n",
       "        vertical-align: top;\n",
       "    }\n",
       "\n",
       "    .dataframe thead th {\n",
       "        text-align: right;\n",
       "    }\n",
       "</style>\n",
       "<table border=\"1\" class=\"dataframe\">\n",
       "  <thead>\n",
       "    <tr style=\"text-align: right;\">\n",
       "      <th></th>\n",
       "      <th>male</th>\n",
       "      <th>age</th>\n",
       "      <th>education</th>\n",
       "      <th>currentSmoker</th>\n",
       "      <th>cigsPerDay</th>\n",
       "      <th>BPMeds</th>\n",
       "      <th>prevalentStroke</th>\n",
       "      <th>prevalentHyp</th>\n",
       "      <th>diabetes</th>\n",
       "      <th>totChol</th>\n",
       "      <th>sysBP</th>\n",
       "      <th>diaBP</th>\n",
       "      <th>BMI</th>\n",
       "      <th>heartRate</th>\n",
       "      <th>glucose</th>\n",
       "      <th>TenYearCHD</th>\n",
       "    </tr>\n",
       "  </thead>\n",
       "  <tbody>\n",
       "    <tr>\n",
       "      <th>0</th>\n",
       "      <td>1</td>\n",
       "      <td>39</td>\n",
       "      <td>4.0</td>\n",
       "      <td>0</td>\n",
       "      <td>0.0</td>\n",
       "      <td>0.0</td>\n",
       "      <td>0</td>\n",
       "      <td>0</td>\n",
       "      <td>0</td>\n",
       "      <td>195.0</td>\n",
       "      <td>106.0</td>\n",
       "      <td>70.0</td>\n",
       "      <td>26.97</td>\n",
       "      <td>80.0</td>\n",
       "      <td>77.0</td>\n",
       "      <td>0</td>\n",
       "    </tr>\n",
       "    <tr>\n",
       "      <th>1</th>\n",
       "      <td>0</td>\n",
       "      <td>46</td>\n",
       "      <td>2.0</td>\n",
       "      <td>0</td>\n",
       "      <td>0.0</td>\n",
       "      <td>0.0</td>\n",
       "      <td>0</td>\n",
       "      <td>0</td>\n",
       "      <td>0</td>\n",
       "      <td>250.0</td>\n",
       "      <td>121.0</td>\n",
       "      <td>81.0</td>\n",
       "      <td>28.73</td>\n",
       "      <td>95.0</td>\n",
       "      <td>76.0</td>\n",
       "      <td>0</td>\n",
       "    </tr>\n",
       "    <tr>\n",
       "      <th>2</th>\n",
       "      <td>1</td>\n",
       "      <td>48</td>\n",
       "      <td>1.0</td>\n",
       "      <td>1</td>\n",
       "      <td>20.0</td>\n",
       "      <td>0.0</td>\n",
       "      <td>0</td>\n",
       "      <td>0</td>\n",
       "      <td>0</td>\n",
       "      <td>245.0</td>\n",
       "      <td>127.5</td>\n",
       "      <td>80.0</td>\n",
       "      <td>25.34</td>\n",
       "      <td>75.0</td>\n",
       "      <td>70.0</td>\n",
       "      <td>0</td>\n",
       "    </tr>\n",
       "    <tr>\n",
       "      <th>3</th>\n",
       "      <td>0</td>\n",
       "      <td>61</td>\n",
       "      <td>3.0</td>\n",
       "      <td>1</td>\n",
       "      <td>30.0</td>\n",
       "      <td>0.0</td>\n",
       "      <td>0</td>\n",
       "      <td>1</td>\n",
       "      <td>0</td>\n",
       "      <td>225.0</td>\n",
       "      <td>150.0</td>\n",
       "      <td>95.0</td>\n",
       "      <td>28.58</td>\n",
       "      <td>65.0</td>\n",
       "      <td>103.0</td>\n",
       "      <td>1</td>\n",
       "    </tr>\n",
       "    <tr>\n",
       "      <th>4</th>\n",
       "      <td>0</td>\n",
       "      <td>46</td>\n",
       "      <td>3.0</td>\n",
       "      <td>1</td>\n",
       "      <td>23.0</td>\n",
       "      <td>0.0</td>\n",
       "      <td>0</td>\n",
       "      <td>0</td>\n",
       "      <td>0</td>\n",
       "      <td>285.0</td>\n",
       "      <td>130.0</td>\n",
       "      <td>84.0</td>\n",
       "      <td>23.10</td>\n",
       "      <td>85.0</td>\n",
       "      <td>85.0</td>\n",
       "      <td>0</td>\n",
       "    </tr>\n",
       "  </tbody>\n",
       "</table>\n",
       "</div>"
      ],
      "text/plain": [
       "   male  age  education  currentSmoker  cigsPerDay  BPMeds  prevalentStroke  \\\n",
       "0     1   39        4.0              0         0.0     0.0                0   \n",
       "1     0   46        2.0              0         0.0     0.0                0   \n",
       "2     1   48        1.0              1        20.0     0.0                0   \n",
       "3     0   61        3.0              1        30.0     0.0                0   \n",
       "4     0   46        3.0              1        23.0     0.0                0   \n",
       "\n",
       "   prevalentHyp  diabetes  totChol  sysBP  diaBP    BMI  heartRate  glucose  \\\n",
       "0             0         0    195.0  106.0   70.0  26.97       80.0     77.0   \n",
       "1             0         0    250.0  121.0   81.0  28.73       95.0     76.0   \n",
       "2             0         0    245.0  127.5   80.0  25.34       75.0     70.0   \n",
       "3             1         0    225.0  150.0   95.0  28.58       65.0    103.0   \n",
       "4             0         0    285.0  130.0   84.0  23.10       85.0     85.0   \n",
       "\n",
       "   TenYearCHD  \n",
       "0           0  \n",
       "1           0  \n",
       "2           0  \n",
       "3           1  \n",
       "4           0  "
      ]
     },
     "execution_count": 5,
     "metadata": {},
     "output_type": "execute_result"
    }
   ],
   "source": [
    "data.head()"
   ]
  },
  {
   "cell_type": "markdown",
   "id": "e830df9b",
   "metadata": {},
   "source": [
    "- Check for duplicated data."
   ]
  },
  {
   "cell_type": "code",
   "execution_count": 40,
   "id": "755b1349",
   "metadata": {},
   "outputs": [
    {
     "data": {
      "text/plain": [
       "0"
      ]
     },
     "execution_count": 40,
     "metadata": {},
     "output_type": "execute_result"
    }
   ],
   "source": [
    "data_duplicates = data.duplicated()\n",
    "data_duplicates.sum()"
   ]
  },
  {
   "cell_type": "markdown",
   "id": "bf568221",
   "metadata": {},
   "source": [
    "- there are **NO** duplicates in the dataset.\n",
    "- Below is a python function to list unique values"
   ]
  },
  {
   "cell_type": "code",
   "execution_count": 47,
   "id": "56e00dbd",
   "metadata": {},
   "outputs": [],
   "source": [
    "def unique_vals(col):\n",
    "    return list(col.unique())"
   ]
  },
  {
   "cell_type": "markdown",
   "id": "7e843839",
   "metadata": {},
   "source": [
    "- Python function to count unique vals in a feature"
   ]
  },
  {
   "cell_type": "code",
   "execution_count": 48,
   "id": "a7775075",
   "metadata": {},
   "outputs": [],
   "source": [
    "def count_unique_vals(col):\n",
    "    unique_vals = {}\n",
    "    for i in col:\n",
    "        if np.isnan(i):\n",
    "            continue\n",
    "        if i not in unique_vals:\n",
    "            unique_vals[i] = 1\n",
    "        else:\n",
    "            unique_vals[i] += 1\n",
    "    return unique_vals"
   ]
  },
  {
   "cell_type": "markdown",
   "id": "69cd114d",
   "metadata": {},
   "source": [
    "- Check if we have imbalanced dataset"
   ]
  },
  {
   "cell_type": "code",
   "execution_count": 49,
   "id": "560e1e5c",
   "metadata": {},
   "outputs": [
    {
     "data": {
      "text/plain": [
       "{0: 3594, 1: 644}"
      ]
     },
     "execution_count": 49,
     "metadata": {},
     "output_type": "execute_result"
    }
   ],
   "source": [
    "count_unique_vals(data['TenYearCHD'])"
   ]
  },
  {
   "cell_type": "code",
   "execution_count": 50,
   "id": "63389cb1",
   "metadata": {},
   "outputs": [
    {
     "data": {
      "text/plain": [
       "<AxesSubplot:xlabel='TenYearCHD', ylabel='Count'>"
      ]
     },
     "execution_count": 50,
     "metadata": {},
     "output_type": "execute_result"
    },
    {
     "data": {
      "image/png": "[encoded data removed]",
      "text/plain": [
       "<Figure size 432x288 with 1 Axes>"
      ]
     },
     "metadata": {
      "needs_background": "light"
     },
     "output_type": "display_data"
    }
   ],
   "source": [
    "sns.histplot(x=data['TenYearCHD'], kde=True)"
   ]
  },
  {
   "cell_type": "markdown",
   "id": "ad0b985a",
   "metadata": {},
   "source": [
    "- So, the above dataset is imbalanced. If we train the binary classification without fixing this issue, our model will be completely biased.\n",
    "- this would also impact our feature correlation.\n",
    "- So, let's handel this first."
   ]
  },
  {
   "cell_type": "markdown",
   "id": "ddc821fa",
   "metadata": {},
   "source": [
    "##### Handling imbalanced dataset"
   ]
  },
  {
   "cell_type": "code",
   "execution_count": null,
   "id": "e2487b51",
   "metadata": {},
   "outputs": [],
   "source": []
  },
  {
   "cell_type": "code",
   "execution_count": null,
   "id": "bcbe6864",
   "metadata": {},
   "outputs": [],
   "source": []
  },
  {
   "cell_type": "code",
   "execution_count": null,
   "id": "a609428f",
   "metadata": {},
   "outputs": [],
   "source": []
  },
  {
   "cell_type": "code",
   "execution_count": null,
   "id": "9a10e2ce",
   "metadata": {},
   "outputs": [],
   "source": []
  },
  {
   "cell_type": "markdown",
   "id": "81e104be",
   "metadata": {},
   "source": [
    "---"
   ]
  },
  {
   "cell_type": "markdown",
   "id": "a38812b5",
   "metadata": {},
   "source": [
    "## Split"
   ]
  },
  {
   "cell_type": "code",
   "execution_count": 6,
   "id": "43957339",
   "metadata": {},
   "outputs": [],
   "source": [
    "X_train, X_test, y_train, y_test = train_test_split(data.drop('TenYearCHD', axis=1), data['TenYearCHD'], test_size=0.3, random_state=0)"
   ]
  },
  {
   "cell_type": "markdown",
   "id": "11d1ff77",
   "metadata": {},
   "source": [
    "- explore train and test data:"
   ]
  },
  {
   "cell_type": "code",
   "execution_count": 7,
   "id": "b3a03d28",
   "metadata": {},
   "outputs": [
    {
     "name": "stdout",
     "output_type": "stream",
     "text": [
      "X_train.shape= (2966, 15) \n",
      "X_test.shape= (1272, 15)\n"
     ]
    }
   ],
   "source": [
    "print('X_train.shape=', X_train.shape, '\\nX_test.shape=', X_test.shape)"
   ]
  },
  {
   "cell_type": "markdown",
   "id": "8db4f25d",
   "metadata": {},
   "source": [
    "Overview of the following procedure:\n",
    "1. perform **imputation** on both train & test data seperately.\n",
    "2. perform **EDA**, **preprocessing**, and **feature engineering** on the train data.\n",
    "3. perform **preprocessing** on the test data as well, so that it can be a valid information for the model.\n",
    "4. build model using train data.\n",
    "5. test it's accuracy using test data: this will be the final accuracy of the model."
   ]
  },
  {
   "cell_type": "code",
   "execution_count": 8,
   "id": "947c14a2",
   "metadata": {},
   "outputs": [
    {
     "data": {
      "text/plain": [
       "male                 0\n",
       "age                  0\n",
       "education           72\n",
       "currentSmoker        0\n",
       "cigsPerDay          26\n",
       "BPMeds              39\n",
       "prevalentStroke      0\n",
       "prevalentHyp         0\n",
       "diabetes             0\n",
       "totChol             41\n",
       "sysBP                0\n",
       "diaBP                0\n",
       "BMI                 16\n",
       "heartRate            1\n",
       "glucose            267\n",
       "dtype: int64"
      ]
     },
     "execution_count": 8,
     "metadata": {},
     "output_type": "execute_result"
    }
   ],
   "source": [
    "X_train.isnull().sum()"
   ]
  },
  {
   "cell_type": "code",
   "execution_count": 9,
   "id": "71cba581",
   "metadata": {},
   "outputs": [
    {
     "data": {
      "text/plain": [
       "male                 0\n",
       "age                  0\n",
       "education           33\n",
       "currentSmoker        0\n",
       "cigsPerDay           3\n",
       "BPMeds              14\n",
       "prevalentStroke      0\n",
       "prevalentHyp         0\n",
       "diabetes             0\n",
       "totChol              9\n",
       "sysBP                0\n",
       "diaBP                0\n",
       "BMI                  3\n",
       "heartRate            0\n",
       "glucose            121\n",
       "dtype: int64"
      ]
     },
     "execution_count": 9,
     "metadata": {},
     "output_type": "execute_result"
    }
   ],
   "source": [
    "X_test.isnull().sum()"
   ]
  },
  {
   "cell_type": "markdown",
   "id": "dc3c23dd",
   "metadata": {},
   "source": [
    "- visualize the *null values*"
   ]
  },
  {
   "cell_type": "code",
   "execution_count": 10,
   "id": "f2f4c435",
   "metadata": {},
   "outputs": [
    {
     "data": {
      "text/plain": [
       "<AxesSubplot:>"
      ]
     },
     "execution_count": 10,
     "metadata": {},
     "output_type": "execute_result"
    },
    {
     "data": {
      "image/png": "[encoded data removed]",
      "text/plain": [
       "<Figure size 432x288 with 1 Axes>"
      ]
     },
     "metadata": {
      "needs_background": "light"
     },
     "output_type": "display_data"
    }
   ],
   "source": [
    "sns.heatmap(X_train.isnull(), cbar=False)"
   ]
  },
  {
   "cell_type": "code",
   "execution_count": 11,
   "id": "4553ae7d",
   "metadata": {},
   "outputs": [
    {
     "data": {
      "text/plain": [
       "<AxesSubplot:>"
      ]
     },
     "execution_count": 11,
     "metadata": {},
     "output_type": "execute_result"
    },
    {
     "data": {
      "image/png": "[encoded data removed]",
      "text/plain": [
       "<Figure size 432x288 with 1 Axes>"
      ]
     },
     "metadata": {
      "needs_background": "light"
     },
     "output_type": "display_data"
    }
   ],
   "source": [
    "sns.heatmap(X_test.isnull(), cbar=False)"
   ]
  },
  {
   "cell_type": "markdown",
   "id": "8edfa3f4",
   "metadata": {},
   "source": [
    "- There are some features having null values so, we need to perform imputation in the train dataset.\n",
    "- why inputation? why not delete the feature itself?\n",
    "    - because none of the feature contains more than half null values, infact the maximum null values contained is in *glucose* feature which is 267/2966 = 0.09 or *9%* approx on train data and 121/1272 = 0.095 or *9.5%* approx on test data."
   ]
  },
  {
   "cell_type": "markdown",
   "id": "86fc94e8",
   "metadata": {},
   "source": [
    "- all unique values of education"
   ]
  },
  {
   "cell_type": "code",
   "execution_count": 14,
   "id": "197849ab",
   "metadata": {},
   "outputs": [
    {
     "data": {
      "text/plain": [
       "[1.0, 2.0, 3.0, 4.0, nan]"
      ]
     },
     "execution_count": 14,
     "metadata": {},
     "output_type": "execute_result"
    }
   ],
   "source": [
    "unique_vals(X_train.education)"
   ]
  },
  {
   "cell_type": "markdown",
   "id": "2572aeb0",
   "metadata": {},
   "source": [
    "- what impact would **education** have on Ten-year-coronary-heart-disease?\n",
    "- **NO** impact right?\n",
    "- So, it's just right to drop this feature itself.\n",
    "- let's drop it."
   ]
  },
  {
   "cell_type": "code",
   "execution_count": 15,
   "id": "6771a53c",
   "metadata": {},
   "outputs": [
    {
     "data": {
      "text/html": [
       "<div>\n",
       "<style scoped>\n",
       "    .dataframe tbody tr th:only-of-type {\n",
       "        vertical-align: middle;\n",
       "    }\n",
       "\n",
       "    .dataframe tbody tr th {\n",
       "        vertical-align: top;\n",
       "    }\n",
       "\n",
       "    .dataframe thead th {\n",
       "        text-align: right;\n",
       "    }\n",
       "</style>\n",
       "<table border=\"1\" class=\"dataframe\">\n",
       "  <thead>\n",
       "    <tr style=\"text-align: right;\">\n",
       "      <th></th>\n",
       "      <th>male</th>\n",
       "      <th>age</th>\n",
       "      <th>currentSmoker</th>\n",
       "      <th>cigsPerDay</th>\n",
       "      <th>BPMeds</th>\n",
       "      <th>prevalentStroke</th>\n",
       "      <th>prevalentHyp</th>\n",
       "      <th>diabetes</th>\n",
       "      <th>totChol</th>\n",
       "      <th>sysBP</th>\n",
       "      <th>diaBP</th>\n",
       "      <th>BMI</th>\n",
       "      <th>heartRate</th>\n",
       "      <th>glucose</th>\n",
       "    </tr>\n",
       "  </thead>\n",
       "  <tbody>\n",
       "    <tr>\n",
       "      <th>264</th>\n",
       "      <td>1</td>\n",
       "      <td>57</td>\n",
       "      <td>0</td>\n",
       "      <td>0.0</td>\n",
       "      <td>0.0</td>\n",
       "      <td>0</td>\n",
       "      <td>1</td>\n",
       "      <td>0</td>\n",
       "      <td>176.0</td>\n",
       "      <td>134.0</td>\n",
       "      <td>97.0</td>\n",
       "      <td>38.14</td>\n",
       "      <td>68.0</td>\n",
       "      <td>94.0</td>\n",
       "    </tr>\n",
       "    <tr>\n",
       "      <th>385</th>\n",
       "      <td>1</td>\n",
       "      <td>39</td>\n",
       "      <td>0</td>\n",
       "      <td>0.0</td>\n",
       "      <td>0.0</td>\n",
       "      <td>0</td>\n",
       "      <td>0</td>\n",
       "      <td>0</td>\n",
       "      <td>235.0</td>\n",
       "      <td>120.0</td>\n",
       "      <td>80.0</td>\n",
       "      <td>27.23</td>\n",
       "      <td>62.0</td>\n",
       "      <td>87.0</td>\n",
       "    </tr>\n",
       "    <tr>\n",
       "      <th>2564</th>\n",
       "      <td>1</td>\n",
       "      <td>54</td>\n",
       "      <td>0</td>\n",
       "      <td>0.0</td>\n",
       "      <td>0.0</td>\n",
       "      <td>0</td>\n",
       "      <td>1</td>\n",
       "      <td>0</td>\n",
       "      <td>207.0</td>\n",
       "      <td>146.0</td>\n",
       "      <td>98.0</td>\n",
       "      <td>23.63</td>\n",
       "      <td>65.0</td>\n",
       "      <td>91.0</td>\n",
       "    </tr>\n",
       "    <tr>\n",
       "      <th>3787</th>\n",
       "      <td>0</td>\n",
       "      <td>49</td>\n",
       "      <td>0</td>\n",
       "      <td>0.0</td>\n",
       "      <td>0.0</td>\n",
       "      <td>0</td>\n",
       "      <td>0</td>\n",
       "      <td>0</td>\n",
       "      <td>203.0</td>\n",
       "      <td>125.0</td>\n",
       "      <td>70.0</td>\n",
       "      <td>22.52</td>\n",
       "      <td>72.0</td>\n",
       "      <td>NaN</td>\n",
       "    </tr>\n",
       "    <tr>\n",
       "      <th>4139</th>\n",
       "      <td>0</td>\n",
       "      <td>53</td>\n",
       "      <td>0</td>\n",
       "      <td>0.0</td>\n",
       "      <td>NaN</td>\n",
       "      <td>0</td>\n",
       "      <td>0</td>\n",
       "      <td>0</td>\n",
       "      <td>252.0</td>\n",
       "      <td>122.5</td>\n",
       "      <td>75.5</td>\n",
       "      <td>25.29</td>\n",
       "      <td>75.0</td>\n",
       "      <td>71.0</td>\n",
       "    </tr>\n",
       "  </tbody>\n",
       "</table>\n",
       "</div>"
      ],
      "text/plain": [
       "      male  age  currentSmoker  cigsPerDay  BPMeds  prevalentStroke  \\\n",
       "264      1   57              0         0.0     0.0                0   \n",
       "385      1   39              0         0.0     0.0                0   \n",
       "2564     1   54              0         0.0     0.0                0   \n",
       "3787     0   49              0         0.0     0.0                0   \n",
       "4139     0   53              0         0.0     NaN                0   \n",
       "\n",
       "      prevalentHyp  diabetes  totChol  sysBP  diaBP    BMI  heartRate  glucose  \n",
       "264              1         0    176.0  134.0   97.0  38.14       68.0     94.0  \n",
       "385              0         0    235.0  120.0   80.0  27.23       62.0     87.0  \n",
       "2564             1         0    207.0  146.0   98.0  23.63       65.0     91.0  \n",
       "3787             0         0    203.0  125.0   70.0  22.52       72.0      NaN  \n",
       "4139             0         0    252.0  122.5   75.5  25.29       75.0     71.0  "
      ]
     },
     "execution_count": 15,
     "metadata": {},
     "output_type": "execute_result"
    }
   ],
   "source": [
    "X_train.drop('education', axis=1, inplace=True)\n",
    "X_test.drop('education', axis=1, inplace=True)\n",
    "X_train.head()"
   ]
  },
  {
   "cell_type": "markdown",
   "id": "4b3b29a8",
   "metadata": {},
   "source": [
    "- in order to perform successfull imputation, without much affecting the dataset, we'll have to categorize those features having null values as **categorical/nominal** or **continuous**.\n",
    "- referring from the description given for the dataset it's visible that:\n",
    "    - cigsPerDay, totChol, BMI, heartRate, glucose are **continuous** features.\n",
    "    - BPMeds is a **nominal** feature.\n",
    "- Handlling missing values:\n",
    "    1. for nominal feature: replace with the most frequent value.\n",
    "    2. for continuous features: perform mean/median imputation."
   ]
  },
  {
   "cell_type": "markdown",
   "id": "92156c8e",
   "metadata": {},
   "source": [
    "Distribution of **BPMeds** in the train dataset:"
   ]
  },
  {
   "cell_type": "code",
   "execution_count": 16,
   "id": "99ec4f59",
   "metadata": {},
   "outputs": [
    {
     "data": {
      "text/plain": [
       "<AxesSubplot:xlabel='BPMeds', ylabel='Count'>"
      ]
     },
     "execution_count": 16,
     "metadata": {},
     "output_type": "execute_result"
    },
    {
     "data": {
      "image/png": "[encoded data removed]",
      "text/plain": [
       "<Figure size 432x288 with 1 Axes>"
      ]
     },
     "metadata": {
      "needs_background": "light"
     },
     "output_type": "display_data"
    }
   ],
   "source": [
    "sns.histplot(X_train.BPMeds)"
   ]
  },
  {
   "cell_type": "markdown",
   "id": "c6b97fcf",
   "metadata": {},
   "source": [
    "- count unique vals before imputation"
   ]
  },
  {
   "cell_type": "code",
   "execution_count": 17,
   "id": "8325c473",
   "metadata": {},
   "outputs": [
    {
     "name": "stdout",
     "output_type": "stream",
     "text": [
      "X_train:  {0.0: 2847, 1.0: 80} \n",
      "X_test:  {0.0: 1214, 1.0: 44}\n"
     ]
    }
   ],
   "source": [
    "print('X_train: ', count_unique_vals(X_train.BPMeds), '\\nX_test: ', count_unique_vals(X_test.BPMeds))"
   ]
  },
  {
   "cell_type": "markdown",
   "id": "6300e8f7",
   "metadata": {},
   "source": [
    "- most frequent value is **0**\n",
    "- let's impute it's mode."
   ]
  },
  {
   "cell_type": "code",
   "execution_count": 18,
   "id": "0469d2dc",
   "metadata": {},
   "outputs": [
    {
     "name": "stdout",
     "output_type": "stream",
     "text": [
      "X_train: 0 \n",
      "X_test: 0\n"
     ]
    }
   ],
   "source": [
    "X_train['BPMeds'].fillna(X_train.iloc[4].mode().item(), inplace=True)\n",
    "X_test['BPMeds'].fillna(X_test.iloc[4].mode().item(), inplace=True)\n",
    "print('X_train:', X_train['BPMeds'].isnull().sum(), '\\nX_test:', X_test['BPMeds'].isnull().sum())"
   ]
  },
  {
   "cell_type": "code",
   "execution_count": 19,
   "id": "fe73428f",
   "metadata": {},
   "outputs": [
    {
     "name": "stdout",
     "output_type": "stream",
     "text": [
      "X_train:  {0.0: 2886, 1.0: 80} \n",
      "X_test:  {0.0: 1228, 1.0: 44}\n"
     ]
    }
   ],
   "source": [
    "print('X_train: ', count_unique_vals(X_train.BPMeds), '\\nX_test: ', count_unique_vals(X_test.BPMeds))"
   ]
  },
  {
   "cell_type": "markdown",
   "id": "53a34ee9",
   "metadata": {},
   "source": [
    "- So, the missing values of BPMeds are handlled.\n",
    "- *Nominal value imputation is complete!*\n",
    "- Now imputing continuous values!"
   ]
  },
  {
   "cell_type": "code",
   "execution_count": 20,
   "metadata": {},
   "outputs": [
    {
     "data": {
      "text/plain": [
       "male                 0\n",
       "age                  0\n",
       "currentSmoker        0\n",
       "cigsPerDay          26\n",
       "BPMeds               0\n",
       "prevalentStroke      0\n",
       "prevalentHyp         0\n",
       "diabetes             0\n",
       "totChol             41\n",
       "sysBP                0\n",
       "diaBP                0\n",
       "BMI                 16\n",
       "heartRate            1\n",
       "glucose            267\n",
       "dtype: int64"
      ]
     },
     "execution_count": 20,
     "metadata": {},
     "output_type": "execute_result"
    }
   ],
   "source": [
    "X_train.isnull().sum()"
   ]
  },
  {
   "cell_type": "code",
   "execution_count": 21,
   "id": "2660fe3f",
   "metadata": {},
   "outputs": [
    {
     "data": {
      "text/plain": [
       "male                 0\n",
       "age                  0\n",
       "currentSmoker        0\n",
       "cigsPerDay           3\n",
       "BPMeds               0\n",
       "prevalentStroke      0\n",
       "prevalentHyp         0\n",
       "diabetes             0\n",
       "totChol              9\n",
       "sysBP                0\n",
       "diaBP                0\n",
       "BMI                  3\n",
       "heartRate            0\n",
       "glucose            121\n",
       "dtype: int64"
      ]
     },
     "execution_count": 21,
     "metadata": {},
     "output_type": "execute_result"
    }
   ],
   "source": [
    "X_test.isnull().sum()"
   ]
  },
  {
   "cell_type": "markdown",
   "id": "332005a7",
   "metadata": {},
   "source": [
    "- filling missing values in **continuous** variables."
   ]
  },
  {
   "cell_type": "code",
   "execution_count": 22,
   "id": "f748aa8f",
   "metadata": {},
   "outputs": [],
   "source": [
    "imputer = SimpleImputer(missing_values=np.nan, strategy='mean')\n",
    "imputed_X_train = pd.DataFrame(imputer.fit_transform(X_train))\n",
    "imputed_X_test = pd.DataFrame(imputer.transform(X_test))\n",
    "\n",
    "# imputation removed column names: putting them back\n",
    "imputed_X_train.columns = X_train.columns\n",
    "imputed_X_test.columns = X_test.columns"
   ]
  },
  {
   "cell_type": "code",
   "execution_count": 23,
   "id": "45a84c08",
   "metadata": {},
   "outputs": [
    {
     "data": {
      "text/plain": [
       "<AxesSubplot:>"
      ]
     },
     "execution_count": 23,
     "metadata": {},
     "output_type": "execute_result"
    },
    {
     "data": {
      "image/png": "[encoded data removed]",
      "text/plain": [
       "<Figure size 432x288 with 1 Axes>"
      ]
     },
     "metadata": {
      "needs_background": "light"
     },
     "output_type": "display_data"
    }
   ],
   "source": [
    "sns.heatmap(imputed_X_train.isnull(), cbar=False)"
   ]
  },
  {
   "cell_type": "code",
   "execution_count": 24,
   "id": "dd0e5d46",
   "metadata": {},
   "outputs": [
    {
     "data": {
      "text/plain": [
       "<AxesSubplot:>"
      ]
     },
     "execution_count": 24,
     "metadata": {},
     "output_type": "execute_result"
    },
    {
     "data": {
      "image/png": "[encoded data removed]",
      "text/plain": [
       "<Figure size 432x288 with 1 Axes>"
      ]
     },
     "metadata": {
      "needs_background": "light"
     },
     "output_type": "display_data"
    }
   ],
   "source": [
    "sns.heatmap(imputed_X_test.isnull(), cbar=False)"
   ]
  },
  {
   "cell_type": "markdown",
   "id": "d560394f",
   "metadata": {},
   "source": [
    "- Now assign imputed_X_train and imputed_X_test to X_train and X_test respectively."
   ]
  },
  {
   "cell_type": "code",
   "execution_count": 25,
   "id": "6ace79c2",
   "metadata": {},
   "outputs": [
    {
     "name": "stdout",
     "output_type": "stream",
     "text": [
      "X_train.isnull().sum().sum():  0 \n",
      "X_test.isnull().sum().sum():  0\n"
     ]
    }
   ],
   "source": [
    "X_train = imputed_X_train\n",
    "X_test = imputed_X_test\n",
    "\n",
    "print('X_train.isnull().sum().sum(): ', X_train.isnull().sum().sum(),\n",
    "'\\nX_test.isnull().sum().sum(): ',X_test.isnull().sum().sum())"
   ]
  },
  {
   "cell_type": "markdown",
   "id": "620da5f5",
   "metadata": {},
   "source": [
    "- Now missing/null values are completely handlled in both X_train and X_test.\n",
    "- From now on I'll only focus on X_train data for any analysis, and buil the model on it."
   ]
  },
  {
   "cell_type": "markdown",
   "id": "ca09ad66",
   "metadata": {},
   "source": [
    "---"
   ]
  },
  {
   "cell_type": "markdown",
   "id": "b854d249",
   "metadata": {},
   "source": [
    "#### Analysing the relationships between different features"
   ]
  },
  {
   "cell_type": "code",
   "execution_count": null,
   "id": "792a8289",
   "metadata": {},
   "outputs": [],
   "source": []
  },
  {
   "cell_type": "markdown",
   "id": "5cbe842b",
   "metadata": {},
   "source": [
    "- Distribution of *age* in the entore dataset."
   ]
  },
  {
   "cell_type": "code",
   "execution_count": 38,
   "id": "15a32121",
   "metadata": {},
   "outputs": [
    {
     "data": {
      "text/plain": [
       "<AxesSubplot:xlabel='age', ylabel='Count'>"
      ]
     },
     "execution_count": 38,
     "metadata": {},
     "output_type": "execute_result"
    },
    {
     "data": {
      "image/png": "[encoded data removed]",
      "text/plain": [
       "<Figure size 432x288 with 1 Axes>"
      ]
     },
     "metadata": {
      "needs_background": "light"
     },
     "output_type": "display_data"
    }
   ],
   "source": [
    "sns.histplot(x=np.log(X_train['age']+10), kde=True)"
   ]
  },
  {
   "cell_type": "code",
   "execution_count": 26,
   "id": "33148805",
   "metadata": {},
   "outputs": [
    {
     "data": {
      "text/plain": [
       "<AxesSubplot:xlabel='male', ylabel='Count'>"
      ]
     },
     "execution_count": 26,
     "metadata": {},
     "output_type": "execute_result"
    },
    {
     "data": {
      "image/png": "[encoded data removed]",
      "text/plain": [
       "<Figure size 432x288 with 1 Axes>"
      ]
     },
     "metadata": {
      "needs_background": "light"
     },
     "output_type": "display_data"
    }
   ],
   "source": [
    "sns.histplot(x=X_train['male'], hue=y_train, palette=['Magenta','r'])"
   ]
  },
  {
   "cell_type": "markdown",
   "id": "a8a1c207",
   "metadata": {},
   "source": [
    "- more ratio of males have TenYearCHD than females"
   ]
  },
  {
   "cell_type": "markdown",
   "id": "381e032d",
   "metadata": {},
   "source": [
    "- Can there be a relation between the fraction of people having 10yearCHD at an age and the age?\n",
    "- yes, let's see if this relation increases with age or something else."
   ]
  },
  {
   "cell_type": "code",
   "execution_count": 27,
   "id": "9452cb44",
   "metadata": {},
   "outputs": [],
   "source": [
    "# count of heart disease based on age\n",
    "ages = unique_vals(X_train.age)\n",
    "y = []\n",
    "for age in ages:\n",
    "    count = 0\n",
    "    count_total = 0\n",
    "    for i in range(0, len(X_train)):\n",
    "        if X_train.age[i] == age:\n",
    "            count_total += 1\n",
    "            count += list(y_train)[i]\n",
    "    y.append(count/count_total)"
   ]
  },
  {
   "cell_type": "code",
   "execution_count": 28,
   "id": "feb1013c",
   "metadata": {},
   "outputs": [
    {
     "data": {
      "text/plain": [
       "[Text(0.5, 0, 'age'), Text(0, 0.5, 'fraction of CHD patients at an age')]"
      ]
     },
     "execution_count": 28,
     "metadata": {},
     "output_type": "execute_result"
    },
    {
     "data": {
      "image/png": "[encoded data removed]",
      "text/plain": [
       "<Figure size 648x360 with 1 Axes>"
      ]
     },
     "metadata": {
      "needs_background": "light"
     },
     "output_type": "display_data"
    }
   ],
   "source": [
    "age_plot = plt.figure(figsize=(9,5))\n",
    "age_plot = sns.lineplot(x=ages, y=y, color='g')\n",
    "age_plot.set(xlabel='age', ylabel='fraction of CHD patients at an age')"
   ]
  },
  {
   "cell_type": "markdown",
   "id": "812c3182",
   "metadata": {},
   "source": [
    "From the above plot it's clear that with age more fraction of people suffer\n",
    "from the 10yearCHD.\n",
    "Also, we can say that the more is your age, there is a higher chance of you having 10yearCHD. And, we can also see a sudden downfall in the graph at an age of 68 approx, but since that is only for one age, it can be ignored."
   ]
  },
  {
   "cell_type": "code",
   "execution_count": 29,
   "id": "097bfa46",
   "metadata": {},
   "outputs": [
    {
     "data": {
      "text/plain": [
       "<AxesSubplot:xlabel='currentSmoker', ylabel='Count'>"
      ]
     },
     "execution_count": 29,
     "metadata": {},
     "output_type": "execute_result"
    },
    {
     "data": {
      "image/png": "[encoded data removed]",
      "text/plain": [
       "<Figure size 432x288 with 1 Axes>"
      ]
     },
     "metadata": {
      "needs_background": "light"
     },
     "output_type": "display_data"
    }
   ],
   "source": [
    "sns.histplot(x=X_train['currentSmoker'], hue=y_train, palette=['Magenta','r'])"
   ]
  },
  {
   "cell_type": "markdown",
   "id": "72b93969",
   "metadata": {},
   "source": [
    "- So, whether or not the person smokes or not they have almost equal chance of having the TenYearCHD.\n",
    "- So, maybe this feature does not effect our overall prediction of the heart disease."
   ]
  },
  {
   "cell_type": "code",
   "execution_count": 66,
   "id": "819f5109",
   "metadata": {},
   "outputs": [
    {
     "data": {
      "text/plain": [
       "<AxesSubplot:xlabel='cigsPerDay', ylabel='age'>"
      ]
     },
     "execution_count": 66,
     "metadata": {},
     "output_type": "execute_result"
    },
    {
     "data": {
      "image/png": "[encoded data removed]",
      "text/plain": [
       "<Figure size 432x288 with 1 Axes>"
      ]
     },
     "metadata": {
      "needs_background": "light"
     },
     "output_type": "display_data"
    }
   ],
   "source": [
    "sns.scatterplot(x=X_train['cigsPerDay'], y=X_train['age'], hue=y_train, palette=['b','r'])"
   ]
  },
  {
   "cell_type": "markdown",
   "id": "efc9d4a9",
   "metadata": {},
   "source": [
    "#### From the above plot\n",
    "- for even less no. of cigsPerDay there are a lot of people suffering from the TenYearCHD.\n",
    "- moving rightwards in the graph people suffering from the heart disease descreases irrespective of their age!\n",
    "- which means that cigsPerDay does not have any role in predicting if the person suffers from TenYearCHD."
   ]
  },
  {
   "cell_type": "code",
   "execution_count": null,
   "id": "a19e6b57",
   "metadata": {},
   "outputs": [],
   "source": []
  }
 ],
 "metadata": {
  "kernelspec": {
   "display_name": "heart_deisease_predictor",
   "language": "python",
   "name": "heart_deisease_predictor"
  },
  "language_info": {
   "codemirror_mode": {
    "name": "ipython",
    "version": 3
   },
   "file_extension": ".py",
   "mimetype": "text/x-python",
   "name": "python",
   "nbconvert_exporter": "python",
   "pygments_lexer": "ipython3",
   "version": "3.10.2"
  },
  "vscode": {
   "interpreter": {
    "hash": "fe3e2518d4d3c0fd2556922314093ff6b72d7b6f888a53267e559115009644cb"
   }
  }
 },
 "nbformat": 4,
 "nbformat_minor": 5
}
