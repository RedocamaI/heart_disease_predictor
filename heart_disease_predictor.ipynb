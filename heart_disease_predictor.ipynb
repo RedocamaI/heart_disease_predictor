{
 "cells": [
  {
   "cell_type": "markdown",
   "id": "ba548d6b",
   "metadata": {},
   "source": [
    "# Heart Disease Predictor"
   ]
  },
  {
   "cell_type": "markdown",
   "id": "f35b64fc",
   "metadata": {},
   "source": [
    "- This *new_data* branch is for improving this model.\n",
    "- I need to know more about this dataset and make my Data Science practices more clear, easy to understand, and more robust."
   ]
  },
  {
   "cell_type": "code",
   "execution_count": 1,
   "id": "09161f3a",
   "metadata": {},
   "outputs": [],
   "source": [
    "import pandas as pd\n",
    "import numpy as np\n",
    "import seaborn as sns\n",
    "import matplotlib.pyplot as plt\n",
    "from sklearn.model_selection import train_test_split\n",
    "from sklearn.linear_model import LogisticRegression\n",
    "from sklearn.metrics import confusion_matrix\n",
    "from sklearn.preprocessing import StandardScaler\n",
    "from sklearn.impute import SimpleImputer"
   ]
  },
  {
   "cell_type": "markdown",
   "id": "b5d5ec10",
   "metadata": {},
   "source": [
    "#### Life cycle of a Data Science project:\n",
    "- Data Collection\n",
    "- EDA\n",
    "- Data Preprocessing\n",
    "- Feature Engineering\n",
    "- Model building and evaluation\n",
    "- Model deployment"
   ]
  },
  {
   "cell_type": "markdown",
   "id": "5280dedc",
   "metadata": {},
   "source": [
    "## Data Collection"
   ]
  },
  {
   "cell_type": "code",
   "execution_count": 2,
   "id": "547137db",
   "metadata": {},
   "outputs": [],
   "source": [
    "data = pd.read_csv('./data/framingham.csv')"
   ]
  },
  {
   "cell_type": "code",
   "execution_count": 3,
   "id": "c651bf29",
   "metadata": {},
   "outputs": [
    {
     "data": {
      "text/plain": [
       "(4238, 16)"
      ]
     },
     "execution_count": 3,
     "metadata": {},
     "output_type": "execute_result"
    }
   ],
   "source": [
    "data.shape"
   ]
  },
  {
   "cell_type": "code",
   "execution_count": 4,
   "id": "8a1900e4",
   "metadata": {},
   "outputs": [
    {
     "name": "stdout",
     "output_type": "stream",
     "text": [
      "<class 'pandas.core.frame.DataFrame'>\n",
      "RangeIndex: 4238 entries, 0 to 4237\n",
      "Data columns (total 16 columns):\n",
      " #   Column           Non-Null Count  Dtype  \n",
      "---  ------           --------------  -----  \n",
      " 0   male             4238 non-null   int64  \n",
      " 1   age              4238 non-null   int64  \n",
      " 2   education        4133 non-null   float64\n",
      " 3   currentSmoker    4238 non-null   int64  \n",
      " 4   cigsPerDay       4209 non-null   float64\n",
      " 5   BPMeds           4185 non-null   float64\n",
      " 6   prevalentStroke  4238 non-null   int64  \n",
      " 7   prevalentHyp     4238 non-null   int64  \n",
      " 8   diabetes         4238 non-null   int64  \n",
      " 9   totChol          4188 non-null   float64\n",
      " 10  sysBP            4238 non-null   float64\n",
      " 11  diaBP            4238 non-null   float64\n",
      " 12  BMI              4219 non-null   float64\n",
      " 13  heartRate        4237 non-null   float64\n",
      " 14  glucose          3850 non-null   float64\n",
      " 15  TenYearCHD       4238 non-null   int64  \n",
      "dtypes: float64(9), int64(7)\n",
      "memory usage: 529.9 KB\n"
     ]
    }
   ],
   "source": [
    "data.info()"
   ]
  },
  {
   "cell_type": "markdown",
   "id": "95e4be1f",
   "metadata": {},
   "source": [
    "## EDA"
   ]
  },
  {
   "cell_type": "code",
   "execution_count": 5,
   "id": "3d8b8770",
   "metadata": {},
   "outputs": [
    {
     "data": {
      "text/html": [
       "<div>\n",
       "<style scoped>\n",
       "    .dataframe tbody tr th:only-of-type {\n",
       "        vertical-align: middle;\n",
       "    }\n",
       "\n",
       "    .dataframe tbody tr th {\n",
       "        vertical-align: top;\n",
       "    }\n",
       "\n",
       "    .dataframe thead th {\n",
       "        text-align: right;\n",
       "    }\n",
       "</style>\n",
       "<table border=\"1\" class=\"dataframe\">\n",
       "  <thead>\n",
       "    <tr style=\"text-align: right;\">\n",
       "      <th></th>\n",
       "      <th>male</th>\n",
       "      <th>age</th>\n",
       "      <th>education</th>\n",
       "      <th>currentSmoker</th>\n",
       "      <th>cigsPerDay</th>\n",
       "      <th>BPMeds</th>\n",
       "      <th>prevalentStroke</th>\n",
       "      <th>prevalentHyp</th>\n",
       "      <th>diabetes</th>\n",
       "      <th>totChol</th>\n",
       "      <th>sysBP</th>\n",
       "      <th>diaBP</th>\n",
       "      <th>BMI</th>\n",
       "      <th>heartRate</th>\n",
       "      <th>glucose</th>\n",
       "      <th>TenYearCHD</th>\n",
       "    </tr>\n",
       "  </thead>\n",
       "  <tbody>\n",
       "    <tr>\n",
       "      <th>0</th>\n",
       "      <td>1</td>\n",
       "      <td>39</td>\n",
       "      <td>4.0</td>\n",
       "      <td>0</td>\n",
       "      <td>0.0</td>\n",
       "      <td>0.0</td>\n",
       "      <td>0</td>\n",
       "      <td>0</td>\n",
       "      <td>0</td>\n",
       "      <td>195.0</td>\n",
       "      <td>106.0</td>\n",
       "      <td>70.0</td>\n",
       "      <td>26.97</td>\n",
       "      <td>80.0</td>\n",
       "      <td>77.0</td>\n",
       "      <td>0</td>\n",
       "    </tr>\n",
       "    <tr>\n",
       "      <th>1</th>\n",
       "      <td>0</td>\n",
       "      <td>46</td>\n",
       "      <td>2.0</td>\n",
       "      <td>0</td>\n",
       "      <td>0.0</td>\n",
       "      <td>0.0</td>\n",
       "      <td>0</td>\n",
       "      <td>0</td>\n",
       "      <td>0</td>\n",
       "      <td>250.0</td>\n",
       "      <td>121.0</td>\n",
       "      <td>81.0</td>\n",
       "      <td>28.73</td>\n",
       "      <td>95.0</td>\n",
       "      <td>76.0</td>\n",
       "      <td>0</td>\n",
       "    </tr>\n",
       "    <tr>\n",
       "      <th>2</th>\n",
       "      <td>1</td>\n",
       "      <td>48</td>\n",
       "      <td>1.0</td>\n",
       "      <td>1</td>\n",
       "      <td>20.0</td>\n",
       "      <td>0.0</td>\n",
       "      <td>0</td>\n",
       "      <td>0</td>\n",
       "      <td>0</td>\n",
       "      <td>245.0</td>\n",
       "      <td>127.5</td>\n",
       "      <td>80.0</td>\n",
       "      <td>25.34</td>\n",
       "      <td>75.0</td>\n",
       "      <td>70.0</td>\n",
       "      <td>0</td>\n",
       "    </tr>\n",
       "    <tr>\n",
       "      <th>3</th>\n",
       "      <td>0</td>\n",
       "      <td>61</td>\n",
       "      <td>3.0</td>\n",
       "      <td>1</td>\n",
       "      <td>30.0</td>\n",
       "      <td>0.0</td>\n",
       "      <td>0</td>\n",
       "      <td>1</td>\n",
       "      <td>0</td>\n",
       "      <td>225.0</td>\n",
       "      <td>150.0</td>\n",
       "      <td>95.0</td>\n",
       "      <td>28.58</td>\n",
       "      <td>65.0</td>\n",
       "      <td>103.0</td>\n",
       "      <td>1</td>\n",
       "    </tr>\n",
       "    <tr>\n",
       "      <th>4</th>\n",
       "      <td>0</td>\n",
       "      <td>46</td>\n",
       "      <td>3.0</td>\n",
       "      <td>1</td>\n",
       "      <td>23.0</td>\n",
       "      <td>0.0</td>\n",
       "      <td>0</td>\n",
       "      <td>0</td>\n",
       "      <td>0</td>\n",
       "      <td>285.0</td>\n",
       "      <td>130.0</td>\n",
       "      <td>84.0</td>\n",
       "      <td>23.10</td>\n",
       "      <td>85.0</td>\n",
       "      <td>85.0</td>\n",
       "      <td>0</td>\n",
       "    </tr>\n",
       "  </tbody>\n",
       "</table>\n",
       "</div>"
      ],
      "text/plain": [
       "   male  age  education  currentSmoker  cigsPerDay  BPMeds  prevalentStroke  \\\n",
       "0     1   39        4.0              0         0.0     0.0                0   \n",
       "1     0   46        2.0              0         0.0     0.0                0   \n",
       "2     1   48        1.0              1        20.0     0.0                0   \n",
       "3     0   61        3.0              1        30.0     0.0                0   \n",
       "4     0   46        3.0              1        23.0     0.0                0   \n",
       "\n",
       "   prevalentHyp  diabetes  totChol  sysBP  diaBP    BMI  heartRate  glucose  \\\n",
       "0             0         0    195.0  106.0   70.0  26.97       80.0     77.0   \n",
       "1             0         0    250.0  121.0   81.0  28.73       95.0     76.0   \n",
       "2             0         0    245.0  127.5   80.0  25.34       75.0     70.0   \n",
       "3             1         0    225.0  150.0   95.0  28.58       65.0    103.0   \n",
       "4             0         0    285.0  130.0   84.0  23.10       85.0     85.0   \n",
       "\n",
       "   TenYearCHD  \n",
       "0           0  \n",
       "1           0  \n",
       "2           0  \n",
       "3           1  \n",
       "4           0  "
      ]
     },
     "execution_count": 5,
     "metadata": {},
     "output_type": "execute_result"
    }
   ],
   "source": [
    "data.head()"
   ]
  },
  {
   "cell_type": "markdown",
   "id": "e830df9b",
   "metadata": {},
   "source": [
    "- Check for duplicated data."
   ]
  },
  {
   "cell_type": "code",
   "execution_count": 6,
   "id": "755b1349",
   "metadata": {},
   "outputs": [
    {
     "data": {
      "text/plain": [
       "0"
      ]
     },
     "execution_count": 6,
     "metadata": {},
     "output_type": "execute_result"
    }
   ],
   "source": [
    "data_duplicates = data.duplicated()\n",
    "data_duplicates.sum()"
   ]
  },
  {
   "cell_type": "markdown",
   "id": "bf568221",
   "metadata": {},
   "source": [
    "- there are **NO** duplicates in the dataset."
   ]
  },
  {
   "cell_type": "markdown",
   "id": "69cd114d",
   "metadata": {},
   "source": [
    "- Check if we have imbalanced dataset"
   ]
  },
  {
   "cell_type": "code",
   "execution_count": 7,
   "id": "560e1e5c",
   "metadata": {},
   "outputs": [
    {
     "data": {
      "text/plain": [
       "0    3594\n",
       "1     644\n",
       "Name: TenYearCHD, dtype: int64"
      ]
     },
     "execution_count": 7,
     "metadata": {},
     "output_type": "execute_result"
    }
   ],
   "source": [
    "data['TenYearCHD'].value_counts()"
   ]
  },
  {
   "cell_type": "code",
   "execution_count": 8,
   "id": "63389cb1",
   "metadata": {},
   "outputs": [
    {
     "data": {
      "text/plain": [
       "<AxesSubplot:xlabel='TenYearCHD', ylabel='count'>"
      ]
     },
     "execution_count": 8,
     "metadata": {},
     "output_type": "execute_result"
    },
    {
     "data": {
      "image/png": "[encoded data removed]",
      "text/plain": [
       "<Figure size 432x288 with 1 Axes>"
      ]
     },
     "metadata": {
      "needs_background": "light"
     },
     "output_type": "display_data"
    }
   ],
   "source": [
    "sns.countplot(x=data['TenYearCHD'])"
   ]
  },
  {
   "cell_type": "markdown",
   "id": "ad0b985a",
   "metadata": {},
   "source": [
    "- So, the above dataset is imbalanced. If we train the binary classification without fixing this issue, our model will be completely biased.\n",
    "- this would also impact our feature correlation.\n",
    "- So, let's handel this."
   ]
  },
  {
   "cell_type": "markdown",
   "id": "ddc821fa",
   "metadata": {},
   "source": [
    "##### Handling imbalanced dataset"
   ]
  },
  {
   "cell_type": "code",
   "execution_count": 193,
   "id": "e2487b51",
   "metadata": {},
   "outputs": [
    {
     "name": "stdout",
     "output_type": "stream",
     "text": [
      "1    3594\n",
      "0    3594\n",
      "Name: TenYearCHD, dtype: int64\n"
     ]
    }
   ],
   "source": [
    "# import required packages\n",
    "from sklearn.utils import resample\n",
    "data_minority = data[data['TenYearCHD']==1]\n",
    "data_majority = data[data['TenYearCHD']==0]\n",
    "data_minority_upsampled = resample(data_minority, \n",
    "                                    replace=True, # sample with replacement\n",
    "                                    n_samples=3594, # to match majority class\n",
    "                                    random_state=0 # for reproducibile results\n",
    "                                    )\n",
    "# new upsampled/balanced data\n",
    "data_balanced = pd.concat([data_minority_upsampled, data_majority])\n",
    "print(data_balanced['TenYearCHD'].value_counts())"
   ]
  },
  {
   "cell_type": "markdown",
   "id": "8ec4f72c",
   "metadata": {},
   "source": [
    "- Now let's check the shape and balance of the dataset:"
   ]
  },
  {
   "cell_type": "code",
   "execution_count": 202,
   "id": "bcbe6864",
   "metadata": {},
   "outputs": [
    {
     "data": {
      "text/plain": [
       "(7188, 16)"
      ]
     },
     "execution_count": 202,
     "metadata": {},
     "output_type": "execute_result"
    }
   ],
   "source": [
    "data_balanced.shape"
   ]
  },
  {
   "cell_type": "markdown",
   "id": "a38812b5",
   "metadata": {},
   "source": [
    "## Split"
   ]
  },
  {
   "cell_type": "code",
   "execution_count": 207,
   "id": "43957339",
   "metadata": {},
   "outputs": [],
   "source": [
    "X_train, X_test, y_train, y_test = train_test_split(data_balanced.drop('TenYearCHD', axis=1), data_balanced['TenYearCHD'], test_size=0.3, random_state=0)"
   ]
  },
  {
   "cell_type": "markdown",
   "id": "170c1d35",
   "metadata": {},
   "source": [
    "- shape of the dataset"
   ]
  },
  {
   "cell_type": "code",
   "execution_count": 208,
   "id": "b27015ac",
   "metadata": {},
   "outputs": [
    {
     "data": {
      "text/html": [
       "<div>\n",
       "<style scoped>\n",
       "    .dataframe tbody tr th:only-of-type {\n",
       "        vertical-align: middle;\n",
       "    }\n",
       "\n",
       "    .dataframe tbody tr th {\n",
       "        vertical-align: top;\n",
       "    }\n",
       "\n",
       "    .dataframe thead th {\n",
       "        text-align: right;\n",
       "    }\n",
       "</style>\n",
       "<table border=\"1\" class=\"dataframe\">\n",
       "  <thead>\n",
       "    <tr style=\"text-align: right;\">\n",
       "      <th></th>\n",
       "      <th>male</th>\n",
       "      <th>age</th>\n",
       "      <th>education</th>\n",
       "      <th>currentSmoker</th>\n",
       "      <th>cigsPerDay</th>\n",
       "      <th>BPMeds</th>\n",
       "      <th>prevalentStroke</th>\n",
       "      <th>prevalentHyp</th>\n",
       "      <th>diabetes</th>\n",
       "      <th>totChol</th>\n",
       "      <th>sysBP</th>\n",
       "      <th>diaBP</th>\n",
       "      <th>BMI</th>\n",
       "      <th>heartRate</th>\n",
       "      <th>glucose</th>\n",
       "    </tr>\n",
       "  </thead>\n",
       "  <tbody>\n",
       "    <tr>\n",
       "      <th>471</th>\n",
       "      <td>1</td>\n",
       "      <td>61</td>\n",
       "      <td>1.0</td>\n",
       "      <td>0</td>\n",
       "      <td>0.0</td>\n",
       "      <td>1.0</td>\n",
       "      <td>0</td>\n",
       "      <td>1</td>\n",
       "      <td>1</td>\n",
       "      <td>270.0</td>\n",
       "      <td>177.5</td>\n",
       "      <td>95.0</td>\n",
       "      <td>28.15</td>\n",
       "      <td>62.0</td>\n",
       "      <td>123.0</td>\n",
       "    </tr>\n",
       "    <tr>\n",
       "      <th>50</th>\n",
       "      <td>0</td>\n",
       "      <td>63</td>\n",
       "      <td>1.0</td>\n",
       "      <td>1</td>\n",
       "      <td>3.0</td>\n",
       "      <td>0.0</td>\n",
       "      <td>0</td>\n",
       "      <td>1</td>\n",
       "      <td>0</td>\n",
       "      <td>267.0</td>\n",
       "      <td>156.5</td>\n",
       "      <td>92.5</td>\n",
       "      <td>27.10</td>\n",
       "      <td>60.0</td>\n",
       "      <td>79.0</td>\n",
       "    </tr>\n",
       "    <tr>\n",
       "      <th>4078</th>\n",
       "      <td>1</td>\n",
       "      <td>42</td>\n",
       "      <td>1.0</td>\n",
       "      <td>0</td>\n",
       "      <td>0.0</td>\n",
       "      <td>0.0</td>\n",
       "      <td>0</td>\n",
       "      <td>0</td>\n",
       "      <td>0</td>\n",
       "      <td>214.0</td>\n",
       "      <td>120.0</td>\n",
       "      <td>81.0</td>\n",
       "      <td>28.47</td>\n",
       "      <td>78.0</td>\n",
       "      <td>77.0</td>\n",
       "    </tr>\n",
       "    <tr>\n",
       "      <th>3912</th>\n",
       "      <td>1</td>\n",
       "      <td>43</td>\n",
       "      <td>4.0</td>\n",
       "      <td>1</td>\n",
       "      <td>20.0</td>\n",
       "      <td>0.0</td>\n",
       "      <td>0</td>\n",
       "      <td>0</td>\n",
       "      <td>0</td>\n",
       "      <td>184.0</td>\n",
       "      <td>127.5</td>\n",
       "      <td>81.0</td>\n",
       "      <td>28.31</td>\n",
       "      <td>108.0</td>\n",
       "      <td>75.0</td>\n",
       "    </tr>\n",
       "    <tr>\n",
       "      <th>3847</th>\n",
       "      <td>0</td>\n",
       "      <td>41</td>\n",
       "      <td>1.0</td>\n",
       "      <td>1</td>\n",
       "      <td>NaN</td>\n",
       "      <td>0.0</td>\n",
       "      <td>0</td>\n",
       "      <td>0</td>\n",
       "      <td>0</td>\n",
       "      <td>171.0</td>\n",
       "      <td>135.0</td>\n",
       "      <td>82.5</td>\n",
       "      <td>24.35</td>\n",
       "      <td>79.0</td>\n",
       "      <td>82.0</td>\n",
       "    </tr>\n",
       "  </tbody>\n",
       "</table>\n",
       "</div>"
      ],
      "text/plain": [
       "      male  age  education  currentSmoker  cigsPerDay  BPMeds  \\\n",
       "471      1   61        1.0              0         0.0     1.0   \n",
       "50       0   63        1.0              1         3.0     0.0   \n",
       "4078     1   42        1.0              0         0.0     0.0   \n",
       "3912     1   43        4.0              1        20.0     0.0   \n",
       "3847     0   41        1.0              1         NaN     0.0   \n",
       "\n",
       "      prevalentStroke  prevalentHyp  diabetes  totChol  sysBP  diaBP    BMI  \\\n",
       "471                 0             1         1    270.0  177.5   95.0  28.15   \n",
       "50                  0             1         0    267.0  156.5   92.5  27.10   \n",
       "4078                0             0         0    214.0  120.0   81.0  28.47   \n",
       "3912                0             0         0    184.0  127.5   81.0  28.31   \n",
       "3847                0             0         0    171.0  135.0   82.5  24.35   \n",
       "\n",
       "      heartRate  glucose  \n",
       "471        62.0    123.0  \n",
       "50         60.0     79.0  \n",
       "4078       78.0     77.0  \n",
       "3912      108.0     75.0  \n",
       "3847       79.0     82.0  "
      ]
     },
     "execution_count": 208,
     "metadata": {},
     "output_type": "execute_result"
    }
   ],
   "source": [
    "X_train.head()"
   ]
  },
  {
   "cell_type": "markdown",
   "id": "d4d1e638",
   "metadata": {},
   "source": [
    "- visualize balance using sns"
   ]
  },
  {
   "cell_type": "code",
   "execution_count": 209,
   "id": "a609428f",
   "metadata": {},
   "outputs": [
    {
     "data": {
      "text/plain": [
       "<AxesSubplot:xlabel='TenYearCHD', ylabel='count'>"
      ]
     },
     "execution_count": 209,
     "metadata": {},
     "output_type": "execute_result"
    },
    {
     "data": {
      "image/png": "[encoded data removed]",
      "text/plain": [
       "<Figure size 432x288 with 1 Axes>"
      ]
     },
     "metadata": {
      "needs_background": "light"
     },
     "output_type": "display_data"
    }
   ],
   "source": [
    "sns.countplot(x=data_balanced['TenYearCHD'])"
   ]
  },
  {
   "cell_type": "markdown",
   "id": "11d1ff77",
   "metadata": {},
   "source": [
    "- explore train and test data:"
   ]
  },
  {
   "cell_type": "code",
   "execution_count": 210,
   "id": "b3a03d28",
   "metadata": {},
   "outputs": [
    {
     "name": "stdout",
     "output_type": "stream",
     "text": [
      "X_train.shape= (5031, 15) \n",
      "X_test.shape= (2157, 15)\n"
     ]
    }
   ],
   "source": [
    "print('X_train.shape=', X_train.shape, '\\nX_test.shape=', X_test.shape)"
   ]
  },
  {
   "cell_type": "markdown",
   "id": "8db4f25d",
   "metadata": {},
   "source": [
    "Overview of the following procedure:\n",
    "1. perform **imputation** on both train & test data seperately.\n",
    "2. perform **EDA**, **preprocessing**, and **feature engineering** on the train data.\n",
    "3. perform **preprocessing** on the test data as well, so that it can be a valid information for the model.\n",
    "4. build model using train data.\n",
    "5. test it's accuracy using test data: this will be the final accuracy of the model."
   ]
  },
  {
   "cell_type": "code",
   "execution_count": 211,
   "id": "947c14a2",
   "metadata": {},
   "outputs": [
    {
     "data": {
      "text/plain": [
       "male                 0\n",
       "age                  0\n",
       "education          132\n",
       "currentSmoker        0\n",
       "cigsPerDay          25\n",
       "BPMeds              89\n",
       "prevalentStroke      0\n",
       "prevalentHyp         0\n",
       "diabetes             0\n",
       "totChol             70\n",
       "sysBP                0\n",
       "diaBP                0\n",
       "BMI                 34\n",
       "heartRate            1\n",
       "glucose            441\n",
       "dtype: int64"
      ]
     },
     "execution_count": 211,
     "metadata": {},
     "output_type": "execute_result"
    }
   ],
   "source": [
    "X_train.isnull().sum()"
   ]
  },
  {
   "cell_type": "code",
   "execution_count": 212,
   "id": "71cba581",
   "metadata": {},
   "outputs": [
    {
     "data": {
      "text/plain": [
       "male                 0\n",
       "age                  0\n",
       "education           53\n",
       "currentSmoker        0\n",
       "cigsPerDay          12\n",
       "BPMeds              32\n",
       "prevalentStroke      0\n",
       "prevalentHyp         0\n",
       "diabetes             0\n",
       "totChol             29\n",
       "sysBP                0\n",
       "diaBP                0\n",
       "BMI                 18\n",
       "heartRate            3\n",
       "glucose            190\n",
       "dtype: int64"
      ]
     },
     "execution_count": 212,
     "metadata": {},
     "output_type": "execute_result"
    }
   ],
   "source": [
    "X_test.isnull().sum()"
   ]
  },
  {
   "cell_type": "markdown",
   "id": "8edfa3f4",
   "metadata": {},
   "source": [
    "- There are some features having null values so, we need to perform imputation in the train dataset.\n",
    "- why inputation? why not delete the feature itself?\n",
    "    - because none of the feature contains more than half null values, infact the maximum null values contained is in *glucose* feature which is 441/5031 = 0.087 or *8.7%* approx on train data and 190/2157 = 0.088 or *8.8%* approx on test data."
   ]
  },
  {
   "cell_type": "markdown",
   "id": "dc3c23dd",
   "metadata": {},
   "source": [
    "- visualize the *null values*"
   ]
  },
  {
   "cell_type": "code",
   "execution_count": 213,
   "id": "f2f4c435",
   "metadata": {},
   "outputs": [
    {
     "data": {
      "text/plain": [
       "<AxesSubplot:>"
      ]
     },
     "execution_count": 213,
     "metadata": {},
     "output_type": "execute_result"
    },
    {
     "data": {
      "image/png": "[encoded data removed]",
      "text/plain": [
       "<Figure size 432x288 with 1 Axes>"
      ]
     },
     "metadata": {
      "needs_background": "light"
     },
     "output_type": "display_data"
    }
   ],
   "source": [
    "sns.heatmap(X_train.isnull(), cbar=False)"
   ]
  },
  {
   "cell_type": "code",
   "execution_count": 214,
   "id": "4553ae7d",
   "metadata": {},
   "outputs": [
    {
     "data": {
      "text/plain": [
       "<AxesSubplot:>"
      ]
     },
     "execution_count": 214,
     "metadata": {},
     "output_type": "execute_result"
    },
    {
     "data": {
      "image/png": "[encoded data removed]",
      "text/plain": [
       "<Figure size 432x288 with 1 Axes>"
      ]
     },
     "metadata": {
      "needs_background": "light"
     },
     "output_type": "display_data"
    }
   ],
   "source": [
    "sns.heatmap(X_test.isnull(), cbar=False)"
   ]
  },
  {
   "cell_type": "markdown",
   "id": "86fc94e8",
   "metadata": {},
   "source": [
    "- all unique values of education"
   ]
  },
  {
   "cell_type": "code",
   "execution_count": 215,
   "id": "197849ab",
   "metadata": {},
   "outputs": [
    {
     "data": {
      "text/plain": [
       "array([ 1.,  4.,  3.,  2., nan])"
      ]
     },
     "execution_count": 215,
     "metadata": {},
     "output_type": "execute_result"
    }
   ],
   "source": [
    "X_train['education'].unique()"
   ]
  },
  {
   "cell_type": "markdown",
   "id": "2572aeb0",
   "metadata": {},
   "source": [
    "- what impact would **education** have on Ten-year-coronary-heart-disease?\n",
    "- **NO** impact right?\n",
    "- So, it's just right to drop this feature itself.\n",
    "- let's drop it."
   ]
  },
  {
   "cell_type": "code",
   "execution_count": 216,
   "id": "6771a53c",
   "metadata": {},
   "outputs": [
    {
     "data": {
      "text/html": [
       "<div>\n",
       "<style scoped>\n",
       "    .dataframe tbody tr th:only-of-type {\n",
       "        vertical-align: middle;\n",
       "    }\n",
       "\n",
       "    .dataframe tbody tr th {\n",
       "        vertical-align: top;\n",
       "    }\n",
       "\n",
       "    .dataframe thead th {\n",
       "        text-align: right;\n",
       "    }\n",
       "</style>\n",
       "<table border=\"1\" class=\"dataframe\">\n",
       "  <thead>\n",
       "    <tr style=\"text-align: right;\">\n",
       "      <th></th>\n",
       "      <th>male</th>\n",
       "      <th>age</th>\n",
       "      <th>currentSmoker</th>\n",
       "      <th>cigsPerDay</th>\n",
       "      <th>BPMeds</th>\n",
       "      <th>prevalentStroke</th>\n",
       "      <th>prevalentHyp</th>\n",
       "      <th>diabetes</th>\n",
       "      <th>totChol</th>\n",
       "      <th>sysBP</th>\n",
       "      <th>diaBP</th>\n",
       "      <th>BMI</th>\n",
       "      <th>heartRate</th>\n",
       "      <th>glucose</th>\n",
       "    </tr>\n",
       "  </thead>\n",
       "  <tbody>\n",
       "    <tr>\n",
       "      <th>471</th>\n",
       "      <td>1</td>\n",
       "      <td>61</td>\n",
       "      <td>0</td>\n",
       "      <td>0.0</td>\n",
       "      <td>1.0</td>\n",
       "      <td>0</td>\n",
       "      <td>1</td>\n",
       "      <td>1</td>\n",
       "      <td>270.0</td>\n",
       "      <td>177.5</td>\n",
       "      <td>95.0</td>\n",
       "      <td>28.15</td>\n",
       "      <td>62.0</td>\n",
       "      <td>123.0</td>\n",
       "    </tr>\n",
       "    <tr>\n",
       "      <th>50</th>\n",
       "      <td>0</td>\n",
       "      <td>63</td>\n",
       "      <td>1</td>\n",
       "      <td>3.0</td>\n",
       "      <td>0.0</td>\n",
       "      <td>0</td>\n",
       "      <td>1</td>\n",
       "      <td>0</td>\n",
       "      <td>267.0</td>\n",
       "      <td>156.5</td>\n",
       "      <td>92.5</td>\n",
       "      <td>27.10</td>\n",
       "      <td>60.0</td>\n",
       "      <td>79.0</td>\n",
       "    </tr>\n",
       "    <tr>\n",
       "      <th>4078</th>\n",
       "      <td>1</td>\n",
       "      <td>42</td>\n",
       "      <td>0</td>\n",
       "      <td>0.0</td>\n",
       "      <td>0.0</td>\n",
       "      <td>0</td>\n",
       "      <td>0</td>\n",
       "      <td>0</td>\n",
       "      <td>214.0</td>\n",
       "      <td>120.0</td>\n",
       "      <td>81.0</td>\n",
       "      <td>28.47</td>\n",
       "      <td>78.0</td>\n",
       "      <td>77.0</td>\n",
       "    </tr>\n",
       "    <tr>\n",
       "      <th>3912</th>\n",
       "      <td>1</td>\n",
       "      <td>43</td>\n",
       "      <td>1</td>\n",
       "      <td>20.0</td>\n",
       "      <td>0.0</td>\n",
       "      <td>0</td>\n",
       "      <td>0</td>\n",
       "      <td>0</td>\n",
       "      <td>184.0</td>\n",
       "      <td>127.5</td>\n",
       "      <td>81.0</td>\n",
       "      <td>28.31</td>\n",
       "      <td>108.0</td>\n",
       "      <td>75.0</td>\n",
       "    </tr>\n",
       "    <tr>\n",
       "      <th>3847</th>\n",
       "      <td>0</td>\n",
       "      <td>41</td>\n",
       "      <td>1</td>\n",
       "      <td>NaN</td>\n",
       "      <td>0.0</td>\n",
       "      <td>0</td>\n",
       "      <td>0</td>\n",
       "      <td>0</td>\n",
       "      <td>171.0</td>\n",
       "      <td>135.0</td>\n",
       "      <td>82.5</td>\n",
       "      <td>24.35</td>\n",
       "      <td>79.0</td>\n",
       "      <td>82.0</td>\n",
       "    </tr>\n",
       "  </tbody>\n",
       "</table>\n",
       "</div>"
      ],
      "text/plain": [
       "      male  age  currentSmoker  cigsPerDay  BPMeds  prevalentStroke  \\\n",
       "471      1   61              0         0.0     1.0                0   \n",
       "50       0   63              1         3.0     0.0                0   \n",
       "4078     1   42              0         0.0     0.0                0   \n",
       "3912     1   43              1        20.0     0.0                0   \n",
       "3847     0   41              1         NaN     0.0                0   \n",
       "\n",
       "      prevalentHyp  diabetes  totChol  sysBP  diaBP    BMI  heartRate  glucose  \n",
       "471              1         1    270.0  177.5   95.0  28.15       62.0    123.0  \n",
       "50               1         0    267.0  156.5   92.5  27.10       60.0     79.0  \n",
       "4078             0         0    214.0  120.0   81.0  28.47       78.0     77.0  \n",
       "3912             0         0    184.0  127.5   81.0  28.31      108.0     75.0  \n",
       "3847             0         0    171.0  135.0   82.5  24.35       79.0     82.0  "
      ]
     },
     "execution_count": 216,
     "metadata": {},
     "output_type": "execute_result"
    }
   ],
   "source": [
    "X_train.drop('education', axis=1, inplace=True)\n",
    "X_test.drop('education', axis=1, inplace=True)\n",
    "X_train.head()"
   ]
  },
  {
   "cell_type": "markdown",
   "id": "4b3b29a8",
   "metadata": {},
   "source": [
    "- in order to perform successfull imputation, without much affecting the dataset, we'll have to categorize those features having null values as **categorical/nominal** or **continuous**.\n",
    "- referring from the description given for the dataset it's visible that:\n",
    "    - cigsPerDay, totChol, BMI, heartRate, glucose are **continuous** features.\n",
    "    - BPMeds is a **nominal** feature.\n",
    "- Handlling missing values:\n",
    "    1. for nominal feature: replace with the most frequent value.\n",
    "    2. for continuous features: perform mean/median imputation."
   ]
  },
  {
   "cell_type": "markdown",
   "id": "92156c8e",
   "metadata": {},
   "source": [
    "Distribution of **BPMeds** in the train dataset:"
   ]
  },
  {
   "cell_type": "code",
   "execution_count": 217,
   "id": "99ec4f59",
   "metadata": {},
   "outputs": [
    {
     "data": {
      "text/plain": [
       "<AxesSubplot:xlabel='BPMeds', ylabel='Count'>"
      ]
     },
     "execution_count": 217,
     "metadata": {},
     "output_type": "execute_result"
    },
    {
     "data": {
      "image/png": "[encoded data removed]",
      "text/plain": [
       "<Figure size 432x288 with 1 Axes>"
      ]
     },
     "metadata": {
      "needs_background": "light"
     },
     "output_type": "display_data"
    }
   ],
   "source": [
    "sns.histplot(X_train.BPMeds)"
   ]
  },
  {
   "cell_type": "markdown",
   "id": "c6b97fcf",
   "metadata": {},
   "source": [
    "- count unique vals before imputation"
   ]
  },
  {
   "cell_type": "code",
   "execution_count": 218,
   "id": "8325c473",
   "metadata": {},
   "outputs": [
    {
     "name": "stdout",
     "output_type": "stream",
     "text": [
      "X_train: \n",
      " 0.0    4728\n",
      "1.0     214\n",
      "Name: BPMeds, dtype: int64 X_test: \n",
      " 0.0    2024\n",
      "1.0     101\n",
      "Name: BPMeds, dtype: int64\n"
     ]
    }
   ],
   "source": [
    "print('X_train: \\n', X_train['BPMeds'].value_counts(), 'X_test: \\n', X_test['BPMeds'].value_counts())"
   ]
  },
  {
   "cell_type": "markdown",
   "id": "6300e8f7",
   "metadata": {},
   "source": [
    "- most frequent value is **0**\n",
    "- let's impute it's mode."
   ]
  },
  {
   "cell_type": "code",
   "execution_count": 219,
   "id": "0469d2dc",
   "metadata": {},
   "outputs": [
    {
     "name": "stdout",
     "output_type": "stream",
     "text": [
      "X_train: 0 \n",
      "X_test: 0\n"
     ]
    }
   ],
   "source": [
    "X_train['BPMeds'].fillna(X_train.iloc[4].mode().item(), inplace=True)\n",
    "X_test['BPMeds'].fillna(X_test.iloc[4].mode().item(), inplace=True)\n",
    "print('X_train:', X_train['BPMeds'].isnull().sum(), '\\nX_test:', X_test['BPMeds'].isnull().sum())"
   ]
  },
  {
   "cell_type": "code",
   "execution_count": 220,
   "id": "fe73428f",
   "metadata": {},
   "outputs": [
    {
     "name": "stdout",
     "output_type": "stream",
     "text": [
      "X_train: \n",
      " 0.0    4817\n",
      "1.0     214\n",
      "Name: BPMeds, dtype: int64 X_test: \n",
      " 0.0    2056\n",
      "1.0     101\n",
      "Name: BPMeds, dtype: int64\n"
     ]
    }
   ],
   "source": [
    "print('X_train: \\n', X_train['BPMeds'].value_counts(), 'X_test: \\n', X_test['BPMeds'].value_counts())"
   ]
  },
  {
   "cell_type": "markdown",
   "id": "53a34ee9",
   "metadata": {},
   "source": [
    "- So, the missing values of BPMeds are handlled.\n",
    "- *Nominal value imputation is complete!*\n",
    "- Now imputing continuous values!"
   ]
  },
  {
   "cell_type": "code",
   "execution_count": 221,
   "metadata": {},
   "outputs": [
    {
     "data": {
      "text/plain": [
       "male                 0\n",
       "age                  0\n",
       "currentSmoker        0\n",
       "cigsPerDay          25\n",
       "BPMeds               0\n",
       "prevalentStroke      0\n",
       "prevalentHyp         0\n",
       "diabetes             0\n",
       "totChol             70\n",
       "sysBP                0\n",
       "diaBP                0\n",
       "BMI                 34\n",
       "heartRate            1\n",
       "glucose            441\n",
       "dtype: int64"
      ]
     },
     "execution_count": 221,
     "metadata": {},
     "output_type": "execute_result"
    }
   ],
   "source": [
    "X_train.isnull().sum()"
   ]
  },
  {
   "cell_type": "code",
   "execution_count": 222,
   "id": "2660fe3f",
   "metadata": {},
   "outputs": [
    {
     "data": {
      "text/plain": [
       "male                 0\n",
       "age                  0\n",
       "currentSmoker        0\n",
       "cigsPerDay          12\n",
       "BPMeds               0\n",
       "prevalentStroke      0\n",
       "prevalentHyp         0\n",
       "diabetes             0\n",
       "totChol             29\n",
       "sysBP                0\n",
       "diaBP                0\n",
       "BMI                 18\n",
       "heartRate            3\n",
       "glucose            190\n",
       "dtype: int64"
      ]
     },
     "execution_count": 222,
     "metadata": {},
     "output_type": "execute_result"
    }
   ],
   "source": [
    "X_test.isnull().sum()"
   ]
  },
  {
   "cell_type": "markdown",
   "id": "332005a7",
   "metadata": {},
   "source": [
    "- filling missing values in **continuous** variables."
   ]
  },
  {
   "cell_type": "code",
   "execution_count": 223,
   "id": "f748aa8f",
   "metadata": {},
   "outputs": [],
   "source": [
    "imputer = SimpleImputer(missing_values=np.nan, strategy='mean')\n",
    "imputed_X_train = pd.DataFrame(imputer.fit_transform(X_train))\n",
    "imputed_X_test = pd.DataFrame(imputer.transform(X_test))\n",
    "\n",
    "# imputation removed column names: putting them back\n",
    "imputed_X_train.columns = X_train.columns\n",
    "imputed_X_test.columns = X_test.columns"
   ]
  },
  {
   "cell_type": "code",
   "execution_count": 224,
   "id": "45a84c08",
   "metadata": {},
   "outputs": [
    {
     "data": {
      "text/plain": [
       "<AxesSubplot:>"
      ]
     },
     "execution_count": 224,
     "metadata": {},
     "output_type": "execute_result"
    },
    {
     "data": {
      "image/png": "[encoded data removed]",
      "text/plain": [
       "<Figure size 432x288 with 1 Axes>"
      ]
     },
     "metadata": {
      "needs_background": "light"
     },
     "output_type": "display_data"
    }
   ],
   "source": [
    "sns.heatmap(imputed_X_train.isnull(), cbar=False)"
   ]
  },
  {
   "cell_type": "code",
   "execution_count": 225,
   "id": "dd0e5d46",
   "metadata": {},
   "outputs": [
    {
     "data": {
      "text/plain": [
       "<AxesSubplot:>"
      ]
     },
     "execution_count": 225,
     "metadata": {},
     "output_type": "execute_result"
    },
    {
     "data": {
      "image/png": "[encoded data removed]",
      "text/plain": [
       "<Figure size 432x288 with 1 Axes>"
      ]
     },
     "metadata": {
      "needs_background": "light"
     },
     "output_type": "display_data"
    }
   ],
   "source": [
    "sns.heatmap(imputed_X_test.isnull(), cbar=False)"
   ]
  },
  {
   "cell_type": "markdown",
   "id": "d560394f",
   "metadata": {},
   "source": [
    "- Now assign imputed_X_train and imputed_X_test to X_train and X_test respectively."
   ]
  },
  {
   "cell_type": "code",
   "execution_count": 226,
   "id": "6ace79c2",
   "metadata": {},
   "outputs": [
    {
     "name": "stdout",
     "output_type": "stream",
     "text": [
      "X_train.isnull().sum().sum():  0 \n",
      "X_test.isnull().sum().sum():  0\n"
     ]
    }
   ],
   "source": [
    "X_train = imputed_X_train\n",
    "X_test = imputed_X_test\n",
    "\n",
    "print('X_train.isnull().sum().sum(): ', X_train.isnull().sum().sum(),\n",
    "'\\nX_test.isnull().sum().sum(): ',X_test.isnull().sum().sum())"
   ]
  },
  {
   "cell_type": "markdown",
   "id": "620da5f5",
   "metadata": {},
   "source": [
    "- Now missing/null values are completely handlled in both X_train and X_test.\n",
    "- From now on I'll only focus on X_train data for any analysis, and buil the model on it."
   ]
  },
  {
   "cell_type": "markdown",
   "id": "b854d249",
   "metadata": {},
   "source": [
    "#### Analysing the relationships between different features"
   ]
  },
  {
   "cell_type": "code",
   "execution_count": 365,
   "id": "ecff8b03",
   "metadata": {},
   "outputs": [
    {
     "data": {
      "text/html": [
       "<div>\n",
       "<style scoped>\n",
       "    .dataframe tbody tr th:only-of-type {\n",
       "        vertical-align: middle;\n",
       "    }\n",
       "\n",
       "    .dataframe tbody tr th {\n",
       "        vertical-align: top;\n",
       "    }\n",
       "\n",
       "    .dataframe thead th {\n",
       "        text-align: right;\n",
       "    }\n",
       "</style>\n",
       "<table border=\"1\" class=\"dataframe\">\n",
       "  <thead>\n",
       "    <tr style=\"text-align: right;\">\n",
       "      <th></th>\n",
       "      <th>male</th>\n",
       "      <th>age</th>\n",
       "      <th>currentSmoker</th>\n",
       "      <th>cigsPerDay</th>\n",
       "      <th>BPMeds</th>\n",
       "      <th>prevalentStroke</th>\n",
       "      <th>prevalentHyp</th>\n",
       "      <th>diabetes</th>\n",
       "      <th>totChol</th>\n",
       "      <th>sysBP</th>\n",
       "      <th>diaBP</th>\n",
       "      <th>BMI</th>\n",
       "      <th>heartRate</th>\n",
       "      <th>glucose</th>\n",
       "    </tr>\n",
       "  </thead>\n",
       "  <tbody>\n",
       "    <tr>\n",
       "      <th>0</th>\n",
       "      <td>1.0</td>\n",
       "      <td>61.0</td>\n",
       "      <td>0.0</td>\n",
       "      <td>0.000000</td>\n",
       "      <td>1.0</td>\n",
       "      <td>0.0</td>\n",
       "      <td>1.0</td>\n",
       "      <td>1.0</td>\n",
       "      <td>270.0</td>\n",
       "      <td>177.5</td>\n",
       "      <td>95.0</td>\n",
       "      <td>28.15</td>\n",
       "      <td>62.0</td>\n",
       "      <td>123.0</td>\n",
       "    </tr>\n",
       "    <tr>\n",
       "      <th>1</th>\n",
       "      <td>0.0</td>\n",
       "      <td>63.0</td>\n",
       "      <td>1.0</td>\n",
       "      <td>3.000000</td>\n",
       "      <td>0.0</td>\n",
       "      <td>0.0</td>\n",
       "      <td>1.0</td>\n",
       "      <td>0.0</td>\n",
       "      <td>267.0</td>\n",
       "      <td>156.5</td>\n",
       "      <td>92.5</td>\n",
       "      <td>27.10</td>\n",
       "      <td>60.0</td>\n",
       "      <td>79.0</td>\n",
       "    </tr>\n",
       "    <tr>\n",
       "      <th>2</th>\n",
       "      <td>1.0</td>\n",
       "      <td>42.0</td>\n",
       "      <td>0.0</td>\n",
       "      <td>0.000000</td>\n",
       "      <td>0.0</td>\n",
       "      <td>0.0</td>\n",
       "      <td>0.0</td>\n",
       "      <td>0.0</td>\n",
       "      <td>214.0</td>\n",
       "      <td>120.0</td>\n",
       "      <td>81.0</td>\n",
       "      <td>28.47</td>\n",
       "      <td>78.0</td>\n",
       "      <td>77.0</td>\n",
       "    </tr>\n",
       "    <tr>\n",
       "      <th>3</th>\n",
       "      <td>1.0</td>\n",
       "      <td>43.0</td>\n",
       "      <td>1.0</td>\n",
       "      <td>20.000000</td>\n",
       "      <td>0.0</td>\n",
       "      <td>0.0</td>\n",
       "      <td>0.0</td>\n",
       "      <td>0.0</td>\n",
       "      <td>184.0</td>\n",
       "      <td>127.5</td>\n",
       "      <td>81.0</td>\n",
       "      <td>28.31</td>\n",
       "      <td>108.0</td>\n",
       "      <td>75.0</td>\n",
       "    </tr>\n",
       "    <tr>\n",
       "      <th>4</th>\n",
       "      <td>0.0</td>\n",
       "      <td>41.0</td>\n",
       "      <td>1.0</td>\n",
       "      <td>9.722333</td>\n",
       "      <td>0.0</td>\n",
       "      <td>0.0</td>\n",
       "      <td>0.0</td>\n",
       "      <td>0.0</td>\n",
       "      <td>171.0</td>\n",
       "      <td>135.0</td>\n",
       "      <td>82.5</td>\n",
       "      <td>24.35</td>\n",
       "      <td>79.0</td>\n",
       "      <td>82.0</td>\n",
       "    </tr>\n",
       "  </tbody>\n",
       "</table>\n",
       "</div>"
      ],
      "text/plain": [
       "   male   age  currentSmoker  cigsPerDay  BPMeds  prevalentStroke  \\\n",
       "0   1.0  61.0            0.0    0.000000     1.0              0.0   \n",
       "1   0.0  63.0            1.0    3.000000     0.0              0.0   \n",
       "2   1.0  42.0            0.0    0.000000     0.0              0.0   \n",
       "3   1.0  43.0            1.0   20.000000     0.0              0.0   \n",
       "4   0.0  41.0            1.0    9.722333     0.0              0.0   \n",
       "\n",
       "   prevalentHyp  diabetes  totChol  sysBP  diaBP    BMI  heartRate  glucose  \n",
       "0           1.0       1.0    270.0  177.5   95.0  28.15       62.0    123.0  \n",
       "1           1.0       0.0    267.0  156.5   92.5  27.10       60.0     79.0  \n",
       "2           0.0       0.0    214.0  120.0   81.0  28.47       78.0     77.0  \n",
       "3           0.0       0.0    184.0  127.5   81.0  28.31      108.0     75.0  \n",
       "4           0.0       0.0    171.0  135.0   82.5  24.35       79.0     82.0  "
      ]
     },
     "execution_count": 365,
     "metadata": {},
     "output_type": "execute_result"
    }
   ],
   "source": [
    "X_train.head()"
   ]
  },
  {
   "cell_type": "code",
   "execution_count": 251,
   "id": "190fa79c",
   "metadata": {},
   "outputs": [],
   "source": [
    "new_index = list(X_train.index)"
   ]
  },
  {
   "cell_type": "code",
   "execution_count": 274,
   "id": "ccb43474",
   "metadata": {},
   "outputs": [
    {
     "data": {
      "text/plain": [
       "0"
      ]
     },
     "execution_count": 274,
     "metadata": {},
     "output_type": "execute_result"
    }
   ],
   "source": [
    "y_train.index.duplicated().sum()"
   ]
  },
  {
   "cell_type": "code",
   "execution_count": 270,
   "id": "5d687e2f",
   "metadata": {},
   "outputs": [],
   "source": [
    "y_train = pd.DataFrame(y_train.reset_index())['TenYearCHD']"
   ]
  },
  {
   "cell_type": "code",
   "execution_count": 272,
   "id": "6235a7e6",
   "metadata": {},
   "outputs": [
    {
     "data": {
      "text/plain": [
       "(5031,)"
      ]
     },
     "execution_count": 272,
     "metadata": {},
     "output_type": "execute_result"
    }
   ],
   "source": [
    "y_train.shape"
   ]
  },
  {
   "cell_type": "code",
   "execution_count": 273,
   "id": "33148805",
   "metadata": {},
   "outputs": [
    {
     "data": {
      "text/plain": [
       "<AxesSubplot:xlabel='male', ylabel='Count'>"
      ]
     },
     "execution_count": 273,
     "metadata": {},
     "output_type": "execute_result"
    },
    {
     "data": {
      "image/png": "[encoded data removed]",
      "text/plain": [
       "<Figure size 432x288 with 1 Axes>"
      ]
     },
     "metadata": {
      "needs_background": "light"
     },
     "output_type": "display_data"
    }
   ],
   "source": [
    "sns.histplot(x=X_train['male'], hue=y_train)"
   ]
  },
  {
   "cell_type": "markdown",
   "id": "a8a1c207",
   "metadata": {},
   "source": [
    "- more ratio of males have TenYearCHD than females"
   ]
  },
  {
   "cell_type": "markdown",
   "id": "5cbe842b",
   "metadata": {},
   "source": [
    "- Distribution of *age* in the entire dataset."
   ]
  },
  {
   "cell_type": "code",
   "execution_count": 275,
   "id": "15a32121",
   "metadata": {},
   "outputs": [
    {
     "data": {
      "text/plain": [
       "<AxesSubplot:xlabel='age', ylabel='Count'>"
      ]
     },
     "execution_count": 275,
     "metadata": {},
     "output_type": "execute_result"
    },
    {
     "data": {
      "image/png": "[encoded data removed]",
      "text/plain": [
       "<Figure size 432x288 with 1 Axes>"
      ]
     },
     "metadata": {
      "needs_background": "light"
     },
     "output_type": "display_data"
    }
   ],
   "source": [
    "sns.histplot(x=X_train['age'], kde=True)"
   ]
  },
  {
   "cell_type": "markdown",
   "id": "277dac49",
   "metadata": {},
   "source": [
    "- There is a uniform distribution in the age feature throughout the dataset."
   ]
  },
  {
   "cell_type": "markdown",
   "id": "381e032d",
   "metadata": {},
   "source": [
    "- Can there be a relation between the fraction of people having 10yearCHD at an age and the age?\n",
    "- yes, let's see if this relation increases with age or something else."
   ]
  },
  {
   "cell_type": "code",
   "execution_count": 276,
   "id": "9452cb44",
   "metadata": {},
   "outputs": [],
   "source": [
    "# count of heart disease based on age\n",
    "ages = list(X_train['age'].unique())\n",
    "y = []\n",
    "for age in ages:\n",
    "    count = 0\n",
    "    count_total = len(X_train[X_train['age']==age])\n",
    "    for i in range(0, len(X_train)):\n",
    "        if X_train['age'][i] == age:\n",
    "            count += list(y_train)[i]\n",
    "    y.append(count/count_total)"
   ]
  },
  {
   "cell_type": "code",
   "execution_count": 280,
   "id": "29ed4529",
   "metadata": {},
   "outputs": [
    {
     "data": {
      "text/plain": [
       "51.0    208\n",
       "59.0    196\n",
       "48.0    194\n",
       "46.0    192\n",
       "52.0    190\n",
       "50.0    188\n",
       "47.0    182\n",
       "58.0    177\n",
       "44.0    174\n",
       "57.0    171\n",
       "40.0    171\n",
       "55.0    170\n",
       "56.0    170\n",
       "45.0    168\n",
       "41.0    164\n",
       "60.0    160\n",
       "61.0    158\n",
       "54.0    157\n",
       "49.0    156\n",
       "43.0    156\n",
       "42.0    155\n",
       "53.0    148\n",
       "62.0    146\n",
       "63.0    144\n",
       "64.0    136\n",
       "39.0    134\n",
       "38.0    129\n",
       "65.0    118\n",
       "67.0     91\n",
       "66.0     87\n",
       "37.0     79\n",
       "36.0     71\n",
       "35.0     36\n",
       "68.0     27\n",
       "34.0     13\n",
       "69.0     10\n",
       "70.0      2\n",
       "33.0      2\n",
       "32.0      1\n",
       "Name: age, dtype: int64"
      ]
     },
     "execution_count": 280,
     "metadata": {},
     "output_type": "execute_result"
    }
   ],
   "source": [
    "X_train['age'].value_counts()"
   ]
  },
  {
   "cell_type": "code",
   "execution_count": 281,
   "id": "feb1013c",
   "metadata": {},
   "outputs": [
    {
     "data": {
      "text/plain": [
       "[Text(0.5, 0, 'age'), Text(0, 0.5, 'fraction of CHD patients at an age')]"
      ]
     },
     "execution_count": 281,
     "metadata": {},
     "output_type": "execute_result"
    },
    {
     "data": {
      "image/png": "[encoded data removed]",
      "text/plain": [
       "<Figure size 648x360 with 1 Axes>"
      ]
     },
     "metadata": {
      "needs_background": "light"
     },
     "output_type": "display_data"
    }
   ],
   "source": [
    "age_plot = plt.figure(figsize=(9,5))\n",
    "age_plot = sns.lineplot(x=ages, y=y, color='b')\n",
    "age_plot.set(xlabel='age', ylabel='fraction of CHD patients at an age')"
   ]
  },
  {
   "cell_type": "markdown",
   "id": "812c3182",
   "metadata": {},
   "source": [
    "From the above plot it's clear that with age more fraction of people suffer\n",
    "from the 10yearCHD.\n",
    "Also, we can say that the more is your age, there is a higher chance of you having 10yearCHD. And, we can also see a sudden downfall in the graph at an age of 68 approx which can be justified by the fact that the number of people present in the dataset with that age is also less, hence the fraction is less, say for example age=70 has only 2 people out of which 1 has TenYearCHD so fraction is 0.5, OR 50% chance of having TenYearCHD."
   ]
  },
  {
   "cell_type": "code",
   "execution_count": 282,
   "id": "097bfa46",
   "metadata": {},
   "outputs": [
    {
     "data": {
      "text/plain": [
       "<AxesSubplot:xlabel='currentSmoker', ylabel='Count'>"
      ]
     },
     "execution_count": 282,
     "metadata": {},
     "output_type": "execute_result"
    },
    {
     "data": {
      "image/png": "[encoded data removed]",
      "text/plain": [
       "<Figure size 432x288 with 1 Axes>"
      ]
     },
     "metadata": {
      "needs_background": "light"
     },
     "output_type": "display_data"
    }
   ],
   "source": [
    "sns.histplot(x=X_train['currentSmoker'], hue=y_train, palette=['Magenta','r'])"
   ]
  },
  {
   "cell_type": "markdown",
   "id": "72b93969",
   "metadata": {},
   "source": [
    "- So, whether or not the person smokes or not they have almost equal chance of having the TenYearCHD.\n",
    "- So, maybe this feature does not effect our overall prediction of the heart disease.\n",
    "- Also it might be help full to know that although smoking doesn't matter a/c to the dataset, but the number of ciggerates smoked per day will matter as smoking is one of the direct cause of Coronary Heart disease."
   ]
  },
  {
   "cell_type": "code",
   "execution_count": 283,
   "id": "819f5109",
   "metadata": {},
   "outputs": [
    {
     "data": {
      "text/plain": [
       "<AxesSubplot:xlabel='cigsPerDay', ylabel='age'>"
      ]
     },
     "execution_count": 283,
     "metadata": {},
     "output_type": "execute_result"
    },
    {
     "data": {
      "image/png": "[encoded data removed]",
      "text/plain": [
       "<Figure size 432x288 with 1 Axes>"
      ]
     },
     "metadata": {
      "needs_background": "light"
     },
     "output_type": "display_data"
    }
   ],
   "source": [
    "sns.scatterplot(x=X_train['cigsPerDay'], y=X_train['age'], hue=y_train, palette=['b','r'])"
   ]
  },
  {
   "cell_type": "markdown",
   "id": "efc9d4a9",
   "metadata": {},
   "source": [
    "#### From the above plot\n",
    "- for age between 0 to 15 and 30 to 60 there is a medium fraction of people having the disease.\n",
    "- for age above 15 till 30 there is a large fraction of people having the disease.\n",
    "- The above two statements can be obvious because the number of aged people are less in the dataset."
   ]
  },
  {
   "cell_type": "markdown",
   "id": "6d6ee0f6",
   "metadata": {},
   "source": [
    "Let's also see the distribution of *cigsPerDay* feature in the train dataset."
   ]
  },
  {
   "cell_type": "code",
   "execution_count": 309,
   "id": "a19e6b57",
   "metadata": {},
   "outputs": [
    {
     "data": {
      "text/plain": [
       "<AxesSubplot:xlabel='cigsPerDay', ylabel='Count'>"
      ]
     },
     "execution_count": 309,
     "metadata": {},
     "output_type": "execute_result"
    },
    {
     "data": {
      "image/png": "[encoded data removed]",
      "text/plain": [
       "<Figure size 432x288 with 1 Axes>"
      ]
     },
     "metadata": {
      "needs_background": "light"
     },
     "output_type": "display_data"
    }
   ],
   "source": [
    "sns.histplot(x=X_train['cigsPerDay'], kde=True)"
   ]
  },
  {
   "cell_type": "markdown",
   "id": "76858050",
   "metadata": {},
   "source": [
    "- So, this plot explains why we see such variations in the scatter plot above, because the distribution itself is not normal.\n",
    "- Let's convert it into normal distribution, to analyse the data well."
   ]
  },
  {
   "cell_type": "code",
   "execution_count": 340,
   "id": "812d87b6",
   "metadata": {},
   "outputs": [
    {
     "data": {
      "text/plain": [
       "<AxesSubplot:xlabel='cigsPerDay', ylabel='Count'>"
      ]
     },
     "execution_count": 340,
     "metadata": {},
     "output_type": "execute_result"
    },
    {
     "data": {
      "image/png": "[encoded data removed]",
      "text/plain": [
       "<Figure size 432x288 with 1 Axes>"
      ]
     },
     "metadata": {
      "needs_background": "light"
     },
     "output_type": "display_data"
    }
   ],
   "source": [
    "sns.histplot(x=np.log(X_train['cigsPerDay']+2), kde=True)"
   ]
  },
  {
   "cell_type": "code",
   "execution_count": 341,
   "id": "54db140d",
   "metadata": {},
   "outputs": [
    {
     "data": {
      "text/plain": [
       "<AxesSubplot:xlabel='cigsPerDay', ylabel='age'>"
      ]
     },
     "execution_count": 341,
     "metadata": {},
     "output_type": "execute_result"
    },
    {
     "data": {
      "image/png": "[encoded data removed]",
      "text/plain": [
       "<Figure size 432x288 with 1 Axes>"
      ]
     },
     "metadata": {
      "needs_background": "light"
     },
     "output_type": "display_data"
    }
   ],
   "source": [
    "sns.scatterplot(x=np.log(X_train['cigsPerDay']+2), y=X_train['age'], hue=y_train, palette=['b','r'])"
   ]
  },
  {
   "cell_type": "markdown",
   "id": "6e5d7eb2",
   "metadata": {},
   "source": [
    "- Now we see that if the distribution becomes more inclined towards normal(bell shaped), the more ciggrate smoked per day leads to a high chance of TenYearCHD irrespective of the age of that person. Which is obvious!\n",
    "- This **strongly** indicates that *cigsPerDay* is vital feature for predicting the TenYearCHD."
   ]
  },
  {
   "cell_type": "markdown",
   "id": "b313024a",
   "metadata": {},
   "source": [
    "- High blood pressure can cause many heart problems, including: Coronary heart disease.\n",
    "- Let's examine how bpMeds effects the disease."
   ]
  },
  {
   "cell_type": "code",
   "execution_count": 342,
   "id": "90e5c7ee",
   "metadata": {},
   "outputs": [
    {
     "data": {
      "text/plain": [
       "<AxesSubplot:xlabel='BPMeds', ylabel='Count'>"
      ]
     },
     "execution_count": 342,
     "metadata": {},
     "output_type": "execute_result"
    },
    {
     "data": {
      "image/png": "[encoded data removed]",
      "text/plain": [
       "<Figure size 432x288 with 1 Axes>"
      ]
     },
     "metadata": {
      "needs_background": "light"
     },
     "output_type": "display_data"
    }
   ],
   "source": [
    "sns.histplot(x=X_train['BPMeds'], hue=y_train)"
   ]
  },
  {
   "cell_type": "markdown",
   "id": "c7793fc4",
   "metadata": {},
   "source": [
    "- As obvious from the above plot we see that a person having BP medications has a high chance of having TenYearCHD.\n",
    "- But what is the age variation of the people taking BP medications?\n",
    "    - let's examine it."
   ]
  },
  {
   "cell_type": "code",
   "execution_count": 343,
   "id": "a2f6583f",
   "metadata": {},
   "outputs": [
    {
     "data": {
      "text/plain": [
       "214"
      ]
     },
     "execution_count": 343,
     "metadata": {},
     "output_type": "execute_result"
    }
   ],
   "source": [
    "len(X_train[X_train['BPMeds']==1])"
   ]
  },
  {
   "cell_type": "markdown",
   "id": "9cb87a9c",
   "metadata": {},
   "source": [
    "So, very few people take BP medications, or simply put very few people suffer from BP problems.\n",
    "But what age group suffers most BP problems?\n",
    "Let's find out..."
   ]
  },
  {
   "cell_type": "code",
   "execution_count": 346,
   "id": "89c7f657",
   "metadata": {},
   "outputs": [
    {
     "data": {
      "text/plain": [
       "214"
      ]
     },
     "execution_count": 346,
     "metadata": {},
     "output_type": "execute_result"
    }
   ],
   "source": [
    "len(X_train[X_train['BPMeds']==1]['age'])"
   ]
  },
  {
   "cell_type": "code",
   "execution_count": 352,
   "id": "979fef7a",
   "metadata": {},
   "outputs": [
    {
     "data": {
      "text/plain": [
       "<AxesSubplot:xlabel='BPMeds', ylabel='age'>"
      ]
     },
     "execution_count": 352,
     "metadata": {},
     "output_type": "execute_result"
    },
    {
     "data": {
      "image/png": "[encoded data removed]",
      "text/plain": [
       "<Figure size 432x288 with 1 Axes>"
      ]
     },
     "metadata": {
      "needs_background": "light"
     },
     "output_type": "display_data"
    }
   ],
   "source": [
    "sns.stripplot(x='BPMeds', y='age', data=X_train)"
   ]
  },
  {
   "cell_type": "markdown",
   "id": "ddf6dfc6",
   "metadata": {},
   "source": [
    "- Most of the people who take BPMeds are aged in the range of 50s to 70s and they have a chance of probably greater than 50%(from the histplot above).\n",
    "\n",
    "#### Conclusions from the above analysis about the BPMeds feature:\n",
    "    1. More than 50% chance of having TenYearCHD if a person is in BPMeds.\n",
    "    2. Most of the senior citizens are on BP medications.\n",
    "##### BPMeds is a vital feature in predicting TenYearCHD."
   ]
  },
  {
   "cell_type": "markdown",
   "id": "f11016c1",
   "metadata": {},
   "source": [
    "##### Strokes and TenYearCHD"
   ]
  },
  {
   "cell_type": "markdown",
   "id": "f2c8988b",
   "metadata": {},
   "source": [
    "- Approximately one fourth of patients with a recent stroke have a history of symptomatic coronary artery disease.\n",
    "- These patients are prone to recurrent coronary heart disease (CHD) events with a 10-year risk >20%.\n",
    "- Seems that *Stroke* plays a vital role in predicting future heart related problems, let's analyse it.\n",
    "###### Referenced article: https://www.ahajournals.org/doi/10.1161/strokeaha.109.564781\n"
   ]
  },
  {
   "cell_type": "code",
   "execution_count": 353,
   "id": "bec8d93d",
   "metadata": {},
   "outputs": [
    {
     "data": {
      "text/plain": [
       "Index(['male', 'age', 'currentSmoker', 'cigsPerDay', 'BPMeds',\n",
       "       'prevalentStroke', 'prevalentHyp', 'diabetes', 'totChol', 'sysBP',\n",
       "       'diaBP', 'BMI', 'heartRate', 'glucose'],\n",
       "      dtype='object')"
      ]
     },
     "execution_count": 353,
     "metadata": {},
     "output_type": "execute_result"
    }
   ],
   "source": [
    "X_train.columns"
   ]
  },
  {
   "cell_type": "code",
   "execution_count": 354,
   "id": "26be845e",
   "metadata": {},
   "outputs": [
    {
     "data": {
      "text/plain": [
       "<AxesSubplot:xlabel='prevalentStroke', ylabel='Count'>"
      ]
     },
     "execution_count": 354,
     "metadata": {},
     "output_type": "execute_result"
    },
    {
     "data": {
      "image/png": "[encoded data removed]",
      "text/plain": [
       "<Figure size 432x288 with 1 Axes>"
      ]
     },
     "metadata": {
      "needs_background": "light"
     },
     "output_type": "display_data"
    }
   ],
   "source": [
    "sns.histplot(x=X_train['prevalentStroke'], hue=y_train)"
   ]
  },
  {
   "cell_type": "markdown",
   "id": "c3a4bd8b",
   "metadata": {},
   "source": [
    "- Again! Almost every person suffered from a stroke had a chance of more than 95%(approx) for TenYearCHD(the article was indicating towards this, and further justified by the dataset).\n",
    "- Now let's examine the age variation of *prevalentStroke*."
   ]
  },
  {
   "cell_type": "code",
   "execution_count": 357,
   "id": "3a38dd96",
   "metadata": {},
   "outputs": [
    {
     "data": {
      "text/plain": [
       "<AxesSubplot:xlabel='prevalentStroke', ylabel='age'>"
      ]
     },
     "execution_count": 357,
     "metadata": {},
     "output_type": "execute_result"
    },
    {
     "data": {
      "image/png": "[encoded data removed]",
      "text/plain": [
       "<Figure size 432x288 with 1 Axes>"
      ]
     },
     "metadata": {
      "needs_background": "light"
     },
     "output_type": "display_data"
    }
   ],
   "source": [
    "sns.stripplot(x='prevalentStroke', y='age', data=X_train)"
   ]
  },
  {
   "cell_type": "markdown",
   "id": "ec6ab5c3",
   "metadata": {},
   "source": [
    "- Again almost only senior citizen suffer from strokes"
   ]
  },
  {
   "cell_type": "markdown",
   "id": "b422e6e5",
   "metadata": {},
   "source": [
    "#### Conclusions from the above analysis about the prevalentStroke feature:\n",
    "    1. More than 95% chance of having TenYearCHD if a person has suffered a stroke before.\n",
    "    2. Most of the senior citizens have suffere a stroke.\n",
    "##### prevalentStroke is a vital feature in predicting TenYearCHD."
   ]
  },
  {
   "cell_type": "markdown",
   "id": "65cd377d",
   "metadata": {},
   "source": [
    "##### Hypertensive"
   ]
  },
  {
   "cell_type": "markdown",
   "id": "458fbc82",
   "metadata": {},
   "source": [
    "High blood pressure, also called hypertension, is blood pressure that is higher than normal. Your blood pressure changes throughout the day based on your activities. Having blood pressure measures consistently above normal may result in a diagnosis of high blood pressure (or hypertension)."
   ]
  },
  {
   "cell_type": "code",
   "execution_count": 358,
   "metadata": {},
   "outputs": [
    {
     "data": {
      "text/plain": [
       "<AxesSubplot:xlabel='prevalentHyp', ylabel='Count'>"
      ]
     },
     "execution_count": 358,
     "metadata": {},
     "output_type": "execute_result"
    },
    {
     "data": {
      "image/png": "[encoded data removed]",
      "text/plain": [
       "<Figure size 432x288 with 1 Axes>"
      ]
     },
     "metadata": {
      "needs_background": "light"
     },
     "output_type": "display_data"
    }
   ],
   "source": [
    "sns.histplot(x=X_train['prevalentHyp'], hue=X_train['currentSmoker'])"
   ]
  },
  {
   "cell_type": "markdown",
   "id": "6b2180ef",
   "metadata": {},
   "source": [
    "- A person having had a hypertension has a higher chance of being a current smoker than a non smoker.\n",
    "#### But why now are they not having hypertension even when they are smoking?\n",
    "    Well, we can say that they have cured their hypertension recently by being on BPMeds and now they neither have hypertension nor are on BPMeds.\n",
    "- Also it's been found that smoking is one of the cause for hypertension which is also clearly depicted by the above plot.\n",
    "- If the person was hypertensive earlier, then he/she must not be on BPMeds because now they are not hypertensive, they were in the past. Let's see."
   ]
  },
  {
   "cell_type": "code",
   "execution_count": 360,
   "id": "b239c537",
   "metadata": {},
   "outputs": [
    {
     "data": {
      "text/plain": [
       "<AxesSubplot:xlabel='prevalentHyp', ylabel='Count'>"
      ]
     },
     "execution_count": 360,
     "metadata": {},
     "output_type": "execute_result"
    },
    {
     "data": {
      "image/png": "[encoded data removed]",
      "text/plain": [
       "<Figure size 432x288 with 1 Axes>"
      ]
     },
     "metadata": {
      "needs_background": "light"
     },
     "output_type": "display_data"
    }
   ],
   "source": [
    "sns.histplot(x=X_train['prevalentHyp'], hue=X_train['BPMeds'])"
   ]
  },
  {
   "cell_type": "markdown",
   "id": "d190284f",
   "metadata": {},
   "source": [
    "- All of them who were hypertensive are not on BPMeds, because they were priviously on BPMeds, but when they cured from hypertensiveness they also quit taking BP medications.\n",
    "- Let's see what is the chance of such a person having a TenYearCHD."
   ]
  },
  {
   "cell_type": "code",
   "execution_count": 361,
   "id": "3adf373d",
   "metadata": {},
   "outputs": [
    {
     "data": {
      "text/plain": [
       "<AxesSubplot:xlabel='prevalentHyp', ylabel='Count'>"
      ]
     },
     "execution_count": 361,
     "metadata": {},
     "output_type": "execute_result"
    },
    {
     "data": {
      "image/png": "[encoded data removed]",
      "text/plain": [
       "<Figure size 432x288 with 1 Axes>"
      ]
     },
     "metadata": {
      "needs_background": "light"
     },
     "output_type": "display_data"
    }
   ],
   "source": [
    "sns.histplot(x=X_train['prevalentHyp'], hue=y_train)"
   ]
  },
  {
   "cell_type": "markdown",
   "id": "a3389742",
   "metadata": {},
   "source": [
    "- They clearly have a high chance of having the disease.\n",
    "##### How does age vary with this hypertensiveness?"
   ]
  },
  {
   "cell_type": "code",
   "execution_count": 364,
   "metadata": {},
   "outputs": [
    {
     "data": {
      "text/plain": [
       "<AxesSubplot:xlabel='prevalentHyp', ylabel='age'>"
      ]
     },
     "execution_count": 364,
     "metadata": {},
     "output_type": "execute_result"
    },
    {
     "data": {
      "image/png": "[encoded data removed]",
      "text/plain": [
       "<Figure size 432x288 with 1 Axes>"
      ]
     },
     "metadata": {
      "needs_background": "light"
     },
     "output_type": "display_data"
    }
   ],
   "source": [
    "sns.stripplot(x='prevalentHyp', y='age', data=X_train)"
   ]
  },
  {
   "cell_type": "markdown",
   "id": "9a68d9ce",
   "metadata": {},
   "source": [
    "- Almost every person suffers from hypertension irrespective of their age."
   ]
  },
  {
   "cell_type": "code",
   "execution_count": null,
   "metadata": {},
   "outputs": [],
   "source": []
  },
  {
   "cell_type": "code",
   "execution_count": null,
   "id": "bde21082",
   "metadata": {},
   "outputs": [],
   "source": []
  },
  {
   "cell_type": "code",
   "execution_count": null,
   "id": "954c93c9",
   "metadata": {},
   "outputs": [],
   "source": []
  },
  {
   "cell_type": "code",
   "execution_count": null,
   "id": "17b59140",
   "metadata": {},
   "outputs": [],
   "source": []
  },
  {
   "cell_type": "code",
   "execution_count": null,
   "metadata": {},
   "outputs": [],
   "source": []
  },
  {
   "cell_type": "code",
   "execution_count": null,
   "metadata": {},
   "outputs": [],
   "source": []
  },
  {
   "cell_type": "code",
   "execution_count": null,
   "id": "4dbfac1a",
   "metadata": {},
   "outputs": [],
   "source": []
  },
  {
   "cell_type": "code",
   "execution_count": null,
   "id": "a52917e0",
   "metadata": {},
   "outputs": [],
   "source": []
  }
 ],
 "metadata": {
  "kernelspec": {
   "display_name": "heart_deisease_predictor",
   "language": "python",
   "name": "heart_deisease_predictor"
  },
  "language_info": {
   "codemirror_mode": {
    "name": "ipython",
    "version": 3
   },
   "file_extension": ".py",
   "mimetype": "text/x-python",
   "name": "python",
   "nbconvert_exporter": "python",
   "pygments_lexer": "ipython3",
   "version": "3.10.2"
  },
  "vscode": {
   "interpreter": {
    "hash": "fe3e2518d4d3c0fd2556922314093ff6b72d7b6f888a53267e559115009644cb"
   }
  }
 },
 "nbformat": 4,
 "nbformat_minor": 5
}
