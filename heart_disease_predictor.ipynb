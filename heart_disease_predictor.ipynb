{
 "cells": [
  {
   "cell_type": "markdown",
   "id": "ba548d6b",
   "metadata": {},
   "source": [
    "# Heart Disease Predictor"
   ]
  },
  {
   "cell_type": "markdown",
   "id": "f35b64fc",
   "metadata": {},
   "source": [
    "- This *new_data* branch is for improving this model.\n",
    "- I need to know more about this dataset and make my Data Science practices more clear, easy to understand, and more robust."
   ]
  },
  {
   "cell_type": "code",
   "execution_count": 2,
   "id": "09161f3a",
   "metadata": {},
   "outputs": [],
   "source": [
    "import pandas as pd\n",
    "import numpy as np\n",
    "import seaborn as sns\n",
    "import matplotlib.pyplot as plt\n",
    "from sklearn.model_selection import train_test_split\n",
    "from sklearn.linear_model import LogisticRegression\n",
    "from sklearn.metrics import confusion_matrix, r2_score, accuracy_score\n",
    "from sklearn.preprocessing import StandardScaler\n",
    "from sklearn.impute import SimpleImputer\n",
    "from sklearn.feature_selection import SelectKBest, f_classif, chi2"
   ]
  },
  {
   "cell_type": "markdown",
   "id": "b5d5ec10",
   "metadata": {},
   "source": [
    "#### Life cycle of a Data Science project:\n",
    "- Data Collection\n",
    "- EDA\n",
    "- Data Preprocessing\n",
    "- Feature Engineering\n",
    "- Model building and evaluation\n",
    "- Model deployment"
   ]
  },
  {
   "cell_type": "markdown",
   "id": "5280dedc",
   "metadata": {},
   "source": [
    "## Data Collection"
   ]
  },
  {
   "cell_type": "code",
   "execution_count": 3,
   "id": "547137db",
   "metadata": {},
   "outputs": [],
   "source": [
    "data = pd.read_csv('./data/framingham.csv')"
   ]
  },
  {
   "cell_type": "code",
   "execution_count": 4,
   "id": "c651bf29",
   "metadata": {},
   "outputs": [
    {
     "data": {
      "text/plain": [
       "(4238, 16)"
      ]
     },
     "execution_count": 4,
     "metadata": {},
     "output_type": "execute_result"
    }
   ],
   "source": [
    "data.shape"
   ]
  },
  {
   "cell_type": "code",
   "execution_count": 5,
   "id": "8a1900e4",
   "metadata": {},
   "outputs": [
    {
     "name": "stdout",
     "output_type": "stream",
     "text": [
      "<class 'pandas.core.frame.DataFrame'>\n",
      "RangeIndex: 4238 entries, 0 to 4237\n",
      "Data columns (total 16 columns):\n",
      " #   Column           Non-Null Count  Dtype  \n",
      "---  ------           --------------  -----  \n",
      " 0   male             4238 non-null   int64  \n",
      " 1   age              4238 non-null   int64  \n",
      " 2   education        4133 non-null   float64\n",
      " 3   currentSmoker    4238 non-null   int64  \n",
      " 4   cigsPerDay       4209 non-null   float64\n",
      " 5   BPMeds           4185 non-null   float64\n",
      " 6   prevalentStroke  4238 non-null   int64  \n",
      " 7   prevalentHyp     4238 non-null   int64  \n",
      " 8   diabetes         4238 non-null   int64  \n",
      " 9   totChol          4188 non-null   float64\n",
      " 10  sysBP            4238 non-null   float64\n",
      " 11  diaBP            4238 non-null   float64\n",
      " 12  BMI              4219 non-null   float64\n",
      " 13  heartRate        4237 non-null   float64\n",
      " 14  glucose          3850 non-null   float64\n",
      " 15  TenYearCHD       4238 non-null   int64  \n",
      "dtypes: float64(9), int64(7)\n",
      "memory usage: 529.9 KB\n"
     ]
    }
   ],
   "source": [
    "data.info()"
   ]
  },
  {
   "cell_type": "markdown",
   "id": "95e4be1f",
   "metadata": {},
   "source": [
    "## EDA"
   ]
  },
  {
   "cell_type": "code",
   "execution_count": 6,
   "id": "3d8b8770",
   "metadata": {},
   "outputs": [
    {
     "data": {
      "text/html": [
       "<div>\n",
       "<style scoped>\n",
       "    .dataframe tbody tr th:only-of-type {\n",
       "        vertical-align: middle;\n",
       "    }\n",
       "\n",
       "    .dataframe tbody tr th {\n",
       "        vertical-align: top;\n",
       "    }\n",
       "\n",
       "    .dataframe thead th {\n",
       "        text-align: right;\n",
       "    }\n",
       "</style>\n",
       "<table border=\"1\" class=\"dataframe\">\n",
       "  <thead>\n",
       "    <tr style=\"text-align: right;\">\n",
       "      <th></th>\n",
       "      <th>male</th>\n",
       "      <th>age</th>\n",
       "      <th>education</th>\n",
       "      <th>currentSmoker</th>\n",
       "      <th>cigsPerDay</th>\n",
       "      <th>BPMeds</th>\n",
       "      <th>prevalentStroke</th>\n",
       "      <th>prevalentHyp</th>\n",
       "      <th>diabetes</th>\n",
       "      <th>totChol</th>\n",
       "      <th>sysBP</th>\n",
       "      <th>diaBP</th>\n",
       "      <th>BMI</th>\n",
       "      <th>heartRate</th>\n",
       "      <th>glucose</th>\n",
       "      <th>TenYearCHD</th>\n",
       "    </tr>\n",
       "  </thead>\n",
       "  <tbody>\n",
       "    <tr>\n",
       "      <th>0</th>\n",
       "      <td>1</td>\n",
       "      <td>39</td>\n",
       "      <td>4.0</td>\n",
       "      <td>0</td>\n",
       "      <td>0.0</td>\n",
       "      <td>0.0</td>\n",
       "      <td>0</td>\n",
       "      <td>0</td>\n",
       "      <td>0</td>\n",
       "      <td>195.0</td>\n",
       "      <td>106.0</td>\n",
       "      <td>70.0</td>\n",
       "      <td>26.97</td>\n",
       "      <td>80.0</td>\n",
       "      <td>77.0</td>\n",
       "      <td>0</td>\n",
       "    </tr>\n",
       "    <tr>\n",
       "      <th>1</th>\n",
       "      <td>0</td>\n",
       "      <td>46</td>\n",
       "      <td>2.0</td>\n",
       "      <td>0</td>\n",
       "      <td>0.0</td>\n",
       "      <td>0.0</td>\n",
       "      <td>0</td>\n",
       "      <td>0</td>\n",
       "      <td>0</td>\n",
       "      <td>250.0</td>\n",
       "      <td>121.0</td>\n",
       "      <td>81.0</td>\n",
       "      <td>28.73</td>\n",
       "      <td>95.0</td>\n",
       "      <td>76.0</td>\n",
       "      <td>0</td>\n",
       "    </tr>\n",
       "    <tr>\n",
       "      <th>2</th>\n",
       "      <td>1</td>\n",
       "      <td>48</td>\n",
       "      <td>1.0</td>\n",
       "      <td>1</td>\n",
       "      <td>20.0</td>\n",
       "      <td>0.0</td>\n",
       "      <td>0</td>\n",
       "      <td>0</td>\n",
       "      <td>0</td>\n",
       "      <td>245.0</td>\n",
       "      <td>127.5</td>\n",
       "      <td>80.0</td>\n",
       "      <td>25.34</td>\n",
       "      <td>75.0</td>\n",
       "      <td>70.0</td>\n",
       "      <td>0</td>\n",
       "    </tr>\n",
       "    <tr>\n",
       "      <th>3</th>\n",
       "      <td>0</td>\n",
       "      <td>61</td>\n",
       "      <td>3.0</td>\n",
       "      <td>1</td>\n",
       "      <td>30.0</td>\n",
       "      <td>0.0</td>\n",
       "      <td>0</td>\n",
       "      <td>1</td>\n",
       "      <td>0</td>\n",
       "      <td>225.0</td>\n",
       "      <td>150.0</td>\n",
       "      <td>95.0</td>\n",
       "      <td>28.58</td>\n",
       "      <td>65.0</td>\n",
       "      <td>103.0</td>\n",
       "      <td>1</td>\n",
       "    </tr>\n",
       "    <tr>\n",
       "      <th>4</th>\n",
       "      <td>0</td>\n",
       "      <td>46</td>\n",
       "      <td>3.0</td>\n",
       "      <td>1</td>\n",
       "      <td>23.0</td>\n",
       "      <td>0.0</td>\n",
       "      <td>0</td>\n",
       "      <td>0</td>\n",
       "      <td>0</td>\n",
       "      <td>285.0</td>\n",
       "      <td>130.0</td>\n",
       "      <td>84.0</td>\n",
       "      <td>23.10</td>\n",
       "      <td>85.0</td>\n",
       "      <td>85.0</td>\n",
       "      <td>0</td>\n",
       "    </tr>\n",
       "  </tbody>\n",
       "</table>\n",
       "</div>"
      ],
      "text/plain": [
       "   male  age  education  currentSmoker  cigsPerDay  BPMeds  prevalentStroke  \\\n",
       "0     1   39        4.0              0         0.0     0.0                0   \n",
       "1     0   46        2.0              0         0.0     0.0                0   \n",
       "2     1   48        1.0              1        20.0     0.0                0   \n",
       "3     0   61        3.0              1        30.0     0.0                0   \n",
       "4     0   46        3.0              1        23.0     0.0                0   \n",
       "\n",
       "   prevalentHyp  diabetes  totChol  sysBP  diaBP    BMI  heartRate  glucose  \\\n",
       "0             0         0    195.0  106.0   70.0  26.97       80.0     77.0   \n",
       "1             0         0    250.0  121.0   81.0  28.73       95.0     76.0   \n",
       "2             0         0    245.0  127.5   80.0  25.34       75.0     70.0   \n",
       "3             1         0    225.0  150.0   95.0  28.58       65.0    103.0   \n",
       "4             0         0    285.0  130.0   84.0  23.10       85.0     85.0   \n",
       "\n",
       "   TenYearCHD  \n",
       "0           0  \n",
       "1           0  \n",
       "2           0  \n",
       "3           1  \n",
       "4           0  "
      ]
     },
     "execution_count": 6,
     "metadata": {},
     "output_type": "execute_result"
    }
   ],
   "source": [
    "data.head()"
   ]
  },
  {
   "cell_type": "markdown",
   "id": "e830df9b",
   "metadata": {},
   "source": [
    "- Check for duplicated data."
   ]
  },
  {
   "cell_type": "code",
   "execution_count": 7,
   "id": "755b1349",
   "metadata": {},
   "outputs": [
    {
     "data": {
      "text/plain": [
       "0"
      ]
     },
     "execution_count": 7,
     "metadata": {},
     "output_type": "execute_result"
    }
   ],
   "source": [
    "data_duplicates = data.duplicated()\n",
    "data_duplicates.sum()"
   ]
  },
  {
   "cell_type": "markdown",
   "id": "bf568221",
   "metadata": {},
   "source": [
    "- there are **NO** duplicates in the dataset."
   ]
  },
  {
   "cell_type": "markdown",
   "id": "69cd114d",
   "metadata": {},
   "source": [
    "- Check if we have imbalanced dataset"
   ]
  },
  {
   "cell_type": "code",
   "execution_count": 8,
   "id": "560e1e5c",
   "metadata": {},
   "outputs": [
    {
     "data": {
      "text/plain": [
       "0    3594\n",
       "1     644\n",
       "Name: TenYearCHD, dtype: int64"
      ]
     },
     "execution_count": 8,
     "metadata": {},
     "output_type": "execute_result"
    }
   ],
   "source": [
    "data['TenYearCHD'].value_counts()"
   ]
  },
  {
   "cell_type": "code",
   "execution_count": 9,
   "id": "63389cb1",
   "metadata": {},
   "outputs": [
    {
     "data": {
      "text/plain": [
       "<AxesSubplot:xlabel='TenYearCHD', ylabel='count'>"
      ]
     },
     "execution_count": 9,
     "metadata": {},
     "output_type": "execute_result"
    },
    {
     "data": {
      "image/png": "[encoded data removed]",
      "text/plain": [
       "<Figure size 432x288 with 1 Axes>"
      ]
     },
     "metadata": {
      "needs_background": "light"
     },
     "output_type": "display_data"
    }
   ],
   "source": [
    "sns.countplot(x=data['TenYearCHD'])"
   ]
  },
  {
   "cell_type": "markdown",
   "id": "ad0b985a",
   "metadata": {},
   "source": [
    "- So, the above dataset is imbalanced. If we train the binary classification without fixing this issue, our model will be completely biased.\n",
    "- this would also impact our feature correlation.\n",
    "- So, let's handel this.\n",
    "- Before balancing the dataset, we need to split it first, because I am going to use SMOTE technique to balanced this dataset in X_train, this SMOTE must not be implemented in the X_test data.\n",
    "- SMOTE is an algortihm that uses K-nearest neighbours to generate synthetic data from the original data(in this case X_train)"
   ]
  },
  {
   "cell_type": "markdown",
   "id": "a38812b5",
   "metadata": {},
   "source": [
    "## Split"
   ]
  },
  {
   "cell_type": "code",
   "execution_count": 10,
   "id": "43957339",
   "metadata": {},
   "outputs": [],
   "source": [
    "X_train, X_test, y_train, y_test = train_test_split(data, data['TenYearCHD'], test_size=0.3, random_state=0)"
   ]
  },
  {
   "cell_type": "markdown",
   "id": "ddc821fa",
   "metadata": {},
   "source": [
    "##### Handling imbalanced dataset\n",
    "    - only on X_train"
   ]
  },
  {
   "cell_type": "markdown",
   "id": "8ec4f72c",
   "metadata": {},
   "source": [
    "- Now let's check the shape and balance of the dataset:"
   ]
  },
  {
   "cell_type": "markdown",
   "id": "170c1d35",
   "metadata": {},
   "source": [
    "- shape of the dataset"
   ]
  },
  {
   "cell_type": "code",
   "execution_count": 11,
   "id": "b27015ac",
   "metadata": {},
   "outputs": [
    {
     "data": {
      "text/html": [
       "<div>\n",
       "<style scoped>\n",
       "    .dataframe tbody tr th:only-of-type {\n",
       "        vertical-align: middle;\n",
       "    }\n",
       "\n",
       "    .dataframe tbody tr th {\n",
       "        vertical-align: top;\n",
       "    }\n",
       "\n",
       "    .dataframe thead th {\n",
       "        text-align: right;\n",
       "    }\n",
       "</style>\n",
       "<table border=\"1\" class=\"dataframe\">\n",
       "  <thead>\n",
       "    <tr style=\"text-align: right;\">\n",
       "      <th></th>\n",
       "      <th>male</th>\n",
       "      <th>age</th>\n",
       "      <th>education</th>\n",
       "      <th>currentSmoker</th>\n",
       "      <th>cigsPerDay</th>\n",
       "      <th>BPMeds</th>\n",
       "      <th>prevalentStroke</th>\n",
       "      <th>prevalentHyp</th>\n",
       "      <th>diabetes</th>\n",
       "      <th>totChol</th>\n",
       "      <th>sysBP</th>\n",
       "      <th>diaBP</th>\n",
       "      <th>BMI</th>\n",
       "      <th>heartRate</th>\n",
       "      <th>glucose</th>\n",
       "      <th>TenYearCHD</th>\n",
       "    </tr>\n",
       "  </thead>\n",
       "  <tbody>\n",
       "    <tr>\n",
       "      <th>264</th>\n",
       "      <td>1</td>\n",
       "      <td>57</td>\n",
       "      <td>1.0</td>\n",
       "      <td>0</td>\n",
       "      <td>0.0</td>\n",
       "      <td>0.0</td>\n",
       "      <td>0</td>\n",
       "      <td>1</td>\n",
       "      <td>0</td>\n",
       "      <td>176.0</td>\n",
       "      <td>134.0</td>\n",
       "      <td>97.0</td>\n",
       "      <td>38.14</td>\n",
       "      <td>68.0</td>\n",
       "      <td>94.0</td>\n",
       "      <td>0</td>\n",
       "    </tr>\n",
       "    <tr>\n",
       "      <th>385</th>\n",
       "      <td>1</td>\n",
       "      <td>39</td>\n",
       "      <td>2.0</td>\n",
       "      <td>0</td>\n",
       "      <td>0.0</td>\n",
       "      <td>0.0</td>\n",
       "      <td>0</td>\n",
       "      <td>0</td>\n",
       "      <td>0</td>\n",
       "      <td>235.0</td>\n",
       "      <td>120.0</td>\n",
       "      <td>80.0</td>\n",
       "      <td>27.23</td>\n",
       "      <td>62.0</td>\n",
       "      <td>87.0</td>\n",
       "      <td>0</td>\n",
       "    </tr>\n",
       "    <tr>\n",
       "      <th>2564</th>\n",
       "      <td>1</td>\n",
       "      <td>54</td>\n",
       "      <td>2.0</td>\n",
       "      <td>0</td>\n",
       "      <td>0.0</td>\n",
       "      <td>0.0</td>\n",
       "      <td>0</td>\n",
       "      <td>1</td>\n",
       "      <td>0</td>\n",
       "      <td>207.0</td>\n",
       "      <td>146.0</td>\n",
       "      <td>98.0</td>\n",
       "      <td>23.63</td>\n",
       "      <td>65.0</td>\n",
       "      <td>91.0</td>\n",
       "      <td>1</td>\n",
       "    </tr>\n",
       "    <tr>\n",
       "      <th>3787</th>\n",
       "      <td>0</td>\n",
       "      <td>49</td>\n",
       "      <td>3.0</td>\n",
       "      <td>0</td>\n",
       "      <td>0.0</td>\n",
       "      <td>0.0</td>\n",
       "      <td>0</td>\n",
       "      <td>0</td>\n",
       "      <td>0</td>\n",
       "      <td>203.0</td>\n",
       "      <td>125.0</td>\n",
       "      <td>70.0</td>\n",
       "      <td>22.52</td>\n",
       "      <td>72.0</td>\n",
       "      <td>NaN</td>\n",
       "      <td>0</td>\n",
       "    </tr>\n",
       "    <tr>\n",
       "      <th>4139</th>\n",
       "      <td>0</td>\n",
       "      <td>53</td>\n",
       "      <td>3.0</td>\n",
       "      <td>0</td>\n",
       "      <td>0.0</td>\n",
       "      <td>NaN</td>\n",
       "      <td>0</td>\n",
       "      <td>0</td>\n",
       "      <td>0</td>\n",
       "      <td>252.0</td>\n",
       "      <td>122.5</td>\n",
       "      <td>75.5</td>\n",
       "      <td>25.29</td>\n",
       "      <td>75.0</td>\n",
       "      <td>71.0</td>\n",
       "      <td>0</td>\n",
       "    </tr>\n",
       "  </tbody>\n",
       "</table>\n",
       "</div>"
      ],
      "text/plain": [
       "      male  age  education  currentSmoker  cigsPerDay  BPMeds  \\\n",
       "264      1   57        1.0              0         0.0     0.0   \n",
       "385      1   39        2.0              0         0.0     0.0   \n",
       "2564     1   54        2.0              0         0.0     0.0   \n",
       "3787     0   49        3.0              0         0.0     0.0   \n",
       "4139     0   53        3.0              0         0.0     NaN   \n",
       "\n",
       "      prevalentStroke  prevalentHyp  diabetes  totChol  sysBP  diaBP    BMI  \\\n",
       "264                 0             1         0    176.0  134.0   97.0  38.14   \n",
       "385                 0             0         0    235.0  120.0   80.0  27.23   \n",
       "2564                0             1         0    207.0  146.0   98.0  23.63   \n",
       "3787                0             0         0    203.0  125.0   70.0  22.52   \n",
       "4139                0             0         0    252.0  122.5   75.5  25.29   \n",
       "\n",
       "      heartRate  glucose  TenYearCHD  \n",
       "264        68.0     94.0           0  \n",
       "385        62.0     87.0           0  \n",
       "2564       65.0     91.0           1  \n",
       "3787       72.0      NaN           0  \n",
       "4139       75.0     71.0           0  "
      ]
     },
     "execution_count": 11,
     "metadata": {},
     "output_type": "execute_result"
    }
   ],
   "source": [
    "X_train.head()"
   ]
  },
  {
   "cell_type": "markdown",
   "id": "d4d1e638",
   "metadata": {},
   "source": [
    "- visualize balance using sns"
   ]
  },
  {
   "cell_type": "code",
   "execution_count": 12,
   "id": "a609428f",
   "metadata": {},
   "outputs": [
    {
     "data": {
      "text/plain": [
       "<AxesSubplot:xlabel='TenYearCHD', ylabel='count'>"
      ]
     },
     "execution_count": 12,
     "metadata": {},
     "output_type": "execute_result"
    },
    {
     "data": {
      "image/png": "[encoded data removed]",
      "text/plain": [
       "<Figure size 432x288 with 1 Axes>"
      ]
     },
     "metadata": {
      "needs_background": "light"
     },
     "output_type": "display_data"
    }
   ],
   "source": [
    "sns.countplot(x=y_train)"
   ]
  },
  {
   "cell_type": "markdown",
   "id": "11d1ff77",
   "metadata": {},
   "source": [
    "- explore train and test data:"
   ]
  },
  {
   "cell_type": "code",
   "execution_count": 13,
   "id": "b3a03d28",
   "metadata": {},
   "outputs": [
    {
     "name": "stdout",
     "output_type": "stream",
     "text": [
      "X_train.shape= (2966, 16) \n",
      "X_test.shape= (1272, 16)\n"
     ]
    }
   ],
   "source": [
    "print('X_train.shape=', X_train.shape, '\\nX_test.shape=', X_test.shape)"
   ]
  },
  {
   "cell_type": "markdown",
   "id": "8db4f25d",
   "metadata": {},
   "source": [
    "Overview of the following procedure:\n",
    "1. perform **imputation** on both train & test data seperately.\n",
    "2. perform **EDA**, **preprocessing**, and **feature engineering** on the train data.\n",
    "3. perform **preprocessing** on the test data as well, so that it can be a valid information for the model.\n",
    "4. build model using train data.\n",
    "5. test it's accuracy using test data: this will be the final accuracy of the model."
   ]
  },
  {
   "cell_type": "code",
   "execution_count": 14,
   "id": "947c14a2",
   "metadata": {},
   "outputs": [
    {
     "data": {
      "text/plain": [
       "male                 0\n",
       "age                  0\n",
       "education           72\n",
       "currentSmoker        0\n",
       "cigsPerDay          26\n",
       "BPMeds              39\n",
       "prevalentStroke      0\n",
       "prevalentHyp         0\n",
       "diabetes             0\n",
       "totChol             41\n",
       "sysBP                0\n",
       "diaBP                0\n",
       "BMI                 16\n",
       "heartRate            1\n",
       "glucose            267\n",
       "TenYearCHD           0\n",
       "dtype: int64"
      ]
     },
     "execution_count": 14,
     "metadata": {},
     "output_type": "execute_result"
    }
   ],
   "source": [
    "X_train.isnull().sum()"
   ]
  },
  {
   "cell_type": "code",
   "execution_count": 15,
   "id": "71cba581",
   "metadata": {},
   "outputs": [
    {
     "data": {
      "text/plain": [
       "male                 0\n",
       "age                  0\n",
       "education           33\n",
       "currentSmoker        0\n",
       "cigsPerDay           3\n",
       "BPMeds              14\n",
       "prevalentStroke      0\n",
       "prevalentHyp         0\n",
       "diabetes             0\n",
       "totChol              9\n",
       "sysBP                0\n",
       "diaBP                0\n",
       "BMI                  3\n",
       "heartRate            0\n",
       "glucose            121\n",
       "TenYearCHD           0\n",
       "dtype: int64"
      ]
     },
     "execution_count": 15,
     "metadata": {},
     "output_type": "execute_result"
    }
   ],
   "source": [
    "X_test.isnull().sum()"
   ]
  },
  {
   "cell_type": "markdown",
   "id": "8edfa3f4",
   "metadata": {},
   "source": [
    "- There are some features having null values so, we need to perform imputation in the train dataset.\n",
    "- why inputation? why not delete the feature itself?\n",
    "    - because none of the feature contains more than half null values, infact the maximum null values contained is in *glucose* feature which is 441/5031 = 0.087 or *8.7%* approx on train data and 190/2157 = 0.088 or *8.8%* approx on test data."
   ]
  },
  {
   "cell_type": "markdown",
   "id": "dc3c23dd",
   "metadata": {},
   "source": [
    "- visualize the *null values*"
   ]
  },
  {
   "cell_type": "code",
   "execution_count": 16,
   "id": "f2f4c435",
   "metadata": {},
   "outputs": [
    {
     "data": {
      "text/plain": [
       "<AxesSubplot:>"
      ]
     },
     "execution_count": 16,
     "metadata": {},
     "output_type": "execute_result"
    },
    {
     "data": {
      "image/png": "[encoded data removed]",
      "text/plain": [
       "<Figure size 432x288 with 1 Axes>"
      ]
     },
     "metadata": {
      "needs_background": "light"
     },
     "output_type": "display_data"
    }
   ],
   "source": [
    "sns.heatmap(X_train.isnull(), cbar=False)"
   ]
  },
  {
   "cell_type": "code",
   "execution_count": 17,
   "id": "4553ae7d",
   "metadata": {},
   "outputs": [
    {
     "data": {
      "text/plain": [
       "<AxesSubplot:>"
      ]
     },
     "execution_count": 17,
     "metadata": {},
     "output_type": "execute_result"
    },
    {
     "data": {
      "image/png": "[encoded data removed]",
      "text/plain": [
       "<Figure size 432x288 with 1 Axes>"
      ]
     },
     "metadata": {
      "needs_background": "light"
     },
     "output_type": "display_data"
    }
   ],
   "source": [
    "sns.heatmap(X_test.isnull(), cbar=False)"
   ]
  },
  {
   "cell_type": "markdown",
   "id": "86fc94e8",
   "metadata": {},
   "source": [
    "- all unique values of education"
   ]
  },
  {
   "cell_type": "code",
   "execution_count": 18,
   "id": "197849ab",
   "metadata": {},
   "outputs": [
    {
     "data": {
      "text/plain": [
       "array([ 1.,  2.,  3.,  4., nan])"
      ]
     },
     "execution_count": 18,
     "metadata": {},
     "output_type": "execute_result"
    }
   ],
   "source": [
    "X_train['education'].unique()"
   ]
  },
  {
   "cell_type": "markdown",
   "id": "2572aeb0",
   "metadata": {},
   "source": [
    "- what impact would **education** have on Ten-year-coronary-heart-disease?\n",
    "- **NO** impact right?\n",
    "- So, it's just right to drop this feature itself.\n",
    "- let's drop it."
   ]
  },
  {
   "cell_type": "code",
   "execution_count": 19,
   "id": "6771a53c",
   "metadata": {},
   "outputs": [
    {
     "data": {
      "text/html": [
       "<div>\n",
       "<style scoped>\n",
       "    .dataframe tbody tr th:only-of-type {\n",
       "        vertical-align: middle;\n",
       "    }\n",
       "\n",
       "    .dataframe tbody tr th {\n",
       "        vertical-align: top;\n",
       "    }\n",
       "\n",
       "    .dataframe thead th {\n",
       "        text-align: right;\n",
       "    }\n",
       "</style>\n",
       "<table border=\"1\" class=\"dataframe\">\n",
       "  <thead>\n",
       "    <tr style=\"text-align: right;\">\n",
       "      <th></th>\n",
       "      <th>male</th>\n",
       "      <th>age</th>\n",
       "      <th>currentSmoker</th>\n",
       "      <th>cigsPerDay</th>\n",
       "      <th>BPMeds</th>\n",
       "      <th>prevalentStroke</th>\n",
       "      <th>prevalentHyp</th>\n",
       "      <th>diabetes</th>\n",
       "      <th>totChol</th>\n",
       "      <th>sysBP</th>\n",
       "      <th>diaBP</th>\n",
       "      <th>BMI</th>\n",
       "      <th>heartRate</th>\n",
       "      <th>glucose</th>\n",
       "      <th>TenYearCHD</th>\n",
       "    </tr>\n",
       "  </thead>\n",
       "  <tbody>\n",
       "    <tr>\n",
       "      <th>264</th>\n",
       "      <td>1</td>\n",
       "      <td>57</td>\n",
       "      <td>0</td>\n",
       "      <td>0.0</td>\n",
       "      <td>0.0</td>\n",
       "      <td>0</td>\n",
       "      <td>1</td>\n",
       "      <td>0</td>\n",
       "      <td>176.0</td>\n",
       "      <td>134.0</td>\n",
       "      <td>97.0</td>\n",
       "      <td>38.14</td>\n",
       "      <td>68.0</td>\n",
       "      <td>94.0</td>\n",
       "      <td>0</td>\n",
       "    </tr>\n",
       "    <tr>\n",
       "      <th>385</th>\n",
       "      <td>1</td>\n",
       "      <td>39</td>\n",
       "      <td>0</td>\n",
       "      <td>0.0</td>\n",
       "      <td>0.0</td>\n",
       "      <td>0</td>\n",
       "      <td>0</td>\n",
       "      <td>0</td>\n",
       "      <td>235.0</td>\n",
       "      <td>120.0</td>\n",
       "      <td>80.0</td>\n",
       "      <td>27.23</td>\n",
       "      <td>62.0</td>\n",
       "      <td>87.0</td>\n",
       "      <td>0</td>\n",
       "    </tr>\n",
       "    <tr>\n",
       "      <th>2564</th>\n",
       "      <td>1</td>\n",
       "      <td>54</td>\n",
       "      <td>0</td>\n",
       "      <td>0.0</td>\n",
       "      <td>0.0</td>\n",
       "      <td>0</td>\n",
       "      <td>1</td>\n",
       "      <td>0</td>\n",
       "      <td>207.0</td>\n",
       "      <td>146.0</td>\n",
       "      <td>98.0</td>\n",
       "      <td>23.63</td>\n",
       "      <td>65.0</td>\n",
       "      <td>91.0</td>\n",
       "      <td>1</td>\n",
       "    </tr>\n",
       "    <tr>\n",
       "      <th>3787</th>\n",
       "      <td>0</td>\n",
       "      <td>49</td>\n",
       "      <td>0</td>\n",
       "      <td>0.0</td>\n",
       "      <td>0.0</td>\n",
       "      <td>0</td>\n",
       "      <td>0</td>\n",
       "      <td>0</td>\n",
       "      <td>203.0</td>\n",
       "      <td>125.0</td>\n",
       "      <td>70.0</td>\n",
       "      <td>22.52</td>\n",
       "      <td>72.0</td>\n",
       "      <td>NaN</td>\n",
       "      <td>0</td>\n",
       "    </tr>\n",
       "    <tr>\n",
       "      <th>4139</th>\n",
       "      <td>0</td>\n",
       "      <td>53</td>\n",
       "      <td>0</td>\n",
       "      <td>0.0</td>\n",
       "      <td>NaN</td>\n",
       "      <td>0</td>\n",
       "      <td>0</td>\n",
       "      <td>0</td>\n",
       "      <td>252.0</td>\n",
       "      <td>122.5</td>\n",
       "      <td>75.5</td>\n",
       "      <td>25.29</td>\n",
       "      <td>75.0</td>\n",
       "      <td>71.0</td>\n",
       "      <td>0</td>\n",
       "    </tr>\n",
       "  </tbody>\n",
       "</table>\n",
       "</div>"
      ],
      "text/plain": [
       "      male  age  currentSmoker  cigsPerDay  BPMeds  prevalentStroke  \\\n",
       "264      1   57              0         0.0     0.0                0   \n",
       "385      1   39              0         0.0     0.0                0   \n",
       "2564     1   54              0         0.0     0.0                0   \n",
       "3787     0   49              0         0.0     0.0                0   \n",
       "4139     0   53              0         0.0     NaN                0   \n",
       "\n",
       "      prevalentHyp  diabetes  totChol  sysBP  diaBP    BMI  heartRate  \\\n",
       "264              1         0    176.0  134.0   97.0  38.14       68.0   \n",
       "385              0         0    235.0  120.0   80.0  27.23       62.0   \n",
       "2564             1         0    207.0  146.0   98.0  23.63       65.0   \n",
       "3787             0         0    203.0  125.0   70.0  22.52       72.0   \n",
       "4139             0         0    252.0  122.5   75.5  25.29       75.0   \n",
       "\n",
       "      glucose  TenYearCHD  \n",
       "264      94.0           0  \n",
       "385      87.0           0  \n",
       "2564     91.0           1  \n",
       "3787      NaN           0  \n",
       "4139     71.0           0  "
      ]
     },
     "execution_count": 19,
     "metadata": {},
     "output_type": "execute_result"
    }
   ],
   "source": [
    "X_train.drop('education', axis=1, inplace=True)\n",
    "X_test.drop('education', axis=1, inplace=True)\n",
    "X_train.head()"
   ]
  },
  {
   "cell_type": "markdown",
   "id": "4b3b29a8",
   "metadata": {},
   "source": [
    "- in order to perform successfull imputation, without much affecting the dataset, we'll have to categorize those features having null values as **categorical/nominal** or **continuous**.\n",
    "- referring from the description given for the dataset it's visible that:\n",
    "    - cigsPerDay, totChol, BMI, heartRate, glucose are **continuous** features.\n",
    "    - BPMeds is a **nominal** feature.\n",
    "- Handlling missing values:\n",
    "    1. for nominal feature: replace with the most frequent value.\n",
    "    2. for continuous features: perform mean/median imputation."
   ]
  },
  {
   "cell_type": "markdown",
   "id": "92156c8e",
   "metadata": {},
   "source": [
    "Distribution of **BPMeds** in the train dataset:"
   ]
  },
  {
   "cell_type": "code",
   "execution_count": 20,
   "id": "99ec4f59",
   "metadata": {},
   "outputs": [
    {
     "data": {
      "text/plain": [
       "<AxesSubplot:xlabel='BPMeds', ylabel='Count'>"
      ]
     },
     "execution_count": 20,
     "metadata": {},
     "output_type": "execute_result"
    },
    {
     "data": {
      "image/png": "[encoded data removed]",
      "text/plain": [
       "<Figure size 432x288 with 1 Axes>"
      ]
     },
     "metadata": {
      "needs_background": "light"
     },
     "output_type": "display_data"
    }
   ],
   "source": [
    "sns.histplot(X_train.BPMeds)"
   ]
  },
  {
   "cell_type": "markdown",
   "id": "c6b97fcf",
   "metadata": {},
   "source": [
    "- count unique vals before imputation"
   ]
  },
  {
   "cell_type": "code",
   "execution_count": 21,
   "id": "8325c473",
   "metadata": {},
   "outputs": [
    {
     "name": "stdout",
     "output_type": "stream",
     "text": [
      "X_train: \n",
      " 0.0    2847\n",
      "1.0      80\n",
      "Name: BPMeds, dtype: int64 X_test: \n",
      " 0.0    1214\n",
      "1.0      44\n",
      "Name: BPMeds, dtype: int64\n"
     ]
    }
   ],
   "source": [
    "print('X_train: \\n', X_train['BPMeds'].value_counts(), 'X_test: \\n', X_test['BPMeds'].value_counts())"
   ]
  },
  {
   "cell_type": "markdown",
   "id": "6300e8f7",
   "metadata": {},
   "source": [
    "- most frequent value is **0**\n",
    "- let's impute it's mode."
   ]
  },
  {
   "cell_type": "code",
   "execution_count": 22,
   "id": "0469d2dc",
   "metadata": {},
   "outputs": [
    {
     "name": "stdout",
     "output_type": "stream",
     "text": [
      "X_train: 0 \n",
      "X_test: 0\n"
     ]
    }
   ],
   "source": [
    "X_train['BPMeds'].fillna(X_train.iloc[4].mode().item(), inplace=True)\n",
    "X_test['BPMeds'].fillna(X_test.iloc[4].mode().item(), inplace=True)\n",
    "print('X_train:', X_train['BPMeds'].isnull().sum(), '\\nX_test:', X_test['BPMeds'].isnull().sum())"
   ]
  },
  {
   "cell_type": "code",
   "execution_count": 23,
   "id": "fe73428f",
   "metadata": {},
   "outputs": [
    {
     "name": "stdout",
     "output_type": "stream",
     "text": [
      "X_train: \n",
      " 0.0    2886\n",
      "1.0      80\n",
      "Name: BPMeds, dtype: int64 X_test: \n",
      " 0.0    1228\n",
      "1.0      44\n",
      "Name: BPMeds, dtype: int64\n"
     ]
    }
   ],
   "source": [
    "print('X_train: \\n', X_train['BPMeds'].value_counts(), 'X_test: \\n', X_test['BPMeds'].value_counts())"
   ]
  },
  {
   "cell_type": "markdown",
   "id": "53a34ee9",
   "metadata": {},
   "source": [
    "- So, the missing values of BPMeds are handlled.\n",
    "- *Nominal value imputation is complete!*\n",
    "- Now imputing continuous values!"
   ]
  },
  {
   "cell_type": "code",
   "execution_count": 24,
   "id": "8267baf0",
   "metadata": {},
   "outputs": [
    {
     "data": {
      "text/plain": [
       "male                 0\n",
       "age                  0\n",
       "currentSmoker        0\n",
       "cigsPerDay          26\n",
       "BPMeds               0\n",
       "prevalentStroke      0\n",
       "prevalentHyp         0\n",
       "diabetes             0\n",
       "totChol             41\n",
       "sysBP                0\n",
       "diaBP                0\n",
       "BMI                 16\n",
       "heartRate            1\n",
       "glucose            267\n",
       "TenYearCHD           0\n",
       "dtype: int64"
      ]
     },
     "execution_count": 24,
     "metadata": {},
     "output_type": "execute_result"
    }
   ],
   "source": [
    "X_train.isnull().sum()"
   ]
  },
  {
   "cell_type": "code",
   "execution_count": 25,
   "id": "2660fe3f",
   "metadata": {},
   "outputs": [
    {
     "data": {
      "text/plain": [
       "male                 0\n",
       "age                  0\n",
       "currentSmoker        0\n",
       "cigsPerDay           3\n",
       "BPMeds               0\n",
       "prevalentStroke      0\n",
       "prevalentHyp         0\n",
       "diabetes             0\n",
       "totChol              9\n",
       "sysBP                0\n",
       "diaBP                0\n",
       "BMI                  3\n",
       "heartRate            0\n",
       "glucose            121\n",
       "TenYearCHD           0\n",
       "dtype: int64"
      ]
     },
     "execution_count": 25,
     "metadata": {},
     "output_type": "execute_result"
    }
   ],
   "source": [
    "X_test.isnull().sum()"
   ]
  },
  {
   "cell_type": "markdown",
   "id": "332005a7",
   "metadata": {},
   "source": [
    "- filling missing values in **continuous** variables."
   ]
  },
  {
   "cell_type": "code",
   "execution_count": 26,
   "id": "f748aa8f",
   "metadata": {},
   "outputs": [],
   "source": [
    "imputer = SimpleImputer(missing_values=np.nan, strategy='mean')\n",
    "imputed_X_train = pd.DataFrame(imputer.fit_transform(X_train))\n",
    "imputed_X_test = pd.DataFrame(imputer.transform(X_test))\n",
    "\n",
    "# imputation removed column names: putting them back\n",
    "imputed_X_train.columns = X_train.columns\n",
    "imputed_X_test.columns = X_test.columns"
   ]
  },
  {
   "cell_type": "code",
   "execution_count": 27,
   "id": "45a84c08",
   "metadata": {},
   "outputs": [
    {
     "data": {
      "text/plain": [
       "<AxesSubplot:>"
      ]
     },
     "execution_count": 27,
     "metadata": {},
     "output_type": "execute_result"
    },
    {
     "data": {
      "image/png": "[encoded data removed]",
      "text/plain": [
       "<Figure size 432x288 with 1 Axes>"
      ]
     },
     "metadata": {
      "needs_background": "light"
     },
     "output_type": "display_data"
    }
   ],
   "source": [
    "sns.heatmap(imputed_X_train.isnull(), cbar=False)"
   ]
  },
  {
   "cell_type": "code",
   "execution_count": 28,
   "id": "dd0e5d46",
   "metadata": {},
   "outputs": [
    {
     "data": {
      "text/plain": [
       "<AxesSubplot:>"
      ]
     },
     "execution_count": 28,
     "metadata": {},
     "output_type": "execute_result"
    },
    {
     "data": {
      "image/png": "[encoded data removed]",
      "text/plain": [
       "<Figure size 432x288 with 1 Axes>"
      ]
     },
     "metadata": {
      "needs_background": "light"
     },
     "output_type": "display_data"
    }
   ],
   "source": [
    "sns.heatmap(imputed_X_test.isnull(), cbar=False)"
   ]
  },
  {
   "cell_type": "markdown",
   "id": "d560394f",
   "metadata": {},
   "source": [
    "- Now assign imputed_X_train and imputed_X_test to X_train and X_test respectively."
   ]
  },
  {
   "cell_type": "code",
   "execution_count": 29,
   "id": "6ace79c2",
   "metadata": {},
   "outputs": [
    {
     "name": "stdout",
     "output_type": "stream",
     "text": [
      "X_train.isnull().sum().sum():  0 \n",
      "X_test.isnull().sum().sum():  0\n"
     ]
    }
   ],
   "source": [
    "X_train = imputed_X_train\n",
    "X_test = imputed_X_test\n",
    "\n",
    "print('X_train.isnull().sum().sum(): ', X_train.isnull().sum().sum(),\n",
    "'\\nX_test.isnull().sum().sum(): ',X_test.isnull().sum().sum())"
   ]
  },
  {
   "cell_type": "code",
   "execution_count": 30,
   "id": "4346f35c",
   "metadata": {},
   "outputs": [
    {
     "data": {
      "text/plain": [
       "2520"
      ]
     },
     "execution_count": 30,
     "metadata": {},
     "output_type": "execute_result"
    }
   ],
   "source": [
    "y_train.value_counts()[0]"
   ]
  },
  {
   "cell_type": "markdown",
   "id": "2aa19e38",
   "metadata": {},
   "source": [
    "### Now apply resample for oversampling to balance the X_train"
   ]
  },
  {
   "cell_type": "code",
   "execution_count": 31,
   "id": "0b9fc1a9",
   "metadata": {},
   "outputs": [
    {
     "name": "stdout",
     "output_type": "stream",
     "text": [
      "Random oversampling: \n",
      "\n",
      "1.0    2520\n",
      "0.0    2520\n",
      "Name: TenYearCHD, dtype: int64\n"
     ]
    },
    {
     "data": {
      "text/plain": [
       "<AxesSubplot:xlabel='TenYearCHD', ylabel='count'>"
      ]
     },
     "execution_count": 31,
     "metadata": {},
     "output_type": "execute_result"
    },
    {
     "data": {
      "image/png": "[encoded data removed]",
      "text/plain": [
       "<Figure size 432x288 with 1 Axes>"
      ]
     },
     "metadata": {
      "needs_background": "light"
     },
     "output_type": "display_data"
    }
   ],
   "source": [
    "X_train_minority = X_train[X_train['TenYearCHD']==1].sample(y_train.value_counts()[0], replace=True)\n",
    "X_train_bal = pd.concat([X_train_minority, X_train[X_train['TenYearCHD']==0]])\n",
    "print('Random oversampling: \\n')\n",
    "print(X_train_bal['TenYearCHD'].value_counts())\n",
    "sns.countplot(x=X_train_bal['TenYearCHD'])"
   ]
  },
  {
   "cell_type": "markdown",
   "id": "620da5f5",
   "metadata": {},
   "source": [
    "- Now missing/null values are completely handlled in both X_train and X_test.\n",
    "- Imbalanced dataset is also balanced.\n",
    "- Now we are in good shape to proceed with **EDA**.\n",
    "- From now on I'll only focus on X_train_bal data for any analysis, and buil the model on it."
   ]
  },
  {
   "cell_type": "markdown",
   "id": "b854d249",
   "metadata": {},
   "source": [
    "#### Analysing the relationships between different features"
   ]
  },
  {
   "cell_type": "code",
   "execution_count": 32,
   "id": "ecff8b03",
   "metadata": {},
   "outputs": [
    {
     "data": {
      "text/html": [
       "<div>\n",
       "<style scoped>\n",
       "    .dataframe tbody tr th:only-of-type {\n",
       "        vertical-align: middle;\n",
       "    }\n",
       "\n",
       "    .dataframe tbody tr th {\n",
       "        vertical-align: top;\n",
       "    }\n",
       "\n",
       "    .dataframe thead th {\n",
       "        text-align: right;\n",
       "    }\n",
       "</style>\n",
       "<table border=\"1\" class=\"dataframe\">\n",
       "  <thead>\n",
       "    <tr style=\"text-align: right;\">\n",
       "      <th></th>\n",
       "      <th>male</th>\n",
       "      <th>age</th>\n",
       "      <th>currentSmoker</th>\n",
       "      <th>cigsPerDay</th>\n",
       "      <th>BPMeds</th>\n",
       "      <th>prevalentStroke</th>\n",
       "      <th>prevalentHyp</th>\n",
       "      <th>diabetes</th>\n",
       "      <th>totChol</th>\n",
       "      <th>sysBP</th>\n",
       "      <th>diaBP</th>\n",
       "      <th>BMI</th>\n",
       "      <th>heartRate</th>\n",
       "      <th>glucose</th>\n",
       "      <th>TenYearCHD</th>\n",
       "    </tr>\n",
       "  </thead>\n",
       "  <tbody>\n",
       "    <tr>\n",
       "      <th>1818</th>\n",
       "      <td>1.0</td>\n",
       "      <td>40.0</td>\n",
       "      <td>1.0</td>\n",
       "      <td>20.000000</td>\n",
       "      <td>0.0</td>\n",
       "      <td>0.0</td>\n",
       "      <td>0.0</td>\n",
       "      <td>0.0</td>\n",
       "      <td>275.0</td>\n",
       "      <td>112.5</td>\n",
       "      <td>85.0</td>\n",
       "      <td>28.04</td>\n",
       "      <td>73.0</td>\n",
       "      <td>71.0</td>\n",
       "      <td>1.0</td>\n",
       "    </tr>\n",
       "    <tr>\n",
       "      <th>1007</th>\n",
       "      <td>1.0</td>\n",
       "      <td>47.0</td>\n",
       "      <td>1.0</td>\n",
       "      <td>25.000000</td>\n",
       "      <td>0.0</td>\n",
       "      <td>0.0</td>\n",
       "      <td>1.0</td>\n",
       "      <td>0.0</td>\n",
       "      <td>236.0</td>\n",
       "      <td>154.0</td>\n",
       "      <td>93.0</td>\n",
       "      <td>24.49</td>\n",
       "      <td>94.0</td>\n",
       "      <td>76.0</td>\n",
       "      <td>1.0</td>\n",
       "    </tr>\n",
       "    <tr>\n",
       "      <th>995</th>\n",
       "      <td>1.0</td>\n",
       "      <td>49.0</td>\n",
       "      <td>1.0</td>\n",
       "      <td>9.071088</td>\n",
       "      <td>0.0</td>\n",
       "      <td>0.0</td>\n",
       "      <td>0.0</td>\n",
       "      <td>0.0</td>\n",
       "      <td>256.0</td>\n",
       "      <td>127.5</td>\n",
       "      <td>81.5</td>\n",
       "      <td>28.21</td>\n",
       "      <td>93.0</td>\n",
       "      <td>85.0</td>\n",
       "      <td>1.0</td>\n",
       "    </tr>\n",
       "    <tr>\n",
       "      <th>1387</th>\n",
       "      <td>0.0</td>\n",
       "      <td>48.0</td>\n",
       "      <td>0.0</td>\n",
       "      <td>0.000000</td>\n",
       "      <td>0.0</td>\n",
       "      <td>0.0</td>\n",
       "      <td>1.0</td>\n",
       "      <td>0.0</td>\n",
       "      <td>275.0</td>\n",
       "      <td>177.0</td>\n",
       "      <td>101.0</td>\n",
       "      <td>25.22</td>\n",
       "      <td>75.0</td>\n",
       "      <td>82.0</td>\n",
       "      <td>1.0</td>\n",
       "    </tr>\n",
       "    <tr>\n",
       "      <th>1195</th>\n",
       "      <td>1.0</td>\n",
       "      <td>42.0</td>\n",
       "      <td>0.0</td>\n",
       "      <td>0.000000</td>\n",
       "      <td>0.0</td>\n",
       "      <td>0.0</td>\n",
       "      <td>1.0</td>\n",
       "      <td>0.0</td>\n",
       "      <td>327.0</td>\n",
       "      <td>134.0</td>\n",
       "      <td>93.0</td>\n",
       "      <td>25.14</td>\n",
       "      <td>70.0</td>\n",
       "      <td>72.0</td>\n",
       "      <td>1.0</td>\n",
       "    </tr>\n",
       "  </tbody>\n",
       "</table>\n",
       "</div>"
      ],
      "text/plain": [
       "      male   age  currentSmoker  cigsPerDay  BPMeds  prevalentStroke  \\\n",
       "1818   1.0  40.0            1.0   20.000000     0.0              0.0   \n",
       "1007   1.0  47.0            1.0   25.000000     0.0              0.0   \n",
       "995    1.0  49.0            1.0    9.071088     0.0              0.0   \n",
       "1387   0.0  48.0            0.0    0.000000     0.0              0.0   \n",
       "1195   1.0  42.0            0.0    0.000000     0.0              0.0   \n",
       "\n",
       "      prevalentHyp  diabetes  totChol  sysBP  diaBP    BMI  heartRate  \\\n",
       "1818           0.0       0.0    275.0  112.5   85.0  28.04       73.0   \n",
       "1007           1.0       0.0    236.0  154.0   93.0  24.49       94.0   \n",
       "995            0.0       0.0    256.0  127.5   81.5  28.21       93.0   \n",
       "1387           1.0       0.0    275.0  177.0  101.0  25.22       75.0   \n",
       "1195           1.0       0.0    327.0  134.0   93.0  25.14       70.0   \n",
       "\n",
       "      glucose  TenYearCHD  \n",
       "1818     71.0         1.0  \n",
       "1007     76.0         1.0  \n",
       "995      85.0         1.0  \n",
       "1387     82.0         1.0  \n",
       "1195     72.0         1.0  "
      ]
     },
     "execution_count": 32,
     "metadata": {},
     "output_type": "execute_result"
    }
   ],
   "source": [
    "X_train_bal.head()"
   ]
  },
  {
   "cell_type": "code",
   "execution_count": 33,
   "id": "642d98c8",
   "metadata": {},
   "outputs": [],
   "source": [
    "X_train_bal = X_train_bal.reset_index()"
   ]
  },
  {
   "cell_type": "code",
   "execution_count": 34,
   "id": "d225693b",
   "metadata": {},
   "outputs": [
    {
     "data": {
      "text/html": [
       "<div>\n",
       "<style scoped>\n",
       "    .dataframe tbody tr th:only-of-type {\n",
       "        vertical-align: middle;\n",
       "    }\n",
       "\n",
       "    .dataframe tbody tr th {\n",
       "        vertical-align: top;\n",
       "    }\n",
       "\n",
       "    .dataframe thead th {\n",
       "        text-align: right;\n",
       "    }\n",
       "</style>\n",
       "<table border=\"1\" class=\"dataframe\">\n",
       "  <thead>\n",
       "    <tr style=\"text-align: right;\">\n",
       "      <th></th>\n",
       "      <th>index</th>\n",
       "      <th>male</th>\n",
       "      <th>age</th>\n",
       "      <th>currentSmoker</th>\n",
       "      <th>cigsPerDay</th>\n",
       "      <th>BPMeds</th>\n",
       "      <th>prevalentStroke</th>\n",
       "      <th>prevalentHyp</th>\n",
       "      <th>diabetes</th>\n",
       "      <th>totChol</th>\n",
       "      <th>sysBP</th>\n",
       "      <th>diaBP</th>\n",
       "      <th>BMI</th>\n",
       "      <th>heartRate</th>\n",
       "      <th>glucose</th>\n",
       "      <th>TenYearCHD</th>\n",
       "    </tr>\n",
       "  </thead>\n",
       "  <tbody>\n",
       "    <tr>\n",
       "      <th>0</th>\n",
       "      <td>1818</td>\n",
       "      <td>1.0</td>\n",
       "      <td>40.0</td>\n",
       "      <td>1.0</td>\n",
       "      <td>20.000000</td>\n",
       "      <td>0.0</td>\n",
       "      <td>0.0</td>\n",
       "      <td>0.0</td>\n",
       "      <td>0.0</td>\n",
       "      <td>275.0</td>\n",
       "      <td>112.5</td>\n",
       "      <td>85.0</td>\n",
       "      <td>28.04</td>\n",
       "      <td>73.0</td>\n",
       "      <td>71.0</td>\n",
       "      <td>1.0</td>\n",
       "    </tr>\n",
       "    <tr>\n",
       "      <th>1</th>\n",
       "      <td>1007</td>\n",
       "      <td>1.0</td>\n",
       "      <td>47.0</td>\n",
       "      <td>1.0</td>\n",
       "      <td>25.000000</td>\n",
       "      <td>0.0</td>\n",
       "      <td>0.0</td>\n",
       "      <td>1.0</td>\n",
       "      <td>0.0</td>\n",
       "      <td>236.0</td>\n",
       "      <td>154.0</td>\n",
       "      <td>93.0</td>\n",
       "      <td>24.49</td>\n",
       "      <td>94.0</td>\n",
       "      <td>76.0</td>\n",
       "      <td>1.0</td>\n",
       "    </tr>\n",
       "    <tr>\n",
       "      <th>2</th>\n",
       "      <td>995</td>\n",
       "      <td>1.0</td>\n",
       "      <td>49.0</td>\n",
       "      <td>1.0</td>\n",
       "      <td>9.071088</td>\n",
       "      <td>0.0</td>\n",
       "      <td>0.0</td>\n",
       "      <td>0.0</td>\n",
       "      <td>0.0</td>\n",
       "      <td>256.0</td>\n",
       "      <td>127.5</td>\n",
       "      <td>81.5</td>\n",
       "      <td>28.21</td>\n",
       "      <td>93.0</td>\n",
       "      <td>85.0</td>\n",
       "      <td>1.0</td>\n",
       "    </tr>\n",
       "    <tr>\n",
       "      <th>3</th>\n",
       "      <td>1387</td>\n",
       "      <td>0.0</td>\n",
       "      <td>48.0</td>\n",
       "      <td>0.0</td>\n",
       "      <td>0.000000</td>\n",
       "      <td>0.0</td>\n",
       "      <td>0.0</td>\n",
       "      <td>1.0</td>\n",
       "      <td>0.0</td>\n",
       "      <td>275.0</td>\n",
       "      <td>177.0</td>\n",
       "      <td>101.0</td>\n",
       "      <td>25.22</td>\n",
       "      <td>75.0</td>\n",
       "      <td>82.0</td>\n",
       "      <td>1.0</td>\n",
       "    </tr>\n",
       "    <tr>\n",
       "      <th>4</th>\n",
       "      <td>1195</td>\n",
       "      <td>1.0</td>\n",
       "      <td>42.0</td>\n",
       "      <td>0.0</td>\n",
       "      <td>0.000000</td>\n",
       "      <td>0.0</td>\n",
       "      <td>0.0</td>\n",
       "      <td>1.0</td>\n",
       "      <td>0.0</td>\n",
       "      <td>327.0</td>\n",
       "      <td>134.0</td>\n",
       "      <td>93.0</td>\n",
       "      <td>25.14</td>\n",
       "      <td>70.0</td>\n",
       "      <td>72.0</td>\n",
       "      <td>1.0</td>\n",
       "    </tr>\n",
       "  </tbody>\n",
       "</table>\n",
       "</div>"
      ],
      "text/plain": [
       "   index  male   age  currentSmoker  cigsPerDay  BPMeds  prevalentStroke  \\\n",
       "0   1818   1.0  40.0            1.0   20.000000     0.0              0.0   \n",
       "1   1007   1.0  47.0            1.0   25.000000     0.0              0.0   \n",
       "2    995   1.0  49.0            1.0    9.071088     0.0              0.0   \n",
       "3   1387   0.0  48.0            0.0    0.000000     0.0              0.0   \n",
       "4   1195   1.0  42.0            0.0    0.000000     0.0              0.0   \n",
       "\n",
       "   prevalentHyp  diabetes  totChol  sysBP  diaBP    BMI  heartRate  glucose  \\\n",
       "0           0.0       0.0    275.0  112.5   85.0  28.04       73.0     71.0   \n",
       "1           1.0       0.0    236.0  154.0   93.0  24.49       94.0     76.0   \n",
       "2           0.0       0.0    256.0  127.5   81.5  28.21       93.0     85.0   \n",
       "3           1.0       0.0    275.0  177.0  101.0  25.22       75.0     82.0   \n",
       "4           1.0       0.0    327.0  134.0   93.0  25.14       70.0     72.0   \n",
       "\n",
       "   TenYearCHD  \n",
       "0         1.0  \n",
       "1         1.0  \n",
       "2         1.0  \n",
       "3         1.0  \n",
       "4         1.0  "
      ]
     },
     "execution_count": 34,
     "metadata": {},
     "output_type": "execute_result"
    }
   ],
   "source": [
    "X_train_bal.head()"
   ]
  },
  {
   "cell_type": "code",
   "execution_count": 35,
   "id": "a02512e2",
   "metadata": {},
   "outputs": [
    {
     "data": {
      "text/plain": [
       "5040"
      ]
     },
     "execution_count": 35,
     "metadata": {},
     "output_type": "execute_result"
    }
   ],
   "source": [
    "len(X_train_bal['TenYearCHD'])"
   ]
  },
  {
   "cell_type": "code",
   "execution_count": 36,
   "id": "99329ea8",
   "metadata": {},
   "outputs": [
    {
     "data": {
      "text/plain": [
       "(5040,)"
      ]
     },
     "execution_count": 36,
     "metadata": {},
     "output_type": "execute_result"
    }
   ],
   "source": [
    "y_train = X_train_bal['TenYearCHD']\n",
    "y_train.shape"
   ]
  },
  {
   "cell_type": "code",
   "execution_count": 37,
   "id": "33148805",
   "metadata": {},
   "outputs": [
    {
     "data": {
      "text/plain": [
       "<AxesSubplot:xlabel='male', ylabel='Count'>"
      ]
     },
     "execution_count": 37,
     "metadata": {},
     "output_type": "execute_result"
    },
    {
     "data": {
      "image/png": "[encoded data removed]",
      "text/plain": [
       "<Figure size 432x288 with 1 Axes>"
      ]
     },
     "metadata": {
      "needs_background": "light"
     },
     "output_type": "display_data"
    }
   ],
   "source": [
    "sns.histplot(x=X_train_bal['male'], hue=y_train)"
   ]
  },
  {
   "cell_type": "markdown",
   "id": "a8a1c207",
   "metadata": {},
   "source": [
    "- more ratio of males have TenYearCHD than females"
   ]
  },
  {
   "cell_type": "markdown",
   "id": "5cbe842b",
   "metadata": {},
   "source": [
    "- Distribution of *age* in the entire dataset."
   ]
  },
  {
   "cell_type": "code",
   "execution_count": 38,
   "id": "15a32121",
   "metadata": {},
   "outputs": [
    {
     "data": {
      "text/plain": [
       "<AxesSubplot:xlabel='age', ylabel='Count'>"
      ]
     },
     "execution_count": 38,
     "metadata": {},
     "output_type": "execute_result"
    },
    {
     "data": {
      "image/png": "[encoded data removed]",
      "text/plain": [
       "<Figure size 432x288 with 1 Axes>"
      ]
     },
     "metadata": {
      "needs_background": "light"
     },
     "output_type": "display_data"
    }
   ],
   "source": [
    "sns.histplot(x=X_train_bal['age'], kde=True)"
   ]
  },
  {
   "cell_type": "markdown",
   "id": "277dac49",
   "metadata": {},
   "source": [
    "- There is a uniform distribution in the age feature throughout the dataset."
   ]
  },
  {
   "cell_type": "markdown",
   "id": "381e032d",
   "metadata": {},
   "source": [
    "- Can there be a relation between the fraction of people having 10yearCHD at an age and the age?\n",
    "- yes, let's see if this relation increases with age or something else."
   ]
  },
  {
   "cell_type": "code",
   "execution_count": 39,
   "id": "e8047cf6",
   "metadata": {},
   "outputs": [
    {
     "data": {
      "text/plain": [
       "39"
      ]
     },
     "execution_count": 39,
     "metadata": {},
     "output_type": "execute_result"
    }
   ],
   "source": [
    "len(list(X_train_bal['age'].unique()))"
   ]
  },
  {
   "cell_type": "code",
   "execution_count": 40,
   "id": "fcc49f7e",
   "metadata": {},
   "outputs": [
    {
     "data": {
      "text/plain": [
       "(5040,)"
      ]
     },
     "execution_count": 40,
     "metadata": {},
     "output_type": "execute_result"
    }
   ],
   "source": [
    "y_train.shape"
   ]
  },
  {
   "cell_type": "code",
   "execution_count": 41,
   "id": "9452cb44",
   "metadata": {},
   "outputs": [],
   "source": [
    "# count of heart disease based on age\n",
    "ages = list(X_train_bal['age'].unique())\n",
    "y = []\n",
    "for age in ages:\n",
    "    count = 0\n",
    "    count_total = len(X_train_bal[X_train_bal['age']==age])\n",
    "    for i in range(0, len(X_train_bal)):\n",
    "        if X_train_bal['age'][i] == age:\n",
    "            count += list(y_train)[i]\n",
    "    y.append(count/count_total)\n",
    "\n",
    "# variable desc:\n",
    "# count: total no. of people at a particular age having TenYearCHD.\n",
    "# count_total: total no. of people at a particular age."
   ]
  },
  {
   "cell_type": "code",
   "execution_count": 42,
   "id": "1195e68b",
   "metadata": {},
   "outputs": [
    {
     "data": {
      "text/plain": [
       "(5040, 16)"
      ]
     },
     "execution_count": 42,
     "metadata": {},
     "output_type": "execute_result"
    }
   ],
   "source": [
    "X_train_bal.shape"
   ]
  },
  {
   "cell_type": "code",
   "execution_count": 43,
   "id": "29ed4529",
   "metadata": {},
   "outputs": [
    {
     "data": {
      "text/plain": [
       "48.0    212\n",
       "51.0    200\n",
       "52.0    198\n",
       "58.0    191\n",
       "63.0    190\n",
       "43.0    182\n",
       "46.0    181\n",
       "57.0    179\n",
       "61.0    178\n",
       "40.0    176\n",
       "47.0    176\n",
       "53.0    176\n",
       "59.0    173\n",
       "42.0    173\n",
       "45.0    166\n",
       "50.0    165\n",
       "49.0    165\n",
       "56.0    165\n",
       "55.0    163\n",
       "60.0    160\n",
       "44.0    154\n",
       "54.0    150\n",
       "39.0    143\n",
       "41.0    136\n",
       "64.0    129\n",
       "38.0    127\n",
       "62.0    120\n",
       "65.0    116\n",
       "66.0     78\n",
       "37.0     77\n",
       "67.0     61\n",
       "36.0     55\n",
       "68.0     53\n",
       "35.0     43\n",
       "34.0     15\n",
       "70.0      8\n",
       "69.0      3\n",
       "33.0      2\n",
       "32.0      1\n",
       "Name: age, dtype: int64"
      ]
     },
     "execution_count": 43,
     "metadata": {},
     "output_type": "execute_result"
    }
   ],
   "source": [
    "X_train_bal['age'].value_counts()"
   ]
  },
  {
   "cell_type": "code",
   "execution_count": 44,
   "id": "feb1013c",
   "metadata": {},
   "outputs": [
    {
     "data": {
      "text/plain": [
       "[Text(0.5, 0, 'age'), Text(0, 0.5, 'fraction of CHD patients at an age')]"
      ]
     },
     "execution_count": 44,
     "metadata": {},
     "output_type": "execute_result"
    },
    {
     "data": {
      "image/png": "[encoded data removed]",
      "text/plain": [
       "<Figure size 648x360 with 1 Axes>"
      ]
     },
     "metadata": {
      "needs_background": "light"
     },
     "output_type": "display_data"
    }
   ],
   "source": [
    "age_plot = plt.figure(figsize=(9,5))\n",
    "age_plot = sns.lineplot(x=ages, y=y, color='b')\n",
    "age_plot.set(xlabel='age', ylabel='fraction of CHD patients at an age')"
   ]
  },
  {
   "cell_type": "markdown",
   "id": "812c3182",
   "metadata": {},
   "source": [
    "From the above plot it's clear that with age more fraction of people suffer\n",
    "from the 10yearCHD.\n",
    "Also, we can say that the more is your age, there is a higher chance of you having 10yearCHD. And, we can also see a sudden downfall in the graph at an age of 68 approx which can be justified by the fact that the number of people present in the dataset with that age is also less, hence the fraction is less, say for example age=70 has only 2 people out of which 1 has TenYearCHD so fraction is 0.5, OR 50% chance of having TenYearCHD."
   ]
  },
  {
   "cell_type": "code",
   "execution_count": 45,
   "id": "097bfa46",
   "metadata": {},
   "outputs": [
    {
     "data": {
      "text/plain": [
       "<AxesSubplot:xlabel='currentSmoker', ylabel='Count'>"
      ]
     },
     "execution_count": 45,
     "metadata": {},
     "output_type": "execute_result"
    },
    {
     "data": {
      "image/png": "[encoded data removed]",
      "text/plain": [
       "<Figure size 432x288 with 1 Axes>"
      ]
     },
     "metadata": {
      "needs_background": "light"
     },
     "output_type": "display_data"
    }
   ],
   "source": [
    "sns.histplot(x=X_train_bal['currentSmoker'], hue=y_train, element='step')"
   ]
  },
  {
   "cell_type": "markdown",
   "id": "72b93969",
   "metadata": {},
   "source": [
    "- So, whether or not the person smokes or not they have almost equal chance of having the TenYearCHD.\n",
    "- So, maybe this feature does not effect our overall prediction of the heart disease.\n",
    "- Also it might be help full to know that although smoking doesn't matter a/c to the dataset, but the number of ciggerates smoked per day will matter as smoking is one of the direct cause of Coronary Heart disease."
   ]
  },
  {
   "cell_type": "code",
   "execution_count": 46,
   "id": "96681de0",
   "metadata": {},
   "outputs": [
    {
     "data": {
      "text/plain": [
       "<AxesSubplot:xlabel='cigsPerDay', ylabel='Density'>"
      ]
     },
     "execution_count": 46,
     "metadata": {},
     "output_type": "execute_result"
    },
    {
     "data": {
      "image/png": "[encoded data removed]",
      "text/plain": [
       "<Figure size 432x288 with 1 Axes>"
      ]
     },
     "metadata": {
      "needs_background": "light"
     },
     "output_type": "display_data"
    }
   ],
   "source": [
    "sns.kdeplot(data=np.log(X_train_bal['cigsPerDay']+5), shade=True)"
   ]
  },
  {
   "cell_type": "code",
   "execution_count": 47,
   "id": "819f5109",
   "metadata": {},
   "outputs": [
    {
     "data": {
      "text/plain": [
       "<AxesSubplot:xlabel='cigsPerDay', ylabel='age'>"
      ]
     },
     "execution_count": 47,
     "metadata": {},
     "output_type": "execute_result"
    },
    {
     "data": {
      "image/png": "[encoded data removed]",
      "text/plain": [
       "<Figure size 432x288 with 1 Axes>"
      ]
     },
     "metadata": {
      "needs_background": "light"
     },
     "output_type": "display_data"
    }
   ],
   "source": [
    "sns.scatterplot(x=np.log(X_train_bal['cigsPerDay']+5), y=X_train_bal['age'], hue=y_train, palette=['b','r'])"
   ]
  },
  {
   "cell_type": "markdown",
   "id": "efc9d4a9",
   "metadata": {},
   "source": [
    "#### From the above plot\n",
    "- the normally distributed data of the *cigsPerDay* feature makes more sense.\n",
    "- So, we'll update it's value to the one used above: np.log(X_train_bal['cigsPerDay']+5)"
   ]
  },
  {
   "cell_type": "code",
   "execution_count": 48,
   "id": "b15f7134",
   "metadata": {},
   "outputs": [
    {
     "data": {
      "text/plain": [
       "<AxesSubplot:xlabel='cigsPerDay', ylabel='Density'>"
      ]
     },
     "execution_count": 48,
     "metadata": {},
     "output_type": "execute_result"
    },
    {
     "data": {
      "image/png": "[encoded data removed]",
      "text/plain": [
       "<Figure size 432x288 with 1 Axes>"
      ]
     },
     "metadata": {
      "needs_background": "light"
     },
     "output_type": "display_data"
    }
   ],
   "source": [
    "X_train_bal.loc[:,'cigsPerDay'] = np.log(X_train_bal['cigsPerDay']+5)\n",
    "sns.kdeplot(data=X_train_bal['cigsPerDay'], shade=True)"
   ]
  },
  {
   "cell_type": "code",
   "execution_count": 49,
   "id": "28414280",
   "metadata": {},
   "outputs": [
    {
     "data": {
      "text/plain": [
       "<AxesSubplot:xlabel='cigsPerDay', ylabel='age'>"
      ]
     },
     "execution_count": 49,
     "metadata": {},
     "output_type": "execute_result"
    },
    {
     "data": {
      "image/png": "[encoded data removed]",
      "text/plain": [
       "<Figure size 432x288 with 1 Axes>"
      ]
     },
     "metadata": {
      "needs_background": "light"
     },
     "output_type": "display_data"
    }
   ],
   "source": [
    "sns.scatterplot(x=X_train_bal['cigsPerDay'], y=X_train_bal['age'], hue=y_train, palette=['b','r'])"
   ]
  },
  {
   "cell_type": "markdown",
   "id": "b313024a",
   "metadata": {},
   "source": [
    "- High blood pressure can cause many heart problems, including: Coronary heart disease.\n",
    "- Let's examine how bpMeds effects the disease."
   ]
  },
  {
   "cell_type": "code",
   "execution_count": 50,
   "id": "90e5c7ee",
   "metadata": {},
   "outputs": [
    {
     "data": {
      "text/plain": [
       "<AxesSubplot:xlabel='BPMeds', ylabel='Count'>"
      ]
     },
     "execution_count": 50,
     "metadata": {},
     "output_type": "execute_result"
    },
    {
     "data": {
      "image/png": "[encoded data removed]",
      "text/plain": [
       "<Figure size 432x288 with 1 Axes>"
      ]
     },
     "metadata": {
      "needs_background": "light"
     },
     "output_type": "display_data"
    }
   ],
   "source": [
    "sns.histplot(x=X_train_bal['BPMeds'], hue=y_train, element='step')"
   ]
  },
  {
   "cell_type": "markdown",
   "id": "c7793fc4",
   "metadata": {},
   "source": [
    "- As obvious from the above plot we see that a person having BP medications has a high chance of having TenYearCHD.\n",
    "- But what is the age variation of the people taking BP medications?\n",
    "    - let's examine it."
   ]
  },
  {
   "cell_type": "code",
   "execution_count": 51,
   "id": "a2f6583f",
   "metadata": {},
   "outputs": [
    {
     "data": {
      "text/plain": [
       "196"
      ]
     },
     "execution_count": 51,
     "metadata": {},
     "output_type": "execute_result"
    }
   ],
   "source": [
    "len(X_train_bal[X_train_bal['BPMeds']==1])"
   ]
  },
  {
   "cell_type": "markdown",
   "id": "9cb87a9c",
   "metadata": {},
   "source": [
    "So, very few people take BP medications, or simply put very few people suffer from BP problems.\n",
    "But what age group suffers most BP problems?\n",
    "Let's find out..."
   ]
  },
  {
   "cell_type": "code",
   "execution_count": 52,
   "id": "979fef7a",
   "metadata": {},
   "outputs": [
    {
     "data": {
      "text/plain": [
       "<AxesSubplot:xlabel='BPMeds', ylabel='age'>"
      ]
     },
     "execution_count": 52,
     "metadata": {},
     "output_type": "execute_result"
    },
    {
     "data": {
      "image/png": "[encoded data removed]",
      "text/plain": [
       "<Figure size 432x288 with 1 Axes>"
      ]
     },
     "metadata": {
      "needs_background": "light"
     },
     "output_type": "display_data"
    }
   ],
   "source": [
    "sns.stripplot(x='BPMeds', y='age', data=X_train_bal)"
   ]
  },
  {
   "cell_type": "markdown",
   "id": "ddf6dfc6",
   "metadata": {},
   "source": [
    "- Most of the people who take BPMeds are aged in the range of 50s to 70s and they have a chance of probably greater than 50%(from the histplot above).\n",
    "\n",
    "#### Conclusions from the above analysis about the BPMeds feature:\n",
    "    1. More than 50% chance of having TenYearCHD if a person is in BPMeds.\n",
    "    2. Most of the senior citizens are on BP medications.\n",
    "##### BPMeds is a vital feature in predicting TenYearCHD."
   ]
  },
  {
   "cell_type": "markdown",
   "id": "f11016c1",
   "metadata": {},
   "source": [
    "##### Strokes and TenYearCHD"
   ]
  },
  {
   "cell_type": "markdown",
   "id": "f2c8988b",
   "metadata": {},
   "source": [
    "- Approximately one fourth of patients with a recent stroke have a history of symptomatic coronary artery disease.\n",
    "- These patients are prone to recurrent coronary heart disease (CHD) events with a 10-year risk >20%.\n",
    "- Seems that *Stroke* plays a vital role in predicting future heart related problems, let's analyse it.\n",
    "###### Referenced article: https://www.ahajournals.org/doi/10.1161/strokeaha.109.564781\n"
   ]
  },
  {
   "cell_type": "code",
   "execution_count": 53,
   "id": "bec8d93d",
   "metadata": {},
   "outputs": [
    {
     "data": {
      "text/plain": [
       "Index(['index', 'male', 'age', 'currentSmoker', 'cigsPerDay', 'BPMeds',\n",
       "       'prevalentStroke', 'prevalentHyp', 'diabetes', 'totChol', 'sysBP',\n",
       "       'diaBP', 'BMI', 'heartRate', 'glucose', 'TenYearCHD'],\n",
       "      dtype='object')"
      ]
     },
     "execution_count": 53,
     "metadata": {},
     "output_type": "execute_result"
    }
   ],
   "source": [
    "X_train_bal.columns"
   ]
  },
  {
   "cell_type": "code",
   "execution_count": 54,
   "id": "26be845e",
   "metadata": {},
   "outputs": [
    {
     "data": {
      "text/plain": [
       "<AxesSubplot:xlabel='prevalentStroke', ylabel='Count'>"
      ]
     },
     "execution_count": 54,
     "metadata": {},
     "output_type": "execute_result"
    },
    {
     "data": {
      "image/png": "[encoded data removed]",
      "text/plain": [
       "<Figure size 432x288 with 1 Axes>"
      ]
     },
     "metadata": {
      "needs_background": "light"
     },
     "output_type": "display_data"
    }
   ],
   "source": [
    "sns.histplot(x=X_train_bal['prevalentStroke'], hue=y_train)"
   ]
  },
  {
   "cell_type": "markdown",
   "id": "c3a4bd8b",
   "metadata": {},
   "source": [
    "- Again! Almost every person suffered from a stroke had a chance of more than 95%(approx) for TenYearCHD(the article was indicating towards this, and further justified by the dataset).\n",
    "- Now let's examine the age variation of *prevalentStroke*."
   ]
  },
  {
   "cell_type": "code",
   "execution_count": 55,
   "id": "3a38dd96",
   "metadata": {},
   "outputs": [
    {
     "data": {
      "text/plain": [
       "<AxesSubplot:xlabel='prevalentStroke', ylabel='age'>"
      ]
     },
     "execution_count": 55,
     "metadata": {},
     "output_type": "execute_result"
    },
    {
     "data": {
      "image/png": "[encoded data removed]",
      "text/plain": [
       "<Figure size 432x288 with 1 Axes>"
      ]
     },
     "metadata": {
      "needs_background": "light"
     },
     "output_type": "display_data"
    }
   ],
   "source": [
    "sns.stripplot(x='prevalentStroke', y='age', data=X_train_bal)"
   ]
  },
  {
   "cell_type": "markdown",
   "id": "ec6ab5c3",
   "metadata": {},
   "source": [
    "- If a person suffers from a stroke there is a higher chance that he/she is a senior citizen."
   ]
  },
  {
   "cell_type": "markdown",
   "id": "b422e6e5",
   "metadata": {},
   "source": [
    "#### Conclusions from the above analysis about the prevalentStroke feature:\n",
    "    1. More than 95%(approx) chance of having TenYearCHD if a person has suffered a stroke before.\n",
    "    2. Most of the senior citizens(in the age of 50 to 70s) have suffered a stroke.\n",
    "##### prevalentStroke is a vital feature in predicting TenYearCHD."
   ]
  },
  {
   "cell_type": "markdown",
   "id": "65cd377d",
   "metadata": {},
   "source": [
    "##### Hypertensive"
   ]
  },
  {
   "cell_type": "markdown",
   "id": "458fbc82",
   "metadata": {},
   "source": [
    "High blood pressure, also called hypertension, is blood pressure that is higher than normal. Your blood pressure changes throughout the day based on your activities. Having blood pressure measures consistently above normal may result in a diagnosis of high blood pressure (or hypertension)."
   ]
  },
  {
   "cell_type": "code",
   "execution_count": 56,
   "id": "1480fcbc",
   "metadata": {},
   "outputs": [
    {
     "data": {
      "text/plain": [
       "<AxesSubplot:xlabel='prevalentHyp', ylabel='Count'>"
      ]
     },
     "execution_count": 56,
     "metadata": {},
     "output_type": "execute_result"
    },
    {
     "data": {
      "image/png": "[encoded data removed]",
      "text/plain": [
       "<Figure size 432x288 with 1 Axes>"
      ]
     },
     "metadata": {
      "needs_background": "light"
     },
     "output_type": "display_data"
    }
   ],
   "source": [
    "sns.histplot(x=X_train_bal['prevalentHyp'], hue=X_train_bal['currentSmoker'], element='step')"
   ]
  },
  {
   "cell_type": "markdown",
   "id": "6b2180ef",
   "metadata": {},
   "source": [
    "- A person having had a hypertension has a higher chance of being a non smoker than a current smoker.\n",
    "#### But why now are they not having hypertension even when they are smoking?\n",
    "    Well, we can say that they have cured their hypertension recently by being on BPMeds and now they neither have hypertension nor are on BPMeds.\n",
    "- Also it's been found that smoking is one of the cause for hypertension which is also clearly depicted by the above plot.\n",
    "- If the person was hypertensive earlier, then he/she must not be on BPMeds because now they are not hypertensive, they were in the past. Let's see."
   ]
  },
  {
   "cell_type": "code",
   "execution_count": 57,
   "id": "b239c537",
   "metadata": {},
   "outputs": [
    {
     "data": {
      "text/plain": [
       "<AxesSubplot:xlabel='prevalentHyp', ylabel='Count'>"
      ]
     },
     "execution_count": 57,
     "metadata": {},
     "output_type": "execute_result"
    },
    {
     "data": {
      "image/png": "[encoded data removed]",
      "text/plain": [
       "<Figure size 432x288 with 1 Axes>"
      ]
     },
     "metadata": {
      "needs_background": "light"
     },
     "output_type": "display_data"
    }
   ],
   "source": [
    "sns.histplot(x=X_train_bal['prevalentHyp'], hue=X_train_bal['BPMeds'], element='step')"
   ]
  },
  {
   "cell_type": "markdown",
   "id": "d190284f",
   "metadata": {},
   "source": [
    "- All of them who were hypertensive are on BPMeds.\n",
    "- Let's see what is the chance of such a person having a TenYearCHD."
   ]
  },
  {
   "cell_type": "code",
   "execution_count": 58,
   "id": "3adf373d",
   "metadata": {},
   "outputs": [
    {
     "data": {
      "text/plain": [
       "<AxesSubplot:xlabel='prevalentHyp', ylabel='Count'>"
      ]
     },
     "execution_count": 58,
     "metadata": {},
     "output_type": "execute_result"
    },
    {
     "data": {
      "image/png": "[encoded data removed]",
      "text/plain": [
       "<Figure size 432x288 with 1 Axes>"
      ]
     },
     "metadata": {
      "needs_background": "light"
     },
     "output_type": "display_data"
    }
   ],
   "source": [
    "sns.histplot(x=X_train_bal['prevalentHyp'], hue=y_train, element='step')"
   ]
  },
  {
   "cell_type": "markdown",
   "id": "a3389742",
   "metadata": {},
   "source": [
    "- They clearly have a high chance of having the disease, if they suffer from hypertension.\n",
    "##### How does age vary with this hypertensiveness?"
   ]
  },
  {
   "cell_type": "code",
   "execution_count": 59,
   "id": "390af554",
   "metadata": {},
   "outputs": [
    {
     "data": {
      "text/plain": [
       "<AxesSubplot:xlabel='prevalentHyp', ylabel='age'>"
      ]
     },
     "execution_count": 59,
     "metadata": {},
     "output_type": "execute_result"
    },
    {
     "data": {
      "image/png": "[encoded data removed]",
      "text/plain": [
       "<Figure size 432x288 with 1 Axes>"
      ]
     },
     "metadata": {
      "needs_background": "light"
     },
     "output_type": "display_data"
    }
   ],
   "source": [
    "sns.stripplot(x='prevalentHyp', y='age', data=X_train_bal)"
   ]
  },
  {
   "cell_type": "markdown",
   "id": "9a68d9ce",
   "metadata": {},
   "source": [
    "- Almost every person suffers from hypertension irrespective of their age, if their age in above 35."
   ]
  },
  {
   "cell_type": "markdown",
   "id": "cb0a12ce",
   "metadata": {},
   "source": [
    "#### Diabetes"
   ]
  },
  {
   "cell_type": "markdown",
   "id": "cf81782b",
   "metadata": {},
   "source": [
    "- Let's see the effect of Diabeties on TenYearCHD"
   ]
  },
  {
   "cell_type": "code",
   "execution_count": 60,
   "id": "51d59ebf",
   "metadata": {},
   "outputs": [
    {
     "data": {
      "text/plain": [
       "<AxesSubplot:xlabel='diabetes', ylabel='Count'>"
      ]
     },
     "execution_count": 60,
     "metadata": {},
     "output_type": "execute_result"
    },
    {
     "data": {
      "image/png": "[encoded data removed]",
      "text/plain": [
       "<Figure size 432x288 with 1 Axes>"
      ]
     },
     "metadata": {
      "needs_background": "light"
     },
     "output_type": "display_data"
    }
   ],
   "source": [
    "sns.histplot(x=X_train_bal['diabetes'], hue=y_train, element='step')"
   ]
  },
  {
   "cell_type": "code",
   "execution_count": 61,
   "id": "0cf7ec15",
   "metadata": {},
   "outputs": [
    {
     "name": "stdout",
     "output_type": "stream",
     "text": [
      "chance of a person having TenYearCHD if he/she has diabetes:  0.8075313807531381\n",
      "chance of a person having TenYearCHD if he/she has NO diabetes:  0.48469068943970006\n"
     ]
    }
   ],
   "source": [
    "index_chd_diabetes = list(X_train_bal[X_train_bal['diabetes']==1].index.values)\n",
    "index_chd_NOdiabetes = list(X_train_bal[X_train_bal['diabetes']==0].index.values)\n",
    "count_chd_diabetes = 0\n",
    "count_chd_NOdiabetes = 0\n",
    "for i in index_chd_diabetes:\n",
    "    if y_train[i]==1:\n",
    "        count_chd_diabetes += 1\n",
    "\n",
    "for i in index_chd_NOdiabetes:\n",
    "    if y_train[i]==1:\n",
    "        count_chd_NOdiabetes += 1\n",
    "print('chance of a person having TenYearCHD if he/she has diabetes: ', count_chd_diabetes/len(index_chd_diabetes))\n",
    "print('chance of a person having TenYearCHD if he/she has NO diabetes: ', count_chd_NOdiabetes/len(index_chd_NOdiabetes))"
   ]
  },
  {
   "cell_type": "markdown",
   "id": "4f39a91b",
   "metadata": {},
   "source": [
    "- There is a chance of more than 80% to be a TenYearCHD patient if the person is a dibetic patient.\n",
    "- what is the effect of diabetes with age? Let's find out."
   ]
  },
  {
   "cell_type": "code",
   "execution_count": 62,
   "id": "bde21082",
   "metadata": {},
   "outputs": [
    {
     "data": {
      "text/plain": [
       "<AxesSubplot:xlabel='diabetes', ylabel='age'>"
      ]
     },
     "execution_count": 62,
     "metadata": {},
     "output_type": "execute_result"
    },
    {
     "data": {
      "image/png": "[encoded data removed]",
      "text/plain": [
       "<Figure size 432x288 with 1 Axes>"
      ]
     },
     "metadata": {
      "needs_background": "light"
     },
     "output_type": "display_data"
    }
   ],
   "source": [
    "sns.stripplot(x='diabetes', y='age', data=X_train_bal)"
   ]
  },
  {
   "cell_type": "markdown",
   "id": "aa35259f",
   "metadata": {},
   "source": [
    "- If the person is aged between 45 to 70, there is a greater chance of him/her having diabetes.\n",
    "- Let's see the fraction of the patients having diabetes."
   ]
  },
  {
   "cell_type": "markdown",
   "id": "7cf32c41",
   "metadata": {},
   "source": [
    "#### Total Cholestrol"
   ]
  },
  {
   "cell_type": "code",
   "execution_count": 63,
   "id": "17b59140",
   "metadata": {},
   "outputs": [
    {
     "data": {
      "text/plain": [
       "<AxesSubplot:xlabel='age', ylabel='totChol'>"
      ]
     },
     "execution_count": 63,
     "metadata": {},
     "output_type": "execute_result"
    },
    {
     "data": {
      "image/png": "[encoded data removed]",
      "text/plain": [
       "<Figure size 432x288 with 1 Axes>"
      ]
     },
     "metadata": {
      "needs_background": "light"
     },
     "output_type": "display_data"
    }
   ],
   "source": [
    "sns.lineplot(x=X_train_bal['age'], y=X_train_bal['totChol'], hue=X_train_bal['diabetes'])"
   ]
  },
  {
   "cell_type": "markdown",
   "id": "a0c7011d",
   "metadata": {},
   "source": [
    "- Those who have diabetes have really fluctuating cholestrol level(**total cholestrol**). High or Even low chelestrol level can lead to heart disease.\n",
    "- Diabetes tends to lower \"good\" cholesterol levels and raise triglycerides and \"bad\" cholesterol levels, which increases the risk for heart disease and stroke.\n",
    "- The above line explains the fluctuating levels of total cholestrol. In some cases \"good\" cholestrol << \"bad\" cholestrol and thus totChol is low, and in some cases \"bad\" cholestrol >> \"good\" cholestrol and thus totChol is high.\n",
    "- What is the relation between cholestrol level and TenYearCHD? let's see."
   ]
  },
  {
   "cell_type": "code",
   "execution_count": 64,
   "id": "35760ace",
   "metadata": {},
   "outputs": [
    {
     "data": {
      "text/plain": [
       "<AxesSubplot:xlabel='age', ylabel='totChol'>"
      ]
     },
     "execution_count": 64,
     "metadata": {},
     "output_type": "execute_result"
    },
    {
     "data": {
      "image/png": "[encoded data removed]",
      "text/plain": [
       "<Figure size 432x288 with 1 Axes>"
      ]
     },
     "metadata": {
      "needs_background": "light"
     },
     "output_type": "display_data"
    }
   ],
   "source": [
    "sns.lineplot(x=X_train_bal['age'], y=X_train_bal['totChol'], hue=y_train)"
   ]
  },
  {
   "cell_type": "markdown",
   "id": "785a80f4",
   "metadata": {},
   "source": [
    "- Those who have heart disease have more fluctuating totChol level than those who don't have the same.\n",
    "- Also if we consider those people who don't have the heart disease as **Normal** then *totChol* level of heart disease patient are either much high or much low than *Normal* ones.\n",
    "- So, ***totChol*** plays a vital role in predicting heart disease."
   ]
  },
  {
   "cell_type": "markdown",
   "id": "df4c6dee",
   "metadata": {},
   "source": [
    "#### Blood pressure"
   ]
  },
  {
   "cell_type": "code",
   "execution_count": 65,
   "id": "a1810ad0",
   "metadata": {},
   "outputs": [
    {
     "data": {
      "text/plain": [
       "<AxesSubplot:xlabel='age', ylabel='sysBP'>"
      ]
     },
     "execution_count": 65,
     "metadata": {},
     "output_type": "execute_result"
    },
    {
     "data": {
      "image/png": "[encoded data removed]",
      "text/plain": [
       "<Figure size 432x288 with 1 Axes>"
      ]
     },
     "metadata": {
      "needs_background": "light"
     },
     "output_type": "display_data"
    }
   ],
   "source": [
    "sns.lineplot(x=X_train_bal['age'], y=X_train_bal['sysBP'], hue=y_train)"
   ]
  },
  {
   "cell_type": "markdown",
   "id": "a5160162",
   "metadata": {},
   "source": [
    "- sysBP increases with age: which is natural.\n",
    "- sysBP increases/decreases more rapidly for heart patients with age.\n",
    "- Also, the fluctuation of sysBP increases with age of a heart patient."
   ]
  },
  {
   "cell_type": "code",
   "execution_count": 66,
   "id": "4dbfac1a",
   "metadata": {},
   "outputs": [
    {
     "data": {
      "text/plain": [
       "<AxesSubplot:xlabel='age', ylabel='diaBP'>"
      ]
     },
     "execution_count": 66,
     "metadata": {},
     "output_type": "execute_result"
    },
    {
     "data": {
      "image/png": "[encoded data removed]",
      "text/plain": [
       "<Figure size 432x288 with 1 Axes>"
      ]
     },
     "metadata": {
      "needs_background": "light"
     },
     "output_type": "display_data"
    }
   ],
   "source": [
    "sns.lineplot(x=X_train_bal['age'], y=X_train_bal['diaBP'], hue=y_train)"
   ]
  },
  {
   "cell_type": "markdown",
   "id": "26d6e337",
   "metadata": {},
   "source": [
    "- diaBP fluctuates more rapidly for heart patients with age.\n",
    "- Hence, sysBP and diaBP play important role for prediction of TenYearCHD."
   ]
  },
  {
   "cell_type": "markdown",
   "id": "db267319",
   "metadata": {},
   "source": [
    "#### BMI"
   ]
  },
  {
   "cell_type": "code",
   "execution_count": 67,
   "id": "a52917e0",
   "metadata": {},
   "outputs": [
    {
     "data": {
      "text/plain": [
       "<AxesSubplot:xlabel='sysBP', ylabel='BMI'>"
      ]
     },
     "execution_count": 67,
     "metadata": {},
     "output_type": "execute_result"
    },
    {
     "data": {
      "image/png": "[encoded data removed]",
      "text/plain": [
       "<Figure size 432x288 with 1 Axes>"
      ]
     },
     "metadata": {
      "needs_background": "light"
     },
     "output_type": "display_data"
    }
   ],
   "source": [
    "sns.regplot(x=X_train_bal['sysBP'], y=X_train_bal['BMI'])"
   ]
  },
  {
   "cell_type": "markdown",
   "id": "baa00052",
   "metadata": {},
   "source": [
    "We found a gradient of increasing blood pressure with higher levels of BMI. The fact that this gradient is present even in the fully adjusted analyses suggests that BMI may cause a direct effect on blood pressure, independent of other clinical risk factors.\n",
    "###### Reference link: https://www.ncbi.nlm.nih.gov/pmc/articles/PMC6316192/\n",
    "\n",
    "And the above plot justifies the above statement with the dataset.\n",
    "Increase in **sysBP** is directly associated with *TenYearCHD*, so *BMI* also is associated with *TenYearCHD*.\n",
    "Thus, **BMI** is an important feature for this dataset. It is also much correlated to sysBP may be this correlation might lead us to dropping it as well!"
   ]
  },
  {
   "cell_type": "markdown",
   "id": "703875ec",
   "metadata": {},
   "source": [
    "#### Heart rate"
   ]
  },
  {
   "cell_type": "code",
   "execution_count": 68,
   "id": "da7cd870",
   "metadata": {},
   "outputs": [
    {
     "data": {
      "text/plain": [
       "<AxesSubplot:xlabel='age', ylabel='heartRate'>"
      ]
     },
     "execution_count": 68,
     "metadata": {},
     "output_type": "execute_result"
    },
    {
     "data": {
      "image/png": "[encoded data removed]",
      "text/plain": [
       "<Figure size 432x288 with 1 Axes>"
      ]
     },
     "metadata": {
      "needs_background": "light"
     },
     "output_type": "display_data"
    }
   ],
   "source": [
    "sns.lineplot(x=X_train_bal['age'], y=X_train_bal['heartRate'], hue=y_train, style=y_train)"
   ]
  },
  {
   "cell_type": "markdown",
   "id": "81686495",
   "metadata": {},
   "source": [
    "- Normal patient: Not having TenYearCHD.\n",
    "- The heartRate is either very low or very high from the normal level(wrt Normal patient) at a given age.\n",
    "- Also, we can say that irrespective of the person having TenYearCHD, with age their heart rate fluctuates a lot. This is can be an important observation, as it can also be related to sysBP or diaBP.\n",
    "- So we may have to drop this feature."
   ]
  },
  {
   "cell_type": "markdown",
   "id": "7ac0b0bb",
   "metadata": {},
   "source": [
    "#### Glucose"
   ]
  },
  {
   "cell_type": "code",
   "execution_count": 69,
   "id": "6e23dc98",
   "metadata": {},
   "outputs": [
    {
     "data": {
      "text/plain": [
       "<AxesSubplot:xlabel='age', ylabel='glucose'>"
      ]
     },
     "execution_count": 69,
     "metadata": {},
     "output_type": "execute_result"
    },
    {
     "data": {
      "image/png": "[encoded data removed]",
      "text/plain": [
       "<Figure size 432x288 with 1 Axes>"
      ]
     },
     "metadata": {
      "needs_background": "light"
     },
     "output_type": "display_data"
    }
   ],
   "source": [
    "sns.lineplot(x=X_train_bal['age'], y=X_train_bal['glucose'], hue=y_train, style=y_train)"
   ]
  },
  {
   "cell_type": "markdown",
   "id": "eb3be4e4",
   "metadata": {},
   "source": [
    "- for normal patients the glucose level is usually below 100.\n",
    "- Glucose level fluctuates a lot when a person has TenYearCHD with age.\n",
    "- So, for a person having heart disease, their glucose level is either very high or very low.\n",
    "- this can be helpful for in model evaluation."
   ]
  },
  {
   "cell_type": "markdown",
   "id": "08669d27",
   "metadata": {},
   "source": [
    "## Data preprocessing"
   ]
  },
  {
   "cell_type": "code",
   "execution_count": 70,
   "id": "5917ea3f",
   "metadata": {},
   "outputs": [
    {
     "name": "stdout",
     "output_type": "stream",
     "text": [
      "<class 'pandas.core.frame.DataFrame'>\n",
      "RangeIndex: 5040 entries, 0 to 5039\n",
      "Data columns (total 16 columns):\n",
      " #   Column           Non-Null Count  Dtype  \n",
      "---  ------           --------------  -----  \n",
      " 0   index            5040 non-null   int64  \n",
      " 1   male             5040 non-null   float64\n",
      " 2   age              5040 non-null   float64\n",
      " 3   currentSmoker    5040 non-null   float64\n",
      " 4   cigsPerDay       5040 non-null   float64\n",
      " 5   BPMeds           5040 non-null   float64\n",
      " 6   prevalentStroke  5040 non-null   float64\n",
      " 7   prevalentHyp     5040 non-null   float64\n",
      " 8   diabetes         5040 non-null   float64\n",
      " 9   totChol          5040 non-null   float64\n",
      " 10  sysBP            5040 non-null   float64\n",
      " 11  diaBP            5040 non-null   float64\n",
      " 12  BMI              5040 non-null   float64\n",
      " 13  heartRate        5040 non-null   float64\n",
      " 14  glucose          5040 non-null   float64\n",
      " 15  TenYearCHD       5040 non-null   float64\n",
      "dtypes: float64(15), int64(1)\n",
      "memory usage: 630.1 KB\n"
     ]
    }
   ],
   "source": [
    "X_train_bal.info()"
   ]
  },
  {
   "cell_type": "code",
   "execution_count": 71,
   "id": "a41b0a1d",
   "metadata": {},
   "outputs": [
    {
     "data": {
      "text/html": [
       "<div>\n",
       "<style scoped>\n",
       "    .dataframe tbody tr th:only-of-type {\n",
       "        vertical-align: middle;\n",
       "    }\n",
       "\n",
       "    .dataframe tbody tr th {\n",
       "        vertical-align: top;\n",
       "    }\n",
       "\n",
       "    .dataframe thead th {\n",
       "        text-align: right;\n",
       "    }\n",
       "</style>\n",
       "<table border=\"1\" class=\"dataframe\">\n",
       "  <thead>\n",
       "    <tr style=\"text-align: right;\">\n",
       "      <th></th>\n",
       "      <th>index</th>\n",
       "      <th>male</th>\n",
       "      <th>age</th>\n",
       "      <th>currentSmoker</th>\n",
       "      <th>cigsPerDay</th>\n",
       "      <th>BPMeds</th>\n",
       "      <th>prevalentStroke</th>\n",
       "      <th>prevalentHyp</th>\n",
       "      <th>diabetes</th>\n",
       "      <th>totChol</th>\n",
       "      <th>sysBP</th>\n",
       "      <th>diaBP</th>\n",
       "      <th>BMI</th>\n",
       "      <th>heartRate</th>\n",
       "      <th>glucose</th>\n",
       "      <th>TenYearCHD</th>\n",
       "    </tr>\n",
       "  </thead>\n",
       "  <tbody>\n",
       "    <tr>\n",
       "      <th>0</th>\n",
       "      <td>1818</td>\n",
       "      <td>1.0</td>\n",
       "      <td>40.0</td>\n",
       "      <td>1.0</td>\n",
       "      <td>3.218876</td>\n",
       "      <td>0.0</td>\n",
       "      <td>0.0</td>\n",
       "      <td>0.0</td>\n",
       "      <td>0.0</td>\n",
       "      <td>275.0</td>\n",
       "      <td>112.5</td>\n",
       "      <td>85.0</td>\n",
       "      <td>28.04</td>\n",
       "      <td>73.0</td>\n",
       "      <td>71.0</td>\n",
       "      <td>1.0</td>\n",
       "    </tr>\n",
       "    <tr>\n",
       "      <th>1</th>\n",
       "      <td>1007</td>\n",
       "      <td>1.0</td>\n",
       "      <td>47.0</td>\n",
       "      <td>1.0</td>\n",
       "      <td>3.401197</td>\n",
       "      <td>0.0</td>\n",
       "      <td>0.0</td>\n",
       "      <td>1.0</td>\n",
       "      <td>0.0</td>\n",
       "      <td>236.0</td>\n",
       "      <td>154.0</td>\n",
       "      <td>93.0</td>\n",
       "      <td>24.49</td>\n",
       "      <td>94.0</td>\n",
       "      <td>76.0</td>\n",
       "      <td>1.0</td>\n",
       "    </tr>\n",
       "    <tr>\n",
       "      <th>2</th>\n",
       "      <td>995</td>\n",
       "      <td>1.0</td>\n",
       "      <td>49.0</td>\n",
       "      <td>1.0</td>\n",
       "      <td>2.644122</td>\n",
       "      <td>0.0</td>\n",
       "      <td>0.0</td>\n",
       "      <td>0.0</td>\n",
       "      <td>0.0</td>\n",
       "      <td>256.0</td>\n",
       "      <td>127.5</td>\n",
       "      <td>81.5</td>\n",
       "      <td>28.21</td>\n",
       "      <td>93.0</td>\n",
       "      <td>85.0</td>\n",
       "      <td>1.0</td>\n",
       "    </tr>\n",
       "    <tr>\n",
       "      <th>3</th>\n",
       "      <td>1387</td>\n",
       "      <td>0.0</td>\n",
       "      <td>48.0</td>\n",
       "      <td>0.0</td>\n",
       "      <td>1.609438</td>\n",
       "      <td>0.0</td>\n",
       "      <td>0.0</td>\n",
       "      <td>1.0</td>\n",
       "      <td>0.0</td>\n",
       "      <td>275.0</td>\n",
       "      <td>177.0</td>\n",
       "      <td>101.0</td>\n",
       "      <td>25.22</td>\n",
       "      <td>75.0</td>\n",
       "      <td>82.0</td>\n",
       "      <td>1.0</td>\n",
       "    </tr>\n",
       "    <tr>\n",
       "      <th>4</th>\n",
       "      <td>1195</td>\n",
       "      <td>1.0</td>\n",
       "      <td>42.0</td>\n",
       "      <td>0.0</td>\n",
       "      <td>1.609438</td>\n",
       "      <td>0.0</td>\n",
       "      <td>0.0</td>\n",
       "      <td>1.0</td>\n",
       "      <td>0.0</td>\n",
       "      <td>327.0</td>\n",
       "      <td>134.0</td>\n",
       "      <td>93.0</td>\n",
       "      <td>25.14</td>\n",
       "      <td>70.0</td>\n",
       "      <td>72.0</td>\n",
       "      <td>1.0</td>\n",
       "    </tr>\n",
       "  </tbody>\n",
       "</table>\n",
       "</div>"
      ],
      "text/plain": [
       "   index  male   age  currentSmoker  cigsPerDay  BPMeds  prevalentStroke  \\\n",
       "0   1818   1.0  40.0            1.0    3.218876     0.0              0.0   \n",
       "1   1007   1.0  47.0            1.0    3.401197     0.0              0.0   \n",
       "2    995   1.0  49.0            1.0    2.644122     0.0              0.0   \n",
       "3   1387   0.0  48.0            0.0    1.609438     0.0              0.0   \n",
       "4   1195   1.0  42.0            0.0    1.609438     0.0              0.0   \n",
       "\n",
       "   prevalentHyp  diabetes  totChol  sysBP  diaBP    BMI  heartRate  glucose  \\\n",
       "0           0.0       0.0    275.0  112.5   85.0  28.04       73.0     71.0   \n",
       "1           1.0       0.0    236.0  154.0   93.0  24.49       94.0     76.0   \n",
       "2           0.0       0.0    256.0  127.5   81.5  28.21       93.0     85.0   \n",
       "3           1.0       0.0    275.0  177.0  101.0  25.22       75.0     82.0   \n",
       "4           1.0       0.0    327.0  134.0   93.0  25.14       70.0     72.0   \n",
       "\n",
       "   TenYearCHD  \n",
       "0         1.0  \n",
       "1         1.0  \n",
       "2         1.0  \n",
       "3         1.0  \n",
       "4         1.0  "
      ]
     },
     "execution_count": 71,
     "metadata": {},
     "output_type": "execute_result"
    }
   ],
   "source": [
    "X_train_bal.head()"
   ]
  },
  {
   "cell_type": "code",
   "execution_count": 72,
   "id": "7c378d62",
   "metadata": {},
   "outputs": [
    {
     "name": "stdout",
     "output_type": "stream",
     "text": [
      "0.0    1675\n",
      "1.0    1291\n",
      "Name: male, dtype: int64\n",
      "48.0    134\n",
      "42.0    130\n",
      "46.0    129\n",
      "40.0    128\n",
      "39.0    122\n",
      "43.0    121\n",
      "45.0    119\n",
      "41.0    117\n",
      "44.0    113\n",
      "55.0    103\n",
      "52.0    100\n",
      "38.0     99\n",
      "50.0     97\n",
      "47.0     96\n",
      "54.0     95\n",
      "51.0     94\n",
      "53.0     89\n",
      "49.0     89\n",
      "56.0     87\n",
      "58.0     86\n",
      "59.0     86\n",
      "57.0     86\n",
      "61.0     83\n",
      "60.0     78\n",
      "63.0     77\n",
      "64.0     67\n",
      "37.0     63\n",
      "62.0     60\n",
      "36.0     55\n",
      "65.0     44\n",
      "35.0     32\n",
      "66.0     26\n",
      "67.0     25\n",
      "34.0     15\n",
      "68.0     13\n",
      "69.0      3\n",
      "70.0      2\n",
      "33.0      2\n",
      "32.0      1\n",
      "Name: age, dtype: int64\n",
      "1.0    1484\n",
      "0.0    1482\n",
      "Name: currentSmoker, dtype: int64\n",
      "0.000000     1482\n",
      "20.000000     503\n",
      "15.000000     152\n",
      "30.000000     147\n",
      "10.000000     104\n",
      "9.000000      103\n",
      "5.000000       86\n",
      "3.000000       71\n",
      "40.000000      57\n",
      "1.000000       50\n",
      "43.000000      40\n",
      "25.000000      39\n",
      "9.071088       26\n",
      "35.000000      15\n",
      "60.000000      10\n",
      "2.000000       10\n",
      "6.000000       10\n",
      "4.000000        9\n",
      "7.000000        8\n",
      "8.000000        7\n",
      "17.000000       6\n",
      "23.000000       5\n",
      "50.000000       5\n",
      "18.000000       4\n",
      "11.000000       4\n",
      "16.000000       2\n",
      "12.000000       2\n",
      "19.000000       2\n",
      "45.000000       2\n",
      "70.000000       1\n",
      "13.000000       1\n",
      "14.000000       1\n",
      "38.000000       1\n",
      "29.000000       1\n",
      "Name: cigsPerDay, dtype: int64\n",
      "0.0    2886\n",
      "1.0      80\n",
      "Name: BPMeds, dtype: int64\n",
      "0.0    2945\n",
      "1.0      21\n",
      "Name: prevalentStroke, dtype: int64\n",
      "0.0    2061\n",
      "1.0     905\n",
      "Name: prevalentHyp, dtype: int64\n",
      "0.0    2890\n",
      "1.0      76\n",
      "Name: diabetes, dtype: int64\n",
      "240.0    64\n",
      "220.0    48\n",
      "210.0    47\n",
      "232.0    46\n",
      "260.0    43\n",
      "         ..\n",
      "133.0     1\n",
      "350.0     1\n",
      "359.0     1\n",
      "432.0     1\n",
      "382.0     1\n",
      "Name: totChol, Length: 235, dtype: int64\n",
      "115.0    73\n",
      "120.0    71\n",
      "110.0    71\n",
      "130.0    69\n",
      "122.0    65\n",
      "         ..\n",
      "169.5     1\n",
      "217.0     1\n",
      "135.5     1\n",
      "204.0     1\n",
      "207.5     1\n",
      "Name: sysBP, Length: 220, dtype: int64\n",
      "80.0     180\n",
      "82.0     103\n",
      "81.0     102\n",
      "85.0      97\n",
      "78.0      89\n",
      "        ... \n",
      "117.0      1\n",
      "128.0      1\n",
      "60.5       1\n",
      "53.0       1\n",
      "116.0      1\n",
      "Name: diaBP, Length: 139, dtype: int64\n",
      "25.817722    16\n",
      "22.540000    16\n",
      "22.910000    12\n",
      "22.190000    10\n",
      "23.090000    10\n",
      "             ..\n",
      "36.180000     1\n",
      "23.170000     1\n",
      "30.780000     1\n",
      "18.750000     1\n",
      "30.400000     1\n",
      "Name: BMI, Length: 1188, dtype: int64\n",
      "75.000000     387\n",
      "80.000000     268\n",
      "70.000000     221\n",
      "60.000000     159\n",
      "85.000000     150\n",
      "             ... \n",
      "140.000000      1\n",
      "47.000000       1\n",
      "75.794604       1\n",
      "51.000000       1\n",
      "122.000000      1\n",
      "Name: heartRate, Length: 72, dtype: int64\n",
      "82.119674     267\n",
      "75.000000     132\n",
      "77.000000     112\n",
      "80.000000     110\n",
      "73.000000     108\n",
      "             ... \n",
      "183.000000      1\n",
      "254.000000      1\n",
      "250.000000      1\n",
      "256.000000      1\n",
      "370.000000      1\n",
      "Name: glucose, Length: 130, dtype: int64\n",
      "0.0    2520\n",
      "1.0     446\n",
      "Name: TenYearCHD, dtype: int64\n"
     ]
    }
   ],
   "source": [
    "for col in X_train.columns:\n",
    "    print(X_train[col].value_counts())"
   ]
  },
  {
   "cell_type": "markdown",
   "id": "04079e22",
   "metadata": {},
   "source": [
    "- Observing the above values it's clear that none of them need preprocessing, or they are ready to be fed into the model for further evaluation."
   ]
  },
  {
   "cell_type": "markdown",
   "id": "10cf4198",
   "metadata": {},
   "source": [
    "## Feature engineering"
   ]
  },
  {
   "cell_type": "markdown",
   "id": "2247a569",
   "metadata": {},
   "source": [
    "1. **Feature selection**\n",
    "- We have two types of features in the dataset:\n",
    "    - Continuous: using ANOVA test\n",
    "    - Categorical: using Chi-squared test\n",
    "- using the test described above for the types of features shown, we can select important features from the dataset therby improving our model.\n",
    "- Let's extract our features in *Continuous* and *Categorical* types."
   ]
  },
  {
   "cell_type": "code",
   "execution_count": 73,
   "id": "1d586ca4",
   "metadata": {},
   "outputs": [],
   "source": [
    "continuous_feat = X_train_bal[['age', 'cigsPerDay', 'totChol', 'sysBP', 'diaBP', 'BMI', 'heartRate', 'glucose']]\n",
    "nominal_feat = X_train_bal[['male', 'currentSmoker', 'BPMeds', 'prevalentStroke', 'prevalentHyp', 'diabetes']]"
   ]
  },
  {
   "cell_type": "markdown",
   "id": "63375ae5",
   "metadata": {},
   "source": [
    "- Using *ANOVA* test to select continuous features."
   ]
  },
  {
   "cell_type": "code",
   "execution_count": 74,
   "id": "65ed054b",
   "metadata": {},
   "outputs": [
    {
     "data": {
      "text/html": [
       "<div>\n",
       "<style scoped>\n",
       "    .dataframe tbody tr th:only-of-type {\n",
       "        vertical-align: middle;\n",
       "    }\n",
       "\n",
       "    .dataframe tbody tr th {\n",
       "        vertical-align: top;\n",
       "    }\n",
       "\n",
       "    .dataframe thead th {\n",
       "        text-align: right;\n",
       "    }\n",
       "</style>\n",
       "<table border=\"1\" class=\"dataframe\">\n",
       "  <thead>\n",
       "    <tr style=\"text-align: right;\">\n",
       "      <th></th>\n",
       "      <th>feature</th>\n",
       "      <th>score</th>\n",
       "    </tr>\n",
       "  </thead>\n",
       "  <tbody>\n",
       "    <tr>\n",
       "      <th>0</th>\n",
       "      <td>age</td>\n",
       "      <td>539.227491</td>\n",
       "    </tr>\n",
       "    <tr>\n",
       "      <th>1</th>\n",
       "      <td>cigsPerDay</td>\n",
       "      <td>17.563647</td>\n",
       "    </tr>\n",
       "    <tr>\n",
       "      <th>2</th>\n",
       "      <td>totChol</td>\n",
       "      <td>62.532041</td>\n",
       "    </tr>\n",
       "    <tr>\n",
       "      <th>3</th>\n",
       "      <td>sysBP</td>\n",
       "      <td>412.205809</td>\n",
       "    </tr>\n",
       "    <tr>\n",
       "      <th>4</th>\n",
       "      <td>diaBP</td>\n",
       "      <td>140.296838</td>\n",
       "    </tr>\n",
       "    <tr>\n",
       "      <th>5</th>\n",
       "      <td>BMI</td>\n",
       "      <td>97.344090</td>\n",
       "    </tr>\n",
       "    <tr>\n",
       "      <th>6</th>\n",
       "      <td>heartRate</td>\n",
       "      <td>17.933485</td>\n",
       "    </tr>\n",
       "    <tr>\n",
       "      <th>7</th>\n",
       "      <td>glucose</td>\n",
       "      <td>86.410566</td>\n",
       "    </tr>\n",
       "  </tbody>\n",
       "</table>\n",
       "</div>"
      ],
      "text/plain": [
       "      feature       score\n",
       "0         age  539.227491\n",
       "1  cigsPerDay   17.563647\n",
       "2     totChol   62.532041\n",
       "3       sysBP  412.205809\n",
       "4       diaBP  140.296838\n",
       "5         BMI   97.344090\n",
       "6   heartRate   17.933485\n",
       "7     glucose   86.410566"
      ]
     },
     "execution_count": 74,
     "metadata": {},
     "output_type": "execute_result"
    }
   ],
   "source": [
    "best_continuous_feat = SelectKBest(f_classif, k=5)\n",
    "fit_cont = best_continuous_feat.fit(continuous_feat, y_train)\n",
    "f_scores_cont = pd.DataFrame(fit_cont.scores_)\n",
    "f_cols_cont = pd.DataFrame(continuous_feat.columns)\n",
    "features_scores_cont = pd.concat([f_cols_cont, f_scores_cont], axis=1)\n",
    "features_scores_cont.columns = ['feature', 'score']\n",
    "features_scores_cont"
   ]
  },
  {
   "cell_type": "markdown",
   "id": "26bd91aa",
   "metadata": {},
   "source": [
    "- from the EDA done above we've have also predicted that *currentSmoker* is NOT an important feature, and we see the same result here as well.\n",
    "- Same goes for *heartRate* feature as well.\n",
    "- So, dropping these features can help us build an effective model."
   ]
  },
  {
   "cell_type": "code",
   "execution_count": 75,
   "id": "5ca4c93e",
   "metadata": {},
   "outputs": [],
   "source": [
    "drop_feature = list(features_scores_cont[features_scores_cont['score']<50]['feature'])"
   ]
  },
  {
   "cell_type": "code",
   "execution_count": 76,
   "id": "d3ca1a42",
   "metadata": {},
   "outputs": [
    {
     "data": {
      "text/plain": [
       "['cigsPerDay', 'heartRate']"
      ]
     },
     "execution_count": 76,
     "metadata": {},
     "output_type": "execute_result"
    }
   ],
   "source": [
    "drop_feature"
   ]
  },
  {
   "cell_type": "markdown",
   "id": "f2a1c9e9",
   "metadata": {},
   "source": [
    "- Using *chi2* test for selecting nominal features."
   ]
  },
  {
   "cell_type": "code",
   "execution_count": 77,
   "id": "fc7c8ffc",
   "metadata": {},
   "outputs": [
    {
     "data": {
      "text/html": [
       "<div>\n",
       "<style scoped>\n",
       "    .dataframe tbody tr th:only-of-type {\n",
       "        vertical-align: middle;\n",
       "    }\n",
       "\n",
       "    .dataframe tbody tr th {\n",
       "        vertical-align: top;\n",
       "    }\n",
       "\n",
       "    .dataframe thead th {\n",
       "        text-align: right;\n",
       "    }\n",
       "</style>\n",
       "<table border=\"1\" class=\"dataframe\">\n",
       "  <thead>\n",
       "    <tr style=\"text-align: right;\">\n",
       "      <th></th>\n",
       "      <th>feature</th>\n",
       "      <th>score</th>\n",
       "    </tr>\n",
       "  </thead>\n",
       "  <tbody>\n",
       "    <tr>\n",
       "      <th>0</th>\n",
       "      <td>male</td>\n",
       "      <td>23.911877</td>\n",
       "    </tr>\n",
       "    <tr>\n",
       "      <th>1</th>\n",
       "      <td>currentSmoker</td>\n",
       "      <td>1.227878</td>\n",
       "    </tr>\n",
       "    <tr>\n",
       "      <th>2</th>\n",
       "      <td>BPMeds</td>\n",
       "      <td>39.510204</td>\n",
       "    </tr>\n",
       "    <tr>\n",
       "      <th>3</th>\n",
       "      <td>prevalentStroke</td>\n",
       "      <td>23.290323</td>\n",
       "    </tr>\n",
       "    <tr>\n",
       "      <th>4</th>\n",
       "      <td>prevalentHyp</td>\n",
       "      <td>190.262785</td>\n",
       "    </tr>\n",
       "    <tr>\n",
       "      <th>5</th>\n",
       "      <td>diabetes</td>\n",
       "      <td>90.414226</td>\n",
       "    </tr>\n",
       "  </tbody>\n",
       "</table>\n",
       "</div>"
      ],
      "text/plain": [
       "           feature       score\n",
       "0             male   23.911877\n",
       "1    currentSmoker    1.227878\n",
       "2           BPMeds   39.510204\n",
       "3  prevalentStroke   23.290323\n",
       "4     prevalentHyp  190.262785\n",
       "5         diabetes   90.414226"
      ]
     },
     "execution_count": 77,
     "metadata": {},
     "output_type": "execute_result"
    }
   ],
   "source": [
    "best_nominal_feat = SelectKBest(chi2, k=5)\n",
    "fit = best_nominal_feat.fit(nominal_feat, y_train)\n",
    "f_scores_nom = pd.DataFrame(fit.scores_)\n",
    "f_cols_nom = pd.DataFrame(nominal_feat.columns)\n",
    "features_scores_nom = pd.concat([f_cols_nom, f_scores_nom], axis=1)\n",
    "features_scores_nom.columns = ['feature', 'score']\n",
    "features_scores_nom"
   ]
  },
  {
   "cell_type": "code",
   "execution_count": 78,
   "id": "6829766d",
   "metadata": {},
   "outputs": [
    {
     "data": {
      "text/plain": [
       "90.4142259414226"
      ]
     },
     "execution_count": 78,
     "metadata": {},
     "output_type": "execute_result"
    }
   ],
   "source": [
    "features_scores_nom.iloc[5]['score']"
   ]
  },
  {
   "cell_type": "code",
   "execution_count": 79,
   "id": "3c9e55a9",
   "metadata": {},
   "outputs": [],
   "source": [
    "for i in range(len(features_scores_nom)):\n",
    "    if features_scores_nom.iloc[i]['score']<30:\n",
    "        drop_feature.append(features_scores_nom.iloc[i]['feature'])"
   ]
  },
  {
   "cell_type": "code",
   "execution_count": 80,
   "id": "9f2837f0",
   "metadata": {},
   "outputs": [
    {
     "data": {
      "text/plain": [
       "['cigsPerDay', 'heartRate', 'male', 'currentSmoker', 'prevalentStroke']"
      ]
     },
     "execution_count": 80,
     "metadata": {},
     "output_type": "execute_result"
    }
   ],
   "source": [
    "drop_feature"
   ]
  },
  {
   "cell_type": "markdown",
   "id": "a3c88655",
   "metadata": {},
   "source": [
    "- drop the **drop_feature**."
   ]
  },
  {
   "cell_type": "code",
   "execution_count": 81,
   "id": "cf911bdf",
   "metadata": {},
   "outputs": [
    {
     "data": {
      "text/html": [
       "<div>\n",
       "<style scoped>\n",
       "    .dataframe tbody tr th:only-of-type {\n",
       "        vertical-align: middle;\n",
       "    }\n",
       "\n",
       "    .dataframe tbody tr th {\n",
       "        vertical-align: top;\n",
       "    }\n",
       "\n",
       "    .dataframe thead th {\n",
       "        text-align: right;\n",
       "    }\n",
       "</style>\n",
       "<table border=\"1\" class=\"dataframe\">\n",
       "  <thead>\n",
       "    <tr style=\"text-align: right;\">\n",
       "      <th></th>\n",
       "      <th>age</th>\n",
       "      <th>BPMeds</th>\n",
       "      <th>prevalentHyp</th>\n",
       "      <th>diabetes</th>\n",
       "      <th>totChol</th>\n",
       "      <th>sysBP</th>\n",
       "      <th>diaBP</th>\n",
       "      <th>BMI</th>\n",
       "      <th>glucose</th>\n",
       "      <th>TenYearCHD</th>\n",
       "    </tr>\n",
       "    <tr>\n",
       "      <th>index</th>\n",
       "      <th></th>\n",
       "      <th></th>\n",
       "      <th></th>\n",
       "      <th></th>\n",
       "      <th></th>\n",
       "      <th></th>\n",
       "      <th></th>\n",
       "      <th></th>\n",
       "      <th></th>\n",
       "      <th></th>\n",
       "    </tr>\n",
       "  </thead>\n",
       "  <tbody>\n",
       "    <tr>\n",
       "      <th>1818</th>\n",
       "      <td>40.0</td>\n",
       "      <td>0.0</td>\n",
       "      <td>0.0</td>\n",
       "      <td>0.0</td>\n",
       "      <td>275.0</td>\n",
       "      <td>112.5</td>\n",
       "      <td>85.0</td>\n",
       "      <td>28.04</td>\n",
       "      <td>71.0</td>\n",
       "      <td>1.0</td>\n",
       "    </tr>\n",
       "    <tr>\n",
       "      <th>1007</th>\n",
       "      <td>47.0</td>\n",
       "      <td>0.0</td>\n",
       "      <td>1.0</td>\n",
       "      <td>0.0</td>\n",
       "      <td>236.0</td>\n",
       "      <td>154.0</td>\n",
       "      <td>93.0</td>\n",
       "      <td>24.49</td>\n",
       "      <td>76.0</td>\n",
       "      <td>1.0</td>\n",
       "    </tr>\n",
       "    <tr>\n",
       "      <th>995</th>\n",
       "      <td>49.0</td>\n",
       "      <td>0.0</td>\n",
       "      <td>0.0</td>\n",
       "      <td>0.0</td>\n",
       "      <td>256.0</td>\n",
       "      <td>127.5</td>\n",
       "      <td>81.5</td>\n",
       "      <td>28.21</td>\n",
       "      <td>85.0</td>\n",
       "      <td>1.0</td>\n",
       "    </tr>\n",
       "    <tr>\n",
       "      <th>1387</th>\n",
       "      <td>48.0</td>\n",
       "      <td>0.0</td>\n",
       "      <td>1.0</td>\n",
       "      <td>0.0</td>\n",
       "      <td>275.0</td>\n",
       "      <td>177.0</td>\n",
       "      <td>101.0</td>\n",
       "      <td>25.22</td>\n",
       "      <td>82.0</td>\n",
       "      <td>1.0</td>\n",
       "    </tr>\n",
       "    <tr>\n",
       "      <th>1195</th>\n",
       "      <td>42.0</td>\n",
       "      <td>0.0</td>\n",
       "      <td>1.0</td>\n",
       "      <td>0.0</td>\n",
       "      <td>327.0</td>\n",
       "      <td>134.0</td>\n",
       "      <td>93.0</td>\n",
       "      <td>25.14</td>\n",
       "      <td>72.0</td>\n",
       "      <td>1.0</td>\n",
       "    </tr>\n",
       "  </tbody>\n",
       "</table>\n",
       "</div>"
      ],
      "text/plain": [
       "        age  BPMeds  prevalentHyp  diabetes  totChol  sysBP  diaBP    BMI  \\\n",
       "index                                                                       \n",
       "1818   40.0     0.0           0.0       0.0    275.0  112.5   85.0  28.04   \n",
       "1007   47.0     0.0           1.0       0.0    236.0  154.0   93.0  24.49   \n",
       "995    49.0     0.0           0.0       0.0    256.0  127.5   81.5  28.21   \n",
       "1387   48.0     0.0           1.0       0.0    275.0  177.0  101.0  25.22   \n",
       "1195   42.0     0.0           1.0       0.0    327.0  134.0   93.0  25.14   \n",
       "\n",
       "       glucose  TenYearCHD  \n",
       "index                       \n",
       "1818      71.0         1.0  \n",
       "1007      76.0         1.0  \n",
       "995       85.0         1.0  \n",
       "1387      82.0         1.0  \n",
       "1195      72.0         1.0  "
      ]
     },
     "execution_count": 81,
     "metadata": {},
     "output_type": "execute_result"
    }
   ],
   "source": [
    "X_train_best_f = X_train_bal.drop(drop_feature, axis=1)\n",
    "X_train_best_f.set_index('index', inplace=True)\n",
    "X_train_best_f.head()"
   ]
  },
  {
   "cell_type": "code",
   "execution_count": 82,
   "id": "5db7a313",
   "metadata": {},
   "outputs": [
    {
     "data": {
      "text/plain": [
       "(5040, 10)"
      ]
     },
     "execution_count": 82,
     "metadata": {},
     "output_type": "execute_result"
    }
   ],
   "source": [
    "X_train_best_f.shape"
   ]
  },
  {
   "cell_type": "markdown",
   "id": "5405a2cd",
   "metadata": {},
   "source": [
    "2. **Handle imbalanced dataset**\n",
    "- Handling imbalanced dataset"
   ]
  },
  {
   "cell_type": "code",
   "execution_count": 83,
   "id": "f2876c30",
   "metadata": {},
   "outputs": [
    {
     "data": {
      "text/plain": [
       "1.0    2520\n",
       "0.0    2520\n",
       "Name: TenYearCHD, dtype: int64"
      ]
     },
     "execution_count": 83,
     "metadata": {},
     "output_type": "execute_result"
    }
   ],
   "source": [
    "y_train.value_counts()"
   ]
  },
  {
   "cell_type": "markdown",
   "id": "3968c2df",
   "metadata": {},
   "source": [
    "- so, the dataset is balanced."
   ]
  },
  {
   "cell_type": "markdown",
   "id": "d1ec9a43",
   "metadata": {},
   "source": [
    "3. **Handle the out liers**\n",
    "    - let's analyse the density distribution of each continuous feature in the dataset."
   ]
  },
  {
   "cell_type": "code",
   "execution_count": 84,
   "id": "10defa49",
   "metadata": {},
   "outputs": [
    {
     "data": {
      "text/plain": [
       "Index(['age', 'BPMeds', 'prevalentHyp', 'diabetes', 'totChol', 'sysBP',\n",
       "       'diaBP', 'BMI', 'glucose', 'TenYearCHD'],\n",
       "      dtype='object')"
      ]
     },
     "execution_count": 84,
     "metadata": {},
     "output_type": "execute_result"
    }
   ],
   "source": [
    "X_train_best_f.columns"
   ]
  },
  {
   "cell_type": "code",
   "execution_count": 85,
   "id": "7ca1a6f9",
   "metadata": {},
   "outputs": [
    {
     "data": {
      "text/plain": [
       "<AxesSubplot:xlabel='age', ylabel='Density'>"
      ]
     },
     "execution_count": 85,
     "metadata": {},
     "output_type": "execute_result"
    },
    {
     "data": {
      "image/png": "[encoded data removed]",
      "text/plain": [
       "<Figure size 432x288 with 1 Axes>"
      ]
     },
     "metadata": {
      "needs_background": "light"
     },
     "output_type": "display_data"
    }
   ],
   "source": [
    "sns.kdeplot(data=X_train_best_f['age'], shade=True)"
   ]
  },
  {
   "cell_type": "markdown",
   "id": "ae16ee18",
   "metadata": {},
   "source": [
    "*age* feature is almost normally distributed."
   ]
  },
  {
   "cell_type": "code",
   "execution_count": 86,
   "id": "a82ecdf5",
   "metadata": {},
   "outputs": [
    {
     "data": {
      "text/plain": [
       "<AxesSubplot:xlabel='totChol', ylabel='Density'>"
      ]
     },
     "execution_count": 86,
     "metadata": {},
     "output_type": "execute_result"
    },
    {
     "data": {
      "image/png": "[encoded data removed]",
      "text/plain": [
       "<Figure size 432x288 with 1 Axes>"
      ]
     },
     "metadata": {
      "needs_background": "light"
     },
     "output_type": "display_data"
    }
   ],
   "source": [
    "sns.kdeplot(data=X_train_best_f['totChol'], shade=True)"
   ]
  },
  {
   "cell_type": "code",
   "execution_count": 87,
   "id": "61d247f0",
   "metadata": {},
   "outputs": [
    {
     "data": {
      "text/plain": [
       "<AxesSubplot:xlabel='sysBP', ylabel='Density'>"
      ]
     },
     "execution_count": 87,
     "metadata": {},
     "output_type": "execute_result"
    },
    {
     "data": {
      "image/png": "[encoded data removed]",
      "text/plain": [
       "<Figure size 432x288 with 1 Axes>"
      ]
     },
     "metadata": {
      "needs_background": "light"
     },
     "output_type": "display_data"
    }
   ],
   "source": [
    "sns.kdeplot(data=X_train_best_f['sysBP'], shade=True)"
   ]
  },
  {
   "cell_type": "code",
   "execution_count": 89,
   "id": "681bdd1c",
   "metadata": {},
   "outputs": [
    {
     "data": {
      "text/plain": [
       "<AxesSubplot:xlabel='sysBP', ylabel='Density'>"
      ]
     },
     "execution_count": 89,
     "metadata": {},
     "output_type": "execute_result"
    },
    {
     "data": {
      "image/png": "[encoded data removed]",
      "text/plain": [
       "<Figure size 432x288 with 1 Axes>"
      ]
     },
     "metadata": {
      "needs_background": "light"
     },
     "output_type": "display_data"
    }
   ],
   "source": [
    "sns.kdeplot(data=X_train_best_f['sysBP'], shade=True)"
   ]
  },
  {
   "cell_type": "markdown",
   "id": "2b82d250",
   "metadata": {},
   "source": [
    "- Now the plot is more normally distributed."
   ]
  },
  {
   "cell_type": "code",
   "execution_count": 90,
   "id": "47cba506",
   "metadata": {},
   "outputs": [
    {
     "data": {
      "text/plain": [
       "<AxesSubplot:xlabel='diaBP', ylabel='Density'>"
      ]
     },
     "execution_count": 90,
     "metadata": {},
     "output_type": "execute_result"
    },
    {
     "data": {
      "image/png": "[encoded data removed]",
      "text/plain": [
       "<Figure size 432x288 with 1 Axes>"
      ]
     },
     "metadata": {
      "needs_background": "light"
     },
     "output_type": "display_data"
    }
   ],
   "source": [
    "sns.kdeplot(data=X_train_best_f['diaBP'], shade=True)"
   ]
  },
  {
   "cell_type": "code",
   "execution_count": 91,
   "id": "3b27ca2e",
   "metadata": {},
   "outputs": [
    {
     "data": {
      "text/plain": [
       "<AxesSubplot:xlabel='glucose', ylabel='Density'>"
      ]
     },
     "execution_count": 91,
     "metadata": {},
     "output_type": "execute_result"
    },
    {
     "data": {
      "image/png": "[encoded data removed]",
      "text/plain": [
       "<Figure size 432x288 with 1 Axes>"
      ]
     },
     "metadata": {
      "needs_background": "light"
     },
     "output_type": "display_data"
    }
   ],
   "source": [
    "sns.kdeplot(data=X_train_best_f['glucose'], shade=True)"
   ]
  },
  {
   "cell_type": "markdown",
   "id": "89bf3b3a",
   "metadata": {},
   "source": [
    "- There are hardly any outliers in the set of features.\n",
    "- Now, drop the same features for X_test as well, so that we are able to test our model."
   ]
  },
  {
   "cell_type": "code",
   "execution_count": 92,
   "id": "82a19bdd",
   "metadata": {},
   "outputs": [
    {
     "data": {
      "text/html": [
       "<div>\n",
       "<style scoped>\n",
       "    .dataframe tbody tr th:only-of-type {\n",
       "        vertical-align: middle;\n",
       "    }\n",
       "\n",
       "    .dataframe tbody tr th {\n",
       "        vertical-align: top;\n",
       "    }\n",
       "\n",
       "    .dataframe thead th {\n",
       "        text-align: right;\n",
       "    }\n",
       "</style>\n",
       "<table border=\"1\" class=\"dataframe\">\n",
       "  <thead>\n",
       "    <tr style=\"text-align: right;\">\n",
       "      <th></th>\n",
       "      <th>age</th>\n",
       "      <th>BPMeds</th>\n",
       "      <th>prevalentHyp</th>\n",
       "      <th>diabetes</th>\n",
       "      <th>totChol</th>\n",
       "      <th>sysBP</th>\n",
       "      <th>diaBP</th>\n",
       "      <th>BMI</th>\n",
       "      <th>glucose</th>\n",
       "      <th>TenYearCHD</th>\n",
       "    </tr>\n",
       "  </thead>\n",
       "  <tbody>\n",
       "    <tr>\n",
       "      <th>0</th>\n",
       "      <td>47.0</td>\n",
       "      <td>0.0</td>\n",
       "      <td>1.0</td>\n",
       "      <td>0.0</td>\n",
       "      <td>305.0</td>\n",
       "      <td>128.0</td>\n",
       "      <td>92.5</td>\n",
       "      <td>27.64</td>\n",
       "      <td>62.0</td>\n",
       "      <td>0.0</td>\n",
       "    </tr>\n",
       "    <tr>\n",
       "      <th>1</th>\n",
       "      <td>58.0</td>\n",
       "      <td>0.0</td>\n",
       "      <td>1.0</td>\n",
       "      <td>0.0</td>\n",
       "      <td>195.0</td>\n",
       "      <td>153.0</td>\n",
       "      <td>80.5</td>\n",
       "      <td>23.36</td>\n",
       "      <td>73.0</td>\n",
       "      <td>0.0</td>\n",
       "    </tr>\n",
       "    <tr>\n",
       "      <th>2</th>\n",
       "      <td>61.0</td>\n",
       "      <td>0.0</td>\n",
       "      <td>1.0</td>\n",
       "      <td>0.0</td>\n",
       "      <td>326.0</td>\n",
       "      <td>200.0</td>\n",
       "      <td>104.0</td>\n",
       "      <td>38.46</td>\n",
       "      <td>78.0</td>\n",
       "      <td>0.0</td>\n",
       "    </tr>\n",
       "    <tr>\n",
       "      <th>3</th>\n",
       "      <td>45.0</td>\n",
       "      <td>0.0</td>\n",
       "      <td>1.0</td>\n",
       "      <td>0.0</td>\n",
       "      <td>215.0</td>\n",
       "      <td>152.5</td>\n",
       "      <td>82.0</td>\n",
       "      <td>25.92</td>\n",
       "      <td>75.0</td>\n",
       "      <td>0.0</td>\n",
       "    </tr>\n",
       "    <tr>\n",
       "      <th>4</th>\n",
       "      <td>57.0</td>\n",
       "      <td>0.0</td>\n",
       "      <td>0.0</td>\n",
       "      <td>0.0</td>\n",
       "      <td>287.0</td>\n",
       "      <td>136.0</td>\n",
       "      <td>92.0</td>\n",
       "      <td>26.24</td>\n",
       "      <td>71.0</td>\n",
       "      <td>0.0</td>\n",
       "    </tr>\n",
       "  </tbody>\n",
       "</table>\n",
       "</div>"
      ],
      "text/plain": [
       "    age  BPMeds  prevalentHyp  diabetes  totChol  sysBP  diaBP    BMI  \\\n",
       "0  47.0     0.0           1.0       0.0    305.0  128.0   92.5  27.64   \n",
       "1  58.0     0.0           1.0       0.0    195.0  153.0   80.5  23.36   \n",
       "2  61.0     0.0           1.0       0.0    326.0  200.0  104.0  38.46   \n",
       "3  45.0     0.0           1.0       0.0    215.0  152.5   82.0  25.92   \n",
       "4  57.0     0.0           0.0       0.0    287.0  136.0   92.0  26.24   \n",
       "\n",
       "   glucose  TenYearCHD  \n",
       "0     62.0         0.0  \n",
       "1     73.0         0.0  \n",
       "2     78.0         0.0  \n",
       "3     75.0         0.0  \n",
       "4     71.0         0.0  "
      ]
     },
     "execution_count": 92,
     "metadata": {},
     "output_type": "execute_result"
    }
   ],
   "source": [
    "X_test.drop(drop_feature, axis=1, inplace=True)\n",
    "X_test.head()"
   ]
  },
  {
   "cell_type": "markdown",
   "id": "21c2a5cb",
   "metadata": {},
   "source": [
    "- Drop the target variables from both X_train_best_f and X_test:"
   ]
  },
  {
   "cell_type": "code",
   "execution_count": 93,
   "id": "880df65d",
   "metadata": {},
   "outputs": [],
   "source": [
    "X_train_best_f.drop('TenYearCHD', axis=1, inplace=True)\n",
    "X_test.drop('TenYearCHD', axis=1, inplace=True)"
   ]
  },
  {
   "cell_type": "markdown",
   "id": "9786422a",
   "metadata": {},
   "source": [
    "4. **Feature scaling**\n",
    "    - Scaling the features using *Standard Scaler*"
   ]
  },
  {
   "cell_type": "code",
   "execution_count": 94,
   "id": "07191f90",
   "metadata": {},
   "outputs": [],
   "source": [
    "scaler = StandardScaler()\n",
    "X_train_scaled = pd.DataFrame(scaler.fit_transform(X_train_best_f))\n",
    "X_train_scaled.columns = X_train_best_f.columns\n",
    "X_test_scaled = pd.DataFrame(scaler.transform(X_test))\n",
    "X_test_scaled.columns = X_test.columns"
   ]
  },
  {
   "cell_type": "code",
   "execution_count": 95,
   "id": "06b71130",
   "metadata": {},
   "outputs": [
    {
     "data": {
      "text/html": [
       "<div>\n",
       "<style scoped>\n",
       "    .dataframe tbody tr th:only-of-type {\n",
       "        vertical-align: middle;\n",
       "    }\n",
       "\n",
       "    .dataframe tbody tr th {\n",
       "        vertical-align: top;\n",
       "    }\n",
       "\n",
       "    .dataframe thead th {\n",
       "        text-align: right;\n",
       "    }\n",
       "</style>\n",
       "<table border=\"1\" class=\"dataframe\">\n",
       "  <thead>\n",
       "    <tr style=\"text-align: right;\">\n",
       "      <th></th>\n",
       "      <th>age</th>\n",
       "      <th>BPMeds</th>\n",
       "      <th>prevalentHyp</th>\n",
       "      <th>diabetes</th>\n",
       "      <th>totChol</th>\n",
       "      <th>sysBP</th>\n",
       "      <th>diaBP</th>\n",
       "      <th>BMI</th>\n",
       "      <th>glucose</th>\n",
       "    </tr>\n",
       "  </thead>\n",
       "  <tbody>\n",
       "    <tr>\n",
       "      <th>0</th>\n",
       "      <td>-1.328177</td>\n",
       "      <td>-0.201153</td>\n",
       "      <td>-0.802728</td>\n",
       "      <td>-0.223117</td>\n",
       "      <td>0.760645</td>\n",
       "      <td>-1.012213</td>\n",
       "      <td>0.067750</td>\n",
       "      <td>0.419235</td>\n",
       "      <td>-0.451086</td>\n",
       "    </tr>\n",
       "    <tr>\n",
       "      <th>1</th>\n",
       "      <td>-0.516008</td>\n",
       "      <td>-0.201153</td>\n",
       "      <td>1.245752</td>\n",
       "      <td>-0.223117</td>\n",
       "      <td>-0.095544</td>\n",
       "      <td>0.730357</td>\n",
       "      <td>0.690357</td>\n",
       "      <td>-0.412070</td>\n",
       "      <td>-0.290368</td>\n",
       "    </tr>\n",
       "    <tr>\n",
       "      <th>2</th>\n",
       "      <td>-0.283960</td>\n",
       "      <td>-0.201153</td>\n",
       "      <td>-0.802728</td>\n",
       "      <td>-0.223117</td>\n",
       "      <td>0.343527</td>\n",
       "      <td>-0.382368</td>\n",
       "      <td>-0.204640</td>\n",
       "      <td>0.459044</td>\n",
       "      <td>-0.001076</td>\n",
       "    </tr>\n",
       "    <tr>\n",
       "      <th>3</th>\n",
       "      <td>-0.399984</td>\n",
       "      <td>-0.201153</td>\n",
       "      <td>1.245752</td>\n",
       "      <td>-0.223117</td>\n",
       "      <td>0.760645</td>\n",
       "      <td>1.696119</td>\n",
       "      <td>1.312965</td>\n",
       "      <td>-0.241125</td>\n",
       "      <td>-0.097507</td>\n",
       "    </tr>\n",
       "    <tr>\n",
       "      <th>4</th>\n",
       "      <td>-1.096129</td>\n",
       "      <td>-0.201153</td>\n",
       "      <td>1.245752</td>\n",
       "      <td>-0.223117</td>\n",
       "      <td>1.902231</td>\n",
       "      <td>-0.109436</td>\n",
       "      <td>0.690357</td>\n",
       "      <td>-0.259859</td>\n",
       "      <td>-0.418942</td>\n",
       "    </tr>\n",
       "  </tbody>\n",
       "</table>\n",
       "</div>"
      ],
      "text/plain": [
       "        age    BPMeds  prevalentHyp  diabetes   totChol     sysBP     diaBP  \\\n",
       "0 -1.328177 -0.201153     -0.802728 -0.223117  0.760645 -1.012213  0.067750   \n",
       "1 -0.516008 -0.201153      1.245752 -0.223117 -0.095544  0.730357  0.690357   \n",
       "2 -0.283960 -0.201153     -0.802728 -0.223117  0.343527 -0.382368 -0.204640   \n",
       "3 -0.399984 -0.201153      1.245752 -0.223117  0.760645  1.696119  1.312965   \n",
       "4 -1.096129 -0.201153      1.245752 -0.223117  1.902231 -0.109436  0.690357   \n",
       "\n",
       "        BMI   glucose  \n",
       "0  0.419235 -0.451086  \n",
       "1 -0.412070 -0.290368  \n",
       "2  0.459044 -0.001076  \n",
       "3 -0.241125 -0.097507  \n",
       "4 -0.259859 -0.418942  "
      ]
     },
     "execution_count": 95,
     "metadata": {},
     "output_type": "execute_result"
    }
   ],
   "source": [
    "X_train_scaled.head()"
   ]
  },
  {
   "cell_type": "code",
   "execution_count": 96,
   "id": "9049b442",
   "metadata": {},
   "outputs": [
    {
     "data": {
      "text/html": [
       "<div>\n",
       "<style scoped>\n",
       "    .dataframe tbody tr th:only-of-type {\n",
       "        vertical-align: middle;\n",
       "    }\n",
       "\n",
       "    .dataframe tbody tr th {\n",
       "        vertical-align: top;\n",
       "    }\n",
       "\n",
       "    .dataframe thead th {\n",
       "        text-align: right;\n",
       "    }\n",
       "</style>\n",
       "<table border=\"1\" class=\"dataframe\">\n",
       "  <thead>\n",
       "    <tr style=\"text-align: right;\">\n",
       "      <th></th>\n",
       "      <th>age</th>\n",
       "      <th>BPMeds</th>\n",
       "      <th>prevalentHyp</th>\n",
       "      <th>diabetes</th>\n",
       "      <th>totChol</th>\n",
       "      <th>sysBP</th>\n",
       "      <th>diaBP</th>\n",
       "      <th>BMI</th>\n",
       "      <th>glucose</th>\n",
       "    </tr>\n",
       "  </thead>\n",
       "  <tbody>\n",
       "    <tr>\n",
       "      <th>0</th>\n",
       "      <td>-0.516008</td>\n",
       "      <td>-0.201153</td>\n",
       "      <td>1.245752</td>\n",
       "      <td>-0.223117</td>\n",
       "      <td>1.419252</td>\n",
       "      <td>-0.361373</td>\n",
       "      <td>0.651445</td>\n",
       "      <td>0.325567</td>\n",
       "      <td>-0.740378</td>\n",
       "    </tr>\n",
       "    <tr>\n",
       "      <th>1</th>\n",
       "      <td>0.760258</td>\n",
       "      <td>-0.201153</td>\n",
       "      <td>1.245752</td>\n",
       "      <td>-0.223117</td>\n",
       "      <td>-0.995640</td>\n",
       "      <td>0.688368</td>\n",
       "      <td>-0.282466</td>\n",
       "      <td>-0.676682</td>\n",
       "      <td>-0.386799</td>\n",
       "    </tr>\n",
       "    <tr>\n",
       "      <th>2</th>\n",
       "      <td>1.108330</td>\n",
       "      <td>-0.201153</td>\n",
       "      <td>1.245752</td>\n",
       "      <td>-0.223117</td>\n",
       "      <td>1.880277</td>\n",
       "      <td>2.661881</td>\n",
       "      <td>1.546442</td>\n",
       "      <td>2.859289</td>\n",
       "      <td>-0.226081</td>\n",
       "    </tr>\n",
       "    <tr>\n",
       "      <th>3</th>\n",
       "      <td>-0.748057</td>\n",
       "      <td>-0.201153</td>\n",
       "      <td>1.245752</td>\n",
       "      <td>-0.223117</td>\n",
       "      <td>-0.556569</td>\n",
       "      <td>0.667373</td>\n",
       "      <td>-0.165727</td>\n",
       "      <td>-0.077206</td>\n",
       "      <td>-0.322512</td>\n",
       "    </tr>\n",
       "    <tr>\n",
       "      <th>4</th>\n",
       "      <td>0.644233</td>\n",
       "      <td>-0.201153</td>\n",
       "      <td>-0.802728</td>\n",
       "      <td>-0.223117</td>\n",
       "      <td>1.024088</td>\n",
       "      <td>-0.025456</td>\n",
       "      <td>0.612532</td>\n",
       "      <td>-0.002272</td>\n",
       "      <td>-0.451086</td>\n",
       "    </tr>\n",
       "  </tbody>\n",
       "</table>\n",
       "</div>"
      ],
      "text/plain": [
       "        age    BPMeds  prevalentHyp  diabetes   totChol     sysBP     diaBP  \\\n",
       "0 -0.516008 -0.201153      1.245752 -0.223117  1.419252 -0.361373  0.651445   \n",
       "1  0.760258 -0.201153      1.245752 -0.223117 -0.995640  0.688368 -0.282466   \n",
       "2  1.108330 -0.201153      1.245752 -0.223117  1.880277  2.661881  1.546442   \n",
       "3 -0.748057 -0.201153      1.245752 -0.223117 -0.556569  0.667373 -0.165727   \n",
       "4  0.644233 -0.201153     -0.802728 -0.223117  1.024088 -0.025456  0.612532   \n",
       "\n",
       "        BMI   glucose  \n",
       "0  0.325567 -0.740378  \n",
       "1 -0.676682 -0.386799  \n",
       "2  2.859289 -0.226081  \n",
       "3 -0.077206 -0.322512  \n",
       "4 -0.002272 -0.451086  "
      ]
     },
     "execution_count": 96,
     "metadata": {},
     "output_type": "execute_result"
    }
   ],
   "source": [
    "X_test_scaled.head()"
   ]
  },
  {
   "cell_type": "markdown",
   "id": "34566787",
   "metadata": {},
   "source": [
    "## Model building and Evaluation"
   ]
  },
  {
   "cell_type": "code",
   "execution_count": 97,
   "id": "d385c3e4",
   "metadata": {},
   "outputs": [
    {
     "data": {
      "text/plain": [
       "(5040,)"
      ]
     },
     "execution_count": 97,
     "metadata": {},
     "output_type": "execute_result"
    }
   ],
   "source": [
    "y_train.shape"
   ]
  },
  {
   "cell_type": "code",
   "execution_count": 98,
   "id": "ba0a18cf",
   "metadata": {},
   "outputs": [],
   "source": [
    "model = LogisticRegression(random_state=0)\n",
    "model.fit(X_train_scaled, y_train)\n",
    "y_train_pred = model.predict(X_train_scaled)\n",
    "y_test_pred = model.predict(X_test_scaled)\n"
   ]
  },
  {
   "cell_type": "code",
   "execution_count": 99,
   "id": "4b52f824",
   "metadata": {},
   "outputs": [
    {
     "data": {
      "text/html": [
       "<div>\n",
       "<style scoped>\n",
       "    .dataframe tbody tr th:only-of-type {\n",
       "        vertical-align: middle;\n",
       "    }\n",
       "\n",
       "    .dataframe tbody tr th {\n",
       "        vertical-align: top;\n",
       "    }\n",
       "\n",
       "    .dataframe thead th {\n",
       "        text-align: right;\n",
       "    }\n",
       "</style>\n",
       "<table border=\"1\" class=\"dataframe\">\n",
       "  <thead>\n",
       "    <tr style=\"text-align: right;\">\n",
       "      <th></th>\n",
       "      <th>age</th>\n",
       "      <th>BPMeds</th>\n",
       "      <th>prevalentHyp</th>\n",
       "      <th>diabetes</th>\n",
       "      <th>totChol</th>\n",
       "      <th>sysBP</th>\n",
       "      <th>diaBP</th>\n",
       "      <th>BMI</th>\n",
       "      <th>glucose</th>\n",
       "    </tr>\n",
       "  </thead>\n",
       "  <tbody>\n",
       "    <tr>\n",
       "      <th>0</th>\n",
       "      <td>-0.516008</td>\n",
       "      <td>-0.201153</td>\n",
       "      <td>1.245752</td>\n",
       "      <td>-0.223117</td>\n",
       "      <td>1.419252</td>\n",
       "      <td>-0.361373</td>\n",
       "      <td>0.651445</td>\n",
       "      <td>0.325567</td>\n",
       "      <td>-0.740378</td>\n",
       "    </tr>\n",
       "    <tr>\n",
       "      <th>1</th>\n",
       "      <td>0.760258</td>\n",
       "      <td>-0.201153</td>\n",
       "      <td>1.245752</td>\n",
       "      <td>-0.223117</td>\n",
       "      <td>-0.995640</td>\n",
       "      <td>0.688368</td>\n",
       "      <td>-0.282466</td>\n",
       "      <td>-0.676682</td>\n",
       "      <td>-0.386799</td>\n",
       "    </tr>\n",
       "    <tr>\n",
       "      <th>2</th>\n",
       "      <td>1.108330</td>\n",
       "      <td>-0.201153</td>\n",
       "      <td>1.245752</td>\n",
       "      <td>-0.223117</td>\n",
       "      <td>1.880277</td>\n",
       "      <td>2.661881</td>\n",
       "      <td>1.546442</td>\n",
       "      <td>2.859289</td>\n",
       "      <td>-0.226081</td>\n",
       "    </tr>\n",
       "    <tr>\n",
       "      <th>3</th>\n",
       "      <td>-0.748057</td>\n",
       "      <td>-0.201153</td>\n",
       "      <td>1.245752</td>\n",
       "      <td>-0.223117</td>\n",
       "      <td>-0.556569</td>\n",
       "      <td>0.667373</td>\n",
       "      <td>-0.165727</td>\n",
       "      <td>-0.077206</td>\n",
       "      <td>-0.322512</td>\n",
       "    </tr>\n",
       "    <tr>\n",
       "      <th>4</th>\n",
       "      <td>0.644233</td>\n",
       "      <td>-0.201153</td>\n",
       "      <td>-0.802728</td>\n",
       "      <td>-0.223117</td>\n",
       "      <td>1.024088</td>\n",
       "      <td>-0.025456</td>\n",
       "      <td>0.612532</td>\n",
       "      <td>-0.002272</td>\n",
       "      <td>-0.451086</td>\n",
       "    </tr>\n",
       "  </tbody>\n",
       "</table>\n",
       "</div>"
      ],
      "text/plain": [
       "        age    BPMeds  prevalentHyp  diabetes   totChol     sysBP     diaBP  \\\n",
       "0 -0.516008 -0.201153      1.245752 -0.223117  1.419252 -0.361373  0.651445   \n",
       "1  0.760258 -0.201153      1.245752 -0.223117 -0.995640  0.688368 -0.282466   \n",
       "2  1.108330 -0.201153      1.245752 -0.223117  1.880277  2.661881  1.546442   \n",
       "3 -0.748057 -0.201153      1.245752 -0.223117 -0.556569  0.667373 -0.165727   \n",
       "4  0.644233 -0.201153     -0.802728 -0.223117  1.024088 -0.025456  0.612532   \n",
       "\n",
       "        BMI   glucose  \n",
       "0  0.325567 -0.740378  \n",
       "1 -0.676682 -0.386799  \n",
       "2  2.859289 -0.226081  \n",
       "3 -0.077206 -0.322512  \n",
       "4 -0.002272 -0.451086  "
      ]
     },
     "execution_count": 99,
     "metadata": {},
     "output_type": "execute_result"
    }
   ],
   "source": [
    "X_test_scaled.head()"
   ]
  },
  {
   "cell_type": "code",
   "execution_count": 100,
   "id": "c263c808",
   "metadata": {},
   "outputs": [
    {
     "name": "stdout",
     "output_type": "stream",
     "text": [
      "r2_score_train: -0.39444, r2_score_test: -1.488347\n"
     ]
    }
   ],
   "source": [
    "print('r2_score_train: %.5f, r2_score_test: %5f' % (r2_score(y_train, y_train_pred), r2_score(y_test, y_test_pred)))"
   ]
  },
  {
   "cell_type": "markdown",
   "id": "efc27434",
   "metadata": {},
   "source": [
    "- Plot confusion matrix"
   ]
  },
  {
   "cell_type": "code",
   "execution_count": 101,
   "id": "3b76112f",
   "metadata": {},
   "outputs": [
    {
     "data": {
      "image/png": "[encoded data removed]",
      "text/plain": [
       "<Figure size 432x288 with 2 Axes>"
      ]
     },
     "metadata": {
      "needs_background": "light"
     },
     "output_type": "display_data"
    },
    {
     "data": {
      "text/plain": [
       "array([[725, 349],\n",
       "       [ 67, 131]], dtype=int64)"
      ]
     },
     "execution_count": 101,
     "metadata": {},
     "output_type": "execute_result"
    }
   ],
   "source": [
    "conf_mat = confusion_matrix(y_true=y_test, y_pred=y_test_pred)\n",
    "labels = ['Class 0', 'Class 1']\n",
    "fig = plt.figure()\n",
    "ax = fig.add_subplot(111)\n",
    "cax = ax.matshow(conf_mat, cmap=plt.cm.Blues)\n",
    "fig.colorbar(cax)\n",
    "plt.xlabel('Predicted')\n",
    "plt.ylabel('Actual')\n",
    "plt.show()\n",
    "conf_mat"
   ]
  },
  {
   "cell_type": "code",
   "execution_count": 102,
   "id": "0e590350",
   "metadata": {},
   "outputs": [
    {
     "name": "stdout",
     "output_type": "stream",
     "text": [
      "TP: 131 \n",
      "FP: 349 \n",
      "TN: 725 \n",
      "FN: 67\n",
      "precision:  0.27291666666666664 \n",
      "recall:  0.6616161616161617\n",
      "F1_score:  0.3864306784660767\n"
     ]
    }
   ],
   "source": [
    "print('TP:', conf_mat[1][1], '\\nFP:', conf_mat[0][1], '\\nTN:', conf_mat[0][0], '\\nFN:', conf_mat[1][0], end='\\n')\n",
    "TP = conf_mat[1][1]\n",
    "FP = conf_mat[0][1]\n",
    "TN = conf_mat[0][0]\n",
    "FN = conf_mat[1][0]\n",
    "precision = TP/(TP+FP)\n",
    "recall = TP/(TP+FN)\n",
    "f1_score = 2*precision*recall/(precision+recall)\n",
    "print('precision: ', precision, '\\nrecall: ', recall)\n",
    "print('F1_score: ', f1_score)"
   ]
  },
  {
   "cell_type": "markdown",
   "id": "d3dd59eb",
   "metadata": {},
   "source": [
    "- Here false neagtive is 62; i.e we have predicted 62 people NOT having TenYearCHD but they actually have it. This is serious prblem, so we can't cling to F1_score, accuracy is preffered here.\n",
    "- In this dataset we have a distribution of 85% of class 0 and 15% of class 1. So a dummy model that predicts every case as 0 will have 85% accuracy.\n",
    "More than that, since this is a health related problem, our false negatives are way more important than our false positives since a false negative can cost someones life."
   ]
  },
  {
   "cell_type": "code",
   "execution_count": 103,
   "id": "89f3e775",
   "metadata": {},
   "outputs": [
    {
     "data": {
      "text/plain": [
       "0.6729559748427673"
      ]
     },
     "execution_count": 103,
     "metadata": {},
     "output_type": "execute_result"
    }
   ],
   "source": [
    "accuracy_score(y_test, y_test_pred)"
   ]
  },
  {
   "cell_type": "markdown",
   "id": "28f17a57",
   "metadata": {},
   "source": [
    "# Model's Accuracy: 67.2%"
   ]
  }
 ],
 "metadata": {
  "kernelspec": {
   "display_name": "heart_deisease_predictor",
   "language": "python",
   "name": "heart_deisease_predictor"
  },
  "language_info": {
   "codemirror_mode": {
    "name": "ipython",
    "version": 3
   },
   "file_extension": ".py",
   "mimetype": "text/x-python",
   "name": "python",
   "nbconvert_exporter": "python",
   "pygments_lexer": "ipython3",
   "version": "3.10.2"
  },
  "vscode": {
   "interpreter": {
    "hash": "fe3e2518d4d3c0fd2556922314093ff6b72d7b6f888a53267e559115009644cb"
   }
  }
 },
 "nbformat": 4,
 "nbformat_minor": 5
}
